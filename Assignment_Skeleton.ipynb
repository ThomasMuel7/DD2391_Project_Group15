{
 "cells": [
  {
   "cell_type": "markdown",
   "id": "623dda18-a2a3-49a3-804a-5d4265c9675a",
   "metadata": {},
   "source": [
    "# Post Quantum Cryptography"
   ]
  },
  {
   "cell_type": "markdown",
   "id": "cf1df0f9-6efe-4eed-9445-d8cd49114990",
   "metadata": {},
   "source": [
    "## Importing the required packages "
   ]
  },
  {
   "cell_type": "markdown",
   "id": "31e42a49-1e17-4c78-bc6b-0291b98a6ba9",
   "metadata": {},
   "source": [
    "**This lab will be done entirely in python**"
   ]
  },
  {
   "cell_type": "markdown",
   "id": "44a74313-2e92-46ca-b963-a34f79a43496",
   "metadata": {},
   "source": [
    "# I) What is RSA ?"
   ]
  },
  {
   "cell_type": "markdown",
   "id": "dbc9c478-e219-4e6b-a812-cb5fef7ad0aa",
   "metadata": {},
   "source": [
    "## a) Presentation of RSA (History)"
   ]
  },
  {
   "cell_type": "markdown",
   "id": "91f6b5b2-5699-446c-b802-b54009e80e3e",
   "metadata": {},
   "source": [
    "## b) Implementation of RSA (Algorithm)"
   ]
  },
  {
   "cell_type": "markdown",
   "id": "f73912b4-6fce-4eea-a6fb-b6b3fc10b099",
   "metadata": {},
   "source": [
    "## II) Can we crack RSA ?"
   ]
  },
  {
   "cell_type": "markdown",
   "id": "b63f947d-3527-4514-a25c-65a648dfbe72",
   "metadata": {},
   "source": [
    "### II.I) Brute Force"
   ]
  },
  {
   "cell_type": "markdown",
   "id": "2ee6d653-ec59-40ce-990a-dca7d8395cdc",
   "metadata": {},
   "source": [
    "### II.II) The GNFS Algorithm"
   ]
  },
  {
   "cell_type": "markdown",
   "id": "7cbe2978-6539-4e64-9c7b-09daed509553",
   "metadata": {},
   "source": [
    "#### Story of the GNFS"
   ]
  },
  {
   "cell_type": "markdown",
   "id": "cc51d0b3-8b26-4c89-8396-afadf54735ee",
   "metadata": {},
   "source": [
    "#### The algorithm & Code in python"
   ]
  },
  {
   "cell_type": "markdown",
   "id": "90935a90-33b3-41eb-b03a-7dbc252da6f7",
   "metadata": {},
   "source": [
    "## III) Foundations of Quantum Physics"
   ]
  },
  {
   "cell_type": "markdown",
   "id": "b2ea210a-d121-406b-bdc6-7161f22621ab",
   "metadata": {},
   "source": [
    "### Brief Introduction"
   ]
  },
  {
   "cell_type": "markdown",
   "id": "822364d4-5676-4da4-8fec-7a66595da4d2",
   "metadata": {},
   "source": [
    "### Superposition and no-cloning theorem"
   ]
  },
  {
   "cell_type": "markdown",
   "id": "5ced1bdb-c508-4e58-9674-f75304fa7b99",
   "metadata": {},
   "source": [
    "### Entanglement"
   ]
  },
  {
   "cell_type": "markdown",
   "id": "9e1a49f6-6764-4021-8f98-30c2dcc07946",
   "metadata": {},
   "source": [
    "## IV) Discover the Quantum Computers"
   ]
  },
  {
   "cell_type": "markdown",
   "id": "74718406-6ecf-480b-b7a0-4e43655582f0",
   "metadata": {},
   "source": [
    "### What is a quantum computer"
   ]
  },
  {
   "cell_type": "markdown",
   "id": "a1aefbd9-934d-4a8d-956e-7764adf1865b",
   "metadata": {},
   "source": [
    "### What is a qubit & how to measure a state ?"
   ]
  },
  {
   "cell_type": "markdown",
   "id": "b77bbb7e-35a1-41ba-8d8d-869a0dba3f8c",
   "metadata": {},
   "source": [
    "### Quantum Circuits & Gates"
   ]
  },
  {
   "cell_type": "markdown",
   "id": "f6e31b4a-f537-41c6-9642-7bd14eea2662",
   "metadata": {},
   "source": [
    "### Advanced Concepts and Further Reading"
   ]
  },
  {
   "cell_type": "markdown",
   "id": "a7659155-707b-4d7c-9ef4-65d298c73c97",
   "metadata": {},
   "source": [
    "#### Relaxation (T1) and Decoherence (T2) times in quantum world"
   ]
  },
  {
   "cell_type": "markdown",
   "id": "794382ca-54d3-4236-a887-5d537cf3229f",
   "metadata": {},
   "source": [
    "#### Further reading"
   ]
  },
  {
   "cell_type": "markdown",
   "id": "d67c93cd-d6ff-4501-bdda-41415aa429de",
   "metadata": {},
   "source": [
    "## V) Setting up our first algorithm for quantum computers"
   ]
  },
  {
   "cell_type": "markdown",
   "id": "1459f287-7b2a-444d-9218-bf72766244c4",
   "metadata": {},
   "source": [
    "### Setting up qiskit"
   ]
  },
  {
   "cell_type": "markdown",
   "id": "d8bbaba0-45a4-4bcd-b416-d9fb0b334d34",
   "metadata": {},
   "source": [
    "### First Algorithm (QRNG)"
   ]
  },
  {
   "cell_type": "markdown",
   "id": "5c793bb9-2db9-4b83-aec3-cb7a3ea85e67",
   "metadata": {},
   "source": [
    "## VI) Crack RSA with Quantum Computers"
   ]
  },
  {
   "cell_type": "markdown",
   "id": "6ec405b7-e841-4ae0-90eb-caf2d6c6a361",
   "metadata": {},
   "source": [
    "### Shor Algorithm\n"
   ]
  },
  {
   "cell_type": "markdown",
   "id": "53684c99-b5f2-49b9-b387-18758088aaee",
   "metadata": {},
   "source": [
    "### Step-by-Step Tutorial: Implementing Shor's Algorithm in Qiskit"
   ]
  },
  {
   "cell_type": "markdown",
   "id": "7bd28b26-de7d-404a-8dca-fe569b46cddf",
   "metadata": {},
   "source": [
    "## VII) Is security of our data compromised ?"
   ]
  },
  {
   "cell_type": "markdown",
   "id": "a32c514b-a02a-47fd-85e2-2a9927bd6acb",
   "metadata": {},
   "source": [
    "### Quantum Computers are yet not powerful enough"
   ]
  },
  {
   "cell_type": "markdown",
   "id": "d59315e8-473e-4ba9-b171-84ebb2d6de42",
   "metadata": {},
   "source": [
    "### Classical methods such as Elliptic Curve Cryptography cannot be crack by quantum computers (yet)"
   ]
  },
  {
   "cell_type": "markdown",
   "id": "7893f131-98bc-4481-a582-715df24adce3",
   "metadata": {},
   "source": [
    "### Quantum Cryptography based on superposition and entanglement (Bell's Pairs)"
   ]
  },
  {
   "cell_type": "markdown",
   "id": "85ae9bc5-e6cd-4e55-9df0-fcdd63b1f647",
   "metadata": {},
   "source": [
    "#### You are done with this lab ! Hope you liked it that and you have learned a bit more about cryptography today and the quantum world!"
   ]
  }
 ],
 "metadata": {
  "kernelspec": {
   "display_name": "Python 3 (ipykernel)",
   "language": "python",
   "name": "python3"
  },
  "language_info": {
   "codemirror_mode": {
    "name": "ipython",
    "version": 3
   },
   "file_extension": ".py",
   "mimetype": "text/x-python",
   "name": "python",
   "nbconvert_exporter": "python",
   "pygments_lexer": "ipython3",
   "version": "3.13.5"
  }
 },
 "nbformat": 4,
 "nbformat_minor": 5
}
