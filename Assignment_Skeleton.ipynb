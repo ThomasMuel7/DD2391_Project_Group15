{
 "cells": [
  {
   "cell_type": "markdown",
   "id": "623dda18-a2a3-49a3-804a-5d4265c9675a",
   "metadata": {},
   "source": [
    "# Post Quantum Cryptography"
   ]
  },
  {
   "cell_type": "markdown",
   "id": "cf1df0f9-6efe-4eed-9445-d8cd49114990",
   "metadata": {},
   "source": [
    "## Importing the required packages "
   ]
  },
  {
   "cell_type": "markdown",
   "id": "31e42a49-1e17-4c78-bc6b-0291b98a6ba9",
   "metadata": {},
   "source": [
    "**This lab will be done entirely in python**"
   ]
  },
  {
   "cell_type": "markdown",
   "id": "44a74313-2e92-46ca-b963-a34f79a43496",
   "metadata": {},
   "source": [
    "# I) What is RSA ?"
   ]
  },
  {
   "cell_type": "markdown",
   "id": "dbc9c478-e219-4e6b-a812-cb5fef7ad0aa",
   "metadata": {},
   "source": [
    "## a) Presentation of RSA (History)"
   ]
  },
  {
   "cell_type": "markdown",
   "id": "88995108-b076-4145-8420-573183ae3e55",
   "metadata": {},
   "source": [
    "Before the 1970s, all cryptography relied on shared secret keys (symmetric encryption). But this raised a major problem: how could the secret key be exchanged securely if enemies were listening?\n",
    "In response to it, in 1976, Whitfield Diffie and Martin Hellman published New Directions in Cryptography by introducing the idea of a public key to encrypt and a private key to decrypt so no need to secretly exchange keys in advance.\n",
    "Building on this, researchers realized that multiplying two large prime numbers was a simple task, whereas factoring their product back into its prime components was extremely difficult.\n",
    "This property, known as a “one-way function,” provided exactly the mathematical foundation needed for a secure encryption system. In 1977, Rivest, Shamir, and Adleman transformed this insight into a practical algorithm, which became known as RSA, named after their initials."
   ]
  },
  {
   "cell_type": "markdown",
   "id": "91f6b5b2-5699-446c-b802-b54009e80e3e",
   "metadata": {},
   "source": [
    "## b) Implementation of RSA (Algorithm)"
   ]
  },
  {
   "cell_type": "markdown",
   "id": "f73912b4-6fce-4eea-a6fb-b6b3fc10b099",
   "metadata": {},
   "source": [
    "## II) Can we crack RSA ?"
   ]
  },
  {
   "cell_type": "markdown",
   "id": "b63f947d-3527-4514-a25c-65a648dfbe72",
   "metadata": {},
   "source": [
    "### II.I) Brute Force"
   ]
  },
  {
   "cell_type": "markdown",
   "id": "2ee6d653-ec59-40ce-990a-dca7d8395cdc",
   "metadata": {},
   "source": [
    "### II.II) The GNFS Algorithm"
   ]
  },
  {
   "cell_type": "markdown",
   "id": "7cbe2978-6539-4e64-9c7b-09daed509553",
   "metadata": {},
   "source": [
    "#### Story of the GNFS"
   ]
  },
  {
   "cell_type": "markdown",
   "id": "cc51d0b3-8b26-4c89-8396-afadf54735ee",
   "metadata": {},
   "source": [
    "#### The algorithm & Code in python"
   ]
  },
  {
   "cell_type": "markdown",
   "id": "90935a90-33b3-41eb-b03a-7dbc252da6f7",
   "metadata": {},
   "source": [
    "## III) Foundations of Quantum Physics"
   ]
  },
  {
   "cell_type": "markdown",
   "id": "b2ea210a-d121-406b-bdc6-7161f22621ab",
   "metadata": {},
   "source": [
    "### Brief Introduction"
   ]
  },
  {
   "cell_type": "markdown",
   "id": "822364d4-5676-4da4-8fec-7a66595da4d2",
   "metadata": {},
   "source": [
    "### Superposition and no-cloning theorem"
   ]
  },
  {
   "cell_type": "markdown",
   "id": "5ced1bdb-c508-4e58-9674-f75304fa7b99",
   "metadata": {},
   "source": [
    "### Entanglement"
   ]
  },
  {
   "cell_type": "markdown",
   "id": "9e1a49f6-6764-4021-8f98-30c2dcc07946",
   "metadata": {},
   "source": [
    "## IV) Discover the Quantum Computers"
   ]
  },
  {
   "cell_type": "markdown",
   "id": "74718406-6ecf-480b-b7a0-4e43655582f0",
   "metadata": {},
   "source": [
    "### What is a quantum computer"
   ]
  },
  {
   "cell_type": "markdown",
   "id": "a1aefbd9-934d-4a8d-956e-7764adf1865b",
   "metadata": {},
   "source": [
    "### What is a qubit & how to measure a state ?"
   ]
  },
  {
   "cell_type": "markdown",
   "id": "b77bbb7e-35a1-41ba-8d8d-869a0dba3f8c",
   "metadata": {},
   "source": [
    "### Quantum Circuits & Gates"
   ]
  },
  {
   "cell_type": "markdown",
   "id": "f6e31b4a-f537-41c6-9642-7bd14eea2662",
   "metadata": {},
   "source": [
    "### Advanced Concepts and Further Reading"
   ]
  },
  {
   "cell_type": "markdown",
   "id": "a7659155-707b-4d7c-9ef4-65d298c73c97",
   "metadata": {},
   "source": [
    "#### Relaxation (T1) and Decoherence (T2) times in quantum world"
   ]
  },
  {
   "cell_type": "markdown",
   "id": "794382ca-54d3-4236-a887-5d537cf3229f",
   "metadata": {},
   "source": [
    "#### Further reading"
   ]
  },
  {
   "cell_type": "markdown",
   "id": "d67c93cd-d6ff-4501-bdda-41415aa429de",
   "metadata": {},
   "source": [
    "## V) Setting up our first algorithm for quantum computers"
   ]
  },
  {
   "cell_type": "markdown",
   "id": "1459f287-7b2a-444d-9218-bf72766244c4",
   "metadata": {},
   "source": [
    "### Setting up qiskit"
   ]
  },
  {
   "cell_type": "markdown",
   "id": "ff5962cb-0032-4cf5-8b4a-2ccf23996b00",
   "metadata": {},
   "source": [
    "Here is a function to run your circuit on a simulator"
   ]
  },
  {
   "cell_type": "markdown",
   "id": "820c6540-52af-4ceb-8d3a-411de17555f8",
   "metadata": {},
   "source": [
    "We will be running the functions on a quantum computer simulator so you don't have to setup a IBM qiskit account. All the required packages are already installed. If you want to run your code on a real quantum hardware we advice you to follow the steps [here](https://canvas.kth.se/courses/56029/pages/tutorial-ibm-quantum-platform-upgraded-login-api-key-and-your-first-run-bell-pair?module_item_id=1256103)."
   ]
  },
  {
   "cell_type": "code",
   "execution_count": 1,
   "id": "39c5f8a7-e188-4d6f-8a96-62f96d1c93e6",
   "metadata": {},
   "outputs": [],
   "source": [
    "def run_simulation(qc, shots=1024):\n",
    "    simulator = AerSimulator()\n",
    "    compiled_circuit = transpile(qc, simulator)\n",
    "    job = simulator.run(compiled_circuit, shots=shots)\n",
    "    result = job.result()\n",
    "    counts = result.get_counts()\n",
    "    return counts"
   ]
  },
  {
   "cell_type": "markdown",
   "id": "3cb06902-cabe-4892-8671-31bd79be8fc4",
   "metadata": {},
   "source": [
    "### First Algorithm (QRNG)"
   ]
  },
  {
   "cell_type": "markdown",
   "id": "1d660625-265e-4920-915b-f5c8de83bfc6",
   "metadata": {},
   "source": [
    "In **quantum computing**, one of the simplest yet most powerful applications is the generation of **random numbers**.  \n",
    "\n",
    "In **classical computing**, we usually rely on *pseudo-random number generators (PRNGs)*.  \n",
    "These algorithms create numbers that **look random**, but they are ultimately **deterministic** if the algorithm and the initial seed are known.\n",
    "\n",
    "---\n",
    "\n",
    "#### How the Algorithm Works\n",
    "\n",
    "Think of a **qubit** like a magic coin:\n",
    "\n",
    "1. **Start:**  \n",
    "   It’s set to heads ($|0⟩$) by default.\n",
    "\n",
    "2. **Hadamard gate (H):**  \n",
    "   This is like spinning the coin perfectly.  \n",
    "   While it’s spinning, it’s in a **superposition**, not just heads or tails, but both at once.\n",
    "\n",
    "3. **Measure:**  \n",
    "   You “catch” the coin. The spin stops, and it becomes either heads or tails.  \n",
    "   In quantum terms, the qubit **collapses** to $0$ or $1$, each with a 50% chance.\n",
    "\n",
    "If you **spin and measure** the qubit many times, you get a list of 0s and 1s that’s **truly random**. In our case we are going to use 3 qubits to directly form a number of 3 bits.\n",
    "\n",
    "That’s a **Quantum Random Number Generator (QRNG)**. \n",
    "\n",
    "Now we have to try to implement it.\n"
   ]
  },
  {
   "cell_type": "markdown",
   "id": "dfb2f481-1791-45fc-ad8b-04038efb8997",
   "metadata": {},
   "source": [
    "First we have to create a circuit"
   ]
  },
  {
   "cell_type": "code",
   "execution_count": 2,
   "id": "37d9d598-8ad1-4077-aa04-c191fe2f37e1",
   "metadata": {},
   "outputs": [
    {
     "ename": "NameError",
     "evalue": "name 'QuantumCircuit' is not defined",
     "output_type": "error",
     "traceback": [
      "\u001b[0;31m---------------------------------------------------------------------------\u001b[0m",
      "\u001b[0;31mNameError\u001b[0m                                 Traceback (most recent call last)",
      "Cell \u001b[0;32mIn[2], line 2\u001b[0m\n\u001b[1;32m      1\u001b[0m n \u001b[38;5;241m=\u001b[39m \u001b[38;5;241m3\u001b[39m\n\u001b[0;32m----> 2\u001b[0m qc \u001b[38;5;241m=\u001b[39m QuantumCircuit(n)\n",
      "\u001b[0;31mNameError\u001b[0m: name 'QuantumCircuit' is not defined"
     ]
    }
   ],
   "source": [
    "n = 3\n",
    "qc = QuantumCircuit(n) #We use the QuantumCircuit primitive and specify the number of qubits\n",
    "# The initial state of the cicuit is every qubit in state 0"
   ]
  },
  {
   "cell_type": "markdown",
   "id": "cf65aeb0-2226-42c2-856d-677137014cf8",
   "metadata": {},
   "source": [
    "Then we have to add the gates we are going to use on the qubits"
   ]
  },
  {
   "cell_type": "code",
   "execution_count": 3,
   "id": "c1f053ad-dcd0-4a6c-8304-0f9d4d72def6",
   "metadata": {},
   "outputs": [
    {
     "ename": "NameError",
     "evalue": "name 'qc' is not defined",
     "output_type": "error",
     "traceback": [
      "\u001b[0;31m---------------------------------------------------------------------------\u001b[0m",
      "\u001b[0;31mNameError\u001b[0m                                 Traceback (most recent call last)",
      "Cell \u001b[0;32mIn[3], line 2\u001b[0m\n\u001b[1;32m      1\u001b[0m \u001b[38;5;28;01mfor\u001b[39;00m i \u001b[38;5;129;01min\u001b[39;00m \u001b[38;5;28mrange\u001b[39m(n):\n\u001b[0;32m----> 2\u001b[0m     qc\u001b[38;5;241m.\u001b[39mh(i)\n",
      "\u001b[0;31mNameError\u001b[0m: name 'qc' is not defined"
     ]
    }
   ],
   "source": [
    "for i in range(n):\n",
    "    qc.h(i) #We apply the hadamard gate on every qubit as seen in the algorithm before\n",
    "    # This will put every qubit in superposition (like spinning a coin)"
   ]
  },
  {
   "cell_type": "markdown",
   "id": "7a30464f-8ba5-45a0-952a-77a926bfb21c",
   "metadata": {},
   "source": [
    "Then we have to measure the state of the qubits "
   ]
  },
  {
   "cell_type": "code",
   "execution_count": 4,
   "id": "a79a8432-8f67-415d-bf96-bb017054a6b4",
   "metadata": {},
   "outputs": [
    {
     "ename": "NameError",
     "evalue": "name 'qc' is not defined",
     "output_type": "error",
     "traceback": [
      "\u001b[0;31m---------------------------------------------------------------------------\u001b[0m",
      "\u001b[0;31mNameError\u001b[0m                                 Traceback (most recent call last)",
      "Cell \u001b[0;32mIn[4], line 1\u001b[0m\n\u001b[0;32m----> 1\u001b[0m qc\u001b[38;5;241m.\u001b[39mmeasure_all(n)\n",
      "\u001b[0;31mNameError\u001b[0m: name 'qc' is not defined"
     ]
    }
   ],
   "source": [
    "qc.measure_all(n) #We use this function because we want to measure all the qubits. This will collapse the state of one qubit to be 0 or 1 \n",
    "# and store the result in a so called measuring bit"
   ]
  },
  {
   "cell_type": "markdown",
   "id": "dda9df73-3751-42df-a933-482bf75590fd",
   "metadata": {},
   "source": [
    "We can visualise the circuit"
   ]
  },
  {
   "cell_type": "code",
   "execution_count": 5,
   "id": "972e1f99-3b4a-45f9-a96a-2027ad9a027f",
   "metadata": {},
   "outputs": [
    {
     "ename": "NameError",
     "evalue": "name 'qc' is not defined",
     "output_type": "error",
     "traceback": [
      "\u001b[0;31m---------------------------------------------------------------------------\u001b[0m",
      "\u001b[0;31mNameError\u001b[0m                                 Traceback (most recent call last)",
      "Cell \u001b[0;32mIn[5], line 1\u001b[0m\n\u001b[0;32m----> 1\u001b[0m qc\u001b[38;5;241m.\u001b[39mdraw(\u001b[38;5;124m'\u001b[39m\u001b[38;5;124mmpl\u001b[39m\u001b[38;5;124m'\u001b[39m)\n",
      "\u001b[0;31mNameError\u001b[0m: name 'qc' is not defined"
     ]
    }
   ],
   "source": [
    "qc.draw('mpl')"
   ]
  },
  {
   "cell_type": "markdown",
   "id": "a6ad88b3-0d4e-4259-8175-771e9e8de583",
   "metadata": {},
   "source": [
    "Then we have to run the simulation. We have to run the simulation many times to have good results. In fact, each run of a quantum circuit gives only **one random outcome** (e.g., `0` or `1`). Because quantum results are **probabilistic**, we must repeat the circuit many times (called *shots*) to estimate the **true probabilities** of each outcome (More runs = more accurate results). In our case we will run the simulation 1024 times."
   ]
  },
  {
   "cell_type": "code",
   "execution_count": null,
   "id": "a0a36914-9761-40e1-a3ab-b3342a27356f",
   "metadata": {},
   "outputs": [],
   "source": [
    "results = run_simulation(qc, shots=1024)\n",
    "print(results)"
   ]
  },
  {
   "cell_type": "markdown",
   "id": "569f3ef3-85c4-43c9-9433-c0f51c89832d",
   "metadata": {},
   "source": [
    "The result is a dictionnary with key an output of a simulation and value how many time this value appeared during all the 1024 simulations. But this isn't a good way to visualise it. It would be more representative with a plot. Fortunately qiskit has a way to do it with 'plot_histogram'."
   ]
  },
  {
   "cell_type": "code",
   "execution_count": 6,
   "id": "6a66fdc1-f1be-48e4-aeef-e07b714c0022",
   "metadata": {},
   "outputs": [
    {
     "ename": "NameError",
     "evalue": "name 'plot_histogram' is not defined",
     "output_type": "error",
     "traceback": [
      "\u001b[0;31m---------------------------------------------------------------------------\u001b[0m",
      "\u001b[0;31mNameError\u001b[0m                                 Traceback (most recent call last)",
      "Cell \u001b[0;32mIn[6], line 1\u001b[0m\n\u001b[0;32m----> 1\u001b[0m plot_histogram(results)\n",
      "\u001b[0;31mNameError\u001b[0m: name 'plot_histogram' is not defined"
     ]
    }
   ],
   "source": [
    "plot_histogram(results)"
   ]
  },
  {
   "cell_type": "markdown",
   "id": "9fbbf87b-1044-44c9-9fe0-f7441286e2d5",
   "metadata": {},
   "source": [
    "We can see that the outcome is truly random making each 3 bits numbers equally likely. We really have implemented a quantum random generator."
   ]
  },
  {
   "cell_type": "markdown",
   "id": "5c793bb9-2db9-4b83-aec3-cb7a3ea85e67",
   "metadata": {},
   "source": [
    "## VI) Crack RSA with Quantum Computers"
   ]
  },
  {
   "cell_type": "markdown",
   "id": "6ec405b7-e841-4ae0-90eb-caf2d6c6a361",
   "metadata": {},
   "source": [
    "### Shor Algorithm\n"
   ]
  },
  {
   "cell_type": "markdown",
   "id": "53684c99-b5f2-49b9-b387-18758088aaee",
   "metadata": {},
   "source": [
    "### Step-by-Step Tutorial: Implementing Shor's Algorithm in Qiskit"
   ]
  },
  {
   "cell_type": "markdown",
   "id": "7bd28b26-de7d-404a-8dca-fe569b46cddf",
   "metadata": {},
   "source": [
    "## VII) Is security of our data compromised ?"
   ]
  },
  {
   "cell_type": "markdown",
   "id": "a32c514b-a02a-47fd-85e2-2a9927bd6acb",
   "metadata": {},
   "source": [
    "### Quantum Computers are yet not powerful enough"
   ]
  },
  {
   "cell_type": "code",
   "execution_count": null,
   "id": "2b4163bd-ae0e-4ce2-a6cb-6eb2b819e2ff",
   "metadata": {},
   "outputs": [],
   "source": [
    "Although Shor’s algorithm provides a polynomial-time method for integer factorization, its practical application is severely limited by the current state of quantum hardware. Experimental demonstrations have so far only managed to factor very small numbers, with the most reliable implementations handling integers such as **15** and **21**.  \n",
    "\n",
    "**Guess what?** *YOU have implemented a circuit that factors 15!* So you officially belong to the elite ranks of quantum computing pioneers :).\n",
    "\n",
    "These results validate the algorithm but highlight the vast gap between theoretical capability and cryptographically relevant problem sizes.\n",
    "\n",
    "Estimates for breaking a **2048-bit RSA modulus** remain far beyond present technology. Factoring such a number is projected to require approximately **20 million physical qubits** when error correction overhead is considered. Even with algorithmic optimizations, the requirement is unlikely to fall below **one million physical qubits**. By contrast, the most advanced hardware currently available contains just over **1,000 qubits** (such as IBM’s *Condor* processor with **1,121 qubits**), underscoring the enormous gap between experimental capability and the resources required to compromise RSA in practice.  \n",
    "\n",
    "The circuit depth of Shor’s algorithm scales quadratically with the key size, and at this scale, execution would demand **trillions of sequential quantum gate operations**—orders of magnitude beyond the **coherence times of existing devices** (IBM's best hardware has a coherence time of **400 microseconds**). In addition, the total energy expenditure for such a computation has been estimated in the **tens of megawatt-hours**, comparable to the continuous operation of a small industrial facility.\n",
    "\n",
    "In summary, while RSA is theoretically vulnerable to quantum factorization, the hardware required to execute such an attack does not yet exist. Present-day quantum computers remain **millions of qubits** and several technological breakthroughs away from posing a realistic threat to widely used cryptographic key sizes."
   ]
  },
  {
   "cell_type": "markdown",
   "id": "d59315e8-473e-4ba9-b171-84ebb2d6de42",
   "metadata": {},
   "source": [
    "### Classical methods such as Elliptic Curve Cryptography cannot be crack by quantum computers (yet)"
   ]
  },
  {
   "cell_type": "markdown",
   "id": "7893f131-98bc-4481-a582-715df24adce3",
   "metadata": {},
   "source": [
    "### Quantum Cryptography based on superposition and entanglement (Bell's Pairs)"
   ]
  },
  {
   "cell_type": "markdown",
   "id": "85ae9bc5-e6cd-4e55-9df0-fcdd63b1f647",
   "metadata": {},
   "source": [
    "#### You are done with this lab ! Hope you liked it that and you have learned a bit more about cryptography today and the quantum world!"
   ]
  }
 ],
 "metadata": {
  "kernelspec": {
   "display_name": "Python 3 (ipykernel)",
   "language": "python",
   "name": "python3"
  },
  "language_info": {
   "codemirror_mode": {
    "name": "ipython",
    "version": 3
   },
   "file_extension": ".py",
   "mimetype": "text/x-python",
   "name": "python",
   "nbconvert_exporter": "python",
   "pygments_lexer": "ipython3",
   "version": "3.12.2"
  }
 },
 "nbformat": 4,
 "nbformat_minor": 5
}
