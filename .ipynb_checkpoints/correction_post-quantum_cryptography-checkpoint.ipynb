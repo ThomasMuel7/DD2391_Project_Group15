{
 "cells": [
  {
   "cell_type": "markdown",
   "id": "623dda18-a2a3-49a3-804a-5d4265c9675a",
   "metadata": {},
   "source": [
    "# Post Quantum Cryptography"
   ]
  },
  {
   "cell_type": "markdown",
   "id": "09758c29-a656-4bca-9b3b-cf2a34d9e8aa",
   "metadata": {},
   "source": [
    "<img src=\"images/quantum_intro.webp\" alt=\"Description\" width=\"800\" height=\"800\"/>"
   ]
  },
  {
   "cell_type": "markdown",
   "id": "cf1df0f9-6efe-4eed-9445-d8cd49114990",
   "metadata": {},
   "source": [
    "## Importing the required packages \n",
    "\n",
    "Please run this code below to have all the required packages and functions you will have to use to start the lab!"
   ]
  },
  {
   "cell_type": "code",
   "execution_count": 55,
   "id": "c56a20b4-3995-487b-a681-1061bf678acb",
   "metadata": {},
   "outputs": [],
   "source": [
    "from math import floor, sqrt, isqrt, log\n",
    "from random import randint\n",
    "from sympy import isprime, legendre_symbol, gcd\n",
    "from numpy import full, pi, array\n",
    "from time import time\n",
    "from qiskit import QuantumCircuit, transpile\n",
    "from qiskit_aer import AerSimulator\n",
    "from qiskit.visualization import plot_histogram\n",
    "from qiskit.circuit.library import UnitaryGate\n",
    "from qiskit.circuit import QuantumRegister, ClassicalRegister\n",
    "from fractions import Fraction"
   ]
  },
  {
   "cell_type": "markdown",
   "id": "31e42a49-1e17-4c78-bc6b-0291b98a6ba9",
   "metadata": {},
   "source": [
    "**This lab will be done entirely in python**\n",
    "\n",
    "Feel free to add your own cells to try out the functions you’ve built! We’ve included some important examples to get you started, but you’re welcome to test your code with any others you’d like."
   ]
  },
  {
   "cell_type": "markdown",
   "id": "44a74313-2e92-46ca-b963-a34f79a43496",
   "metadata": {},
   "source": [
    "# I) What is RSA ?"
   ]
  },
  {
   "cell_type": "markdown",
   "id": "dbc9c478-e219-4e6b-a812-cb5fef7ad0aa",
   "metadata": {},
   "source": [
    "## a) Presentation of RSA (History)"
   ]
  },
  {
   "cell_type": "markdown",
   "id": "88995108-b076-4145-8420-573183ae3e55",
   "metadata": {},
   "source": [
    "Before the 1970s, all cryptography relied on shared secret keys (symmetric encryption). But this raised a major problem: how could the secret key be exchanged securely if enemies were listening?\n",
    "In response to it, in 1976, Whitfield Diffie and Martin Hellman published New Directions in Cryptography by introducing the idea of a public key to encrypt and a private key to decrypt so no need to secretly exchange keys in advance.\n",
    "Building on this, researchers realized that multiplying two large prime numbers was a simple task, whereas factoring their product back into its prime components was extremely difficult.\n",
    "This property, known as a “one-way function,” provided exactly the mathematical foundation needed for a secure encryption system. In 1977, Rivest, Shamir, and Adleman transformed this insight into a practical algorithm, which became known as RSA, named after their initials."
   ]
  },
  {
   "cell_type": "markdown",
   "id": "c843cb6d-5bbc-4b6f-9862-55a489039bb0",
   "metadata": {},
   "source": [
    "## b) Implementation of RSA (Algorithm)"
   ]
  },
  {
   "cell_type": "markdown",
   "id": "2a2c2fe6-6a82-46fd-85e3-ea1eca50ffe4",
   "metadata": {},
   "source": [
    "As you might have already guessed, we are now going to talk about the RSA algorithm. \n",
    "\n",
    "The first step is the **Key Generation**:\n",
    "\n",
    "1) Choose two prime numbers, $p$ and $q$, and compute the number $n = pq$.\n",
    "- *$n$ will be the modulus which will be used in both the public and private key.* \n",
    "- *The **key length** is the length of $n$ in bits (for example 2048 bits, which is a commonly recommended key length).* \n",
    "- *It is important to keep $p$ and $q$ secret since computing the value of $n$ will allow anyone to \"break\" your encrypted messages.*\n",
    "\n",
    "2) Then, compute the value $\\varphi(n) = (p-1)(q-1)$\n",
    "- *$\\varphi(n)$ is known as the Euler's totient function that counts the positive integers up to a given integer $n$ that are relatively prime to $n$.* \n",
    "- *The RSA algorithm correctness can be proved using Euler's theorem (see below).*\n",
    "\n",
    "3) Choose a number $e$, such that $1 < e < \\varphi(n)$ and $e$ must be coprime with $\\varphi(n)$ (meaning $\\gcd(e, \\varphi(n)) = 1$)\n",
    "- *$e$ is called the public exponent. It is part of the public key.* \n",
    "- *The Public Key is the pair of values $(n, e)$.* \n",
    "- *$\\gcd$ is the greatest common divisor.*\n",
    "\n",
    "4) Finally, determine $d$ as  \n",
    "$$\n",
    "ed \\equiv 1 \\pmod{\\varphi(n)}\n",
    "$$\n",
    "- *$d$ is the private key (sometimes the Private Key is also written as the pair of values $(n, d)$).* \n",
    "- *$d$ is the modular multiplicative inverse of $e$ modulo $\\varphi(n)$.*\n",
    "\n",
    "Now we got our public and private keys! We can now use them to encrypt or decrypt a message.\n",
    "\n",
    "---\n",
    "\n",
    "### Encrypt\n",
    "Assuming you want to communicate a message $M$, you must first ensure that $M$ is an integer and that $0 \\le M < n$.  \n",
    "Then, you can compute the encrypted message $C$ with:  \n",
    "\n",
    "$$\n",
    "C \\equiv M^e \\pmod{n}\n",
    "$$\n",
    "\n",
    "(Note that the value of $C$ will be strictly less than $n$, since it's the modulus.)\n",
    "\n",
    "---\n",
    "\n",
    "### Decrypt\n",
    "To decrypt the ciphertext $C$, you use the private key $d$:  \n",
    "\n",
    "$$\n",
    "M \\equiv C^d \\pmod{n}\n",
    "$$\n",
    "\n",
    "---\n",
    "\n",
    "### Proof of correctness with Euler's Theorem\n",
    "The RSA Algorithm \"works\" because we can prove using Euler's Theorem that any encrypted message $M$ can be decrypted to recover the exact same $M$.\n",
    "\n",
    "Euler's theorem states that given any integer $n > 0$ and any integer $a$ coprime with $n$, we have:\n",
    "\n",
    "$$\n",
    "a^{\\varphi(n)} \\equiv 1 \\pmod{n}\n",
    "$$\n",
    "\n",
    "In RSA, the number $a$ is actually our message $M$. Since $n$ is the product of $p$ and $q$, there are high chances that $M$ is coprime with $n$.  \n",
    "(If not, the algorithm works anyway but uses another proof with Fermat's little theorem.)\n",
    "\n",
    "Now, when we want to decrypt $C$ (which is $M^e$), we do:\n",
    "\n",
    "$$\n",
    "C^d = M^{ed}\n",
    "$$\n",
    "\n",
    "Since $d$ is the modular multiplicative inverse of $e$ modulo $\\varphi(n)$, we have:  \n",
    "\n",
    "$$\n",
    "ed \\equiv 1 \\pmod{\\varphi(n)} \\quad \\Leftrightarrow \\quad ed = 1 + k \\varphi(n)\n",
    "$$\n",
    "\n",
    "Then the proof is:\n",
    "\n",
    "$$\n",
    "M^{ed} \\equiv M^{1 + k \\varphi(n)} \\equiv M \\cdot M^{k \\varphi(n)} \\equiv M \\cdot 1^k \\equiv M \\pmod{n}\n",
    "$$\n",
    "\n",
    "We demonstrated that our private key $d$ can be used to decrypt $C$ and recover the original message $M$!\n",
    "\n",
    "---\n",
    "\n",
    "### Now it's your turn to implement RSA in python\n"
   ]
  },
  {
   "cell_type": "markdown",
   "id": "e942f851-b38f-4146-83f5-ed3f680f2f7e",
   "metadata": {},
   "source": [
    "<span style=\"color:red;font-weight: bold;\">Question 1.1 : Create a function that generates a prime number between the low and high bounds</span>"
   ]
  },
  {
   "cell_type": "code",
   "execution_count": 56,
   "id": "5d328168-c2b3-43e9-8216-efc0a8442e9b",
   "metadata": {},
   "outputs": [],
   "source": [
    "#This function will generate random numbers until a prime number is generated\n",
    "def generate_prime_number(low, high):\n",
    "    while True:\n",
    "        p = randint(low, high)\n",
    "        if isprime(p):\n",
    "            return p"
   ]
  },
  {
   "cell_type": "markdown",
   "id": "0125b1f8-12e9-46da-a3f3-e83323774784",
   "metadata": {},
   "source": [
    "<span style=\"color:red;font-weight: bold;\">Question 1.2 : Create a function that generates the pair of keys for RSA</span>"
   ]
  },
  {
   "cell_type": "code",
   "execution_count": 57,
   "id": "0f55a8b2-c072-45c9-84ae-ce39dd94d2c8",
   "metadata": {},
   "outputs": [],
   "source": [
    "# Key Generation\n",
    "def generate_keys():\n",
    "    # Step 1 : Choose p and q, prime numbers, and compute n\n",
    "    p = generate_prime_number(100, 300)  \n",
    "    q = generate_prime_number(100, 300)\n",
    "    while q == p:\n",
    "        q = generate_prime_number(100, 300)\n",
    "    \n",
    "    n = p*q\n",
    "\n",
    "    # Step 2 : Compute phi = (p-1)*(q-1)\n",
    "    phi = (p-1)*(q-1)\n",
    "\n",
    "    # Step 3 : Choose e that gcd(e, phi) = 1 and 1 < e < phi\n",
    "    e = randint(2, (phi-1))\n",
    "    while gcd(e, phi) != 1:\n",
    "        e = randint(2, (phi-1))\n",
    "    \n",
    "    # Step 4 : Compute d, the modular multiplicative inverse of e (we can use python pow() function)\n",
    "    d = pow(e, -1, phi) \n",
    "\n",
    "    public_key = (n, e)\n",
    "    private_key = (n, d)\n",
    "    return public_key, private_key"
   ]
  },
  {
   "cell_type": "markdown",
   "id": "5d7a8961-e7d7-44c7-9bb6-48ee7ba4498b",
   "metadata": {},
   "source": [
    "<span style=\"color:red;font-weight: bold;\">Question 1.3 : Create a function to encrypt the message m</span>"
   ]
  },
  {
   "cell_type": "code",
   "execution_count": 58,
   "id": "b61bf6c3-cf30-4804-b36e-63594314251c",
   "metadata": {},
   "outputs": [],
   "source": [
    "# Encrypting\n",
    "def encrypt(m, public_key):\n",
    "    n, e = public_key\n",
    "    C = pow(m, e, n) #Using the definition of C above, we can use once again the pow() function to calculate the power with modulo\n",
    "    return C"
   ]
  },
  {
   "cell_type": "markdown",
   "id": "b6127686-c0e8-4612-96e4-de41bf17a416",
   "metadata": {},
   "source": [
    "<span style=\"color:red;font-weight: bold;\">Question 1.4 : Create a function to decrypt the ciphertext and retrieve the message</span>"
   ]
  },
  {
   "cell_type": "code",
   "execution_count": 59,
   "id": "2298610d-b139-4af9-8fc9-bf048b30e3cd",
   "metadata": {},
   "outputs": [],
   "source": [
    "# Decrypting\n",
    "def decrypt(c, private_key):\n",
    "    n, d = private_key\n",
    "    M = pow(c, d, n) \n",
    "    return M"
   ]
  },
  {
   "cell_type": "markdown",
   "id": "bc50b025-fa71-4d55-bae9-b083e9088fa5",
   "metadata": {},
   "source": [
    "Now test what you implemented ! "
   ]
  },
  {
   "cell_type": "code",
   "execution_count": 60,
   "id": "6c401f16-0611-4449-a341-684196b09e78",
   "metadata": {},
   "outputs": [
    {
     "name": "stdout",
     "output_type": "stream",
     "text": [
      "Public Key : (39187, 13611)\n",
      "Private Key : (39187, 34987)\n",
      "Encrypted message : 28385\n",
      "Decrypted message : 12\n"
     ]
    }
   ],
   "source": [
    "public, private = generate_keys()\n",
    "print(\"Public Key :\", public)\n",
    "print(\"Private Key :\", private)\n",
    "\n",
    "message = 12 #Test message for example (for text, we will have to convert it to integers first)\n",
    "\n",
    "C = encrypt(message, public)\n",
    "print(\"Encrypted message :\", C)\n",
    "\n",
    "M = decrypt(C, private)\n",
    "print(\"Decrypted message :\", M)"
   ]
  },
  {
   "cell_type": "markdown",
   "id": "f73912b4-6fce-4eea-a6fb-b6b3fc10b099",
   "metadata": {},
   "source": [
    "## II) Can we crack RSA ?"
   ]
  },
  {
   "cell_type": "markdown",
   "id": "a4b43d54",
   "metadata": {},
   "source": [
    "As you have seen before, factoring is very important in the field of cryptography, specifically in the RSA cryptosystem. \n",
    "\n",
    "The security of this system relies on the fact that our classical computers are not able to find (because it is hard and it is a computationally intensive task) the 2 factors of large composite numbers. \n",
    "\n",
    "Researchers have tried for many years to tackle this problem and, although they have developed increasingly sophisticated factoring algorithms (such as Pollard’s rho, the elliptic curve method, and the Number Field Sieve), these methods still require resources that grow so quickly with key size that properly chosen RSA moduli remain secure against practical classical attacks. \n",
    "\n",
    "In this part of the lab we will try to crack RSA by factoring large numbers and explore the practical limits of classical factoring techniques.\n",
    "\n",
    "Firstly, let's try to brute force RSA"
   ]
  },
  {
   "cell_type": "markdown",
   "id": "b63f947d-3527-4514-a25c-65a648dfbe72",
   "metadata": {},
   "source": [
    "### II.I) Brute Force\n",
    "\n",
    "Let $n = p q$ be the RSA modulus (product of two prime numbers $p$ and $q$), $L$ be the bit-length of $n$ and $e$ be the public key used for encryption.  \n",
    "There are two main brute-force approaches that could, in theory, recover the private key:\n",
    "\n",
    "1. **Directly attacking $d$**: search for $d$ without explicitly factoring $n$ (for example, by exhaustively testing possible candidates for $d$ and checking their validity).\n",
    "2. **Factorizing $n$**: recover $p$ and $q$ from $n$. Once $p$ and $q$ are known, compute $$\\varphi(n) = (p-1)(q-1)$$ and then $d$ which is the inverse of the public exponent $e$ modulo $\\varphi(n)$, such that $d \\equiv e^{-1} \\pmod{\\varphi(n)}$.\n",
    "\n",
    "---\n",
    "\n",
    "Here is a small code that will allow you to generate the number n to factor, the ciphertext C and the public key e."
   ]
  },
  {
   "cell_type": "code",
   "execution_count": 61,
   "id": "ce73280d",
   "metadata": {},
   "outputs": [],
   "source": [
    "def get_data_to_crack(message):\n",
    "    \"\"\"\n",
    "    allows us to retrieve everything that is visible in a crypted conversation\n",
    "    \"\"\"\n",
    "    public, private = generate_keys()\n",
    "    n, e = public\n",
    "    C = encrypt(message, public)\n",
    "    return n, C, e"
   ]
  },
  {
   "cell_type": "markdown",
   "id": "d91109fa",
   "metadata": {},
   "source": [
    "---\n",
    "\n",
    "#### *Algorithm 1 — Exhaustive search of the private exponent $d$*\n",
    "**Description.**  \n",
    "Try different values of $\\varphi(n)$ between 1 and $n$ since we don't know $\\varphi(n)$. Then try random possible values of $d$ (upper bounded by $\\varphi(n)$), and for each candidate $d$ that satisfies $d e \\equiv 1 \\pmod{\\varphi(n)}$, attempt a test decryption of the ciphertext $C$ with exponent $d$ and check the result. If the message is comprehensible, then you have found the message. Otherwise, try another value of d for the same $\\varphi(n)$ until we reach the limit $\\varphi(n)$ and then do it all over again for another $\\varphi(n)$.\n",
    "\n",
    "**Search space.**  \n",
    "1) For $\\varphi(n)$ :\n",
    "    $1 \\le \\varphi(n) \\le n$\n",
    "2) For $d$ :\n",
    "    $1 \\le d \\le \\varphi(n)$  \n",
    "\n",
    "**Complexity.**  \n",
    "The number of trials in the worst case is $\\Theta(n^2)$.  \n",
    "In terms of bit-length $L$:  \n",
    "$$\\Theta(2^{2L})$$\n",
    "**Remark.**  \n",
    "This is the most expensive brute-force approach and becomes infeasible as soon as $L$ is even moderately large. This is also a no brainer method.\n",
    "\n",
    "<span style=\"color:red;font-weight: bold;\">Question 2.1.1 : Implement the first algorithm.</span>"
   ]
  },
  {
   "cell_type": "code",
   "execution_count": 62,
   "id": "27fc94be",
   "metadata": {},
   "outputs": [],
   "source": [
    "def exhaustive_search_v1(n, C, e, message):\n",
    "    \"\"\"\n",
    "    To implement this algorithm we will do the following step to see if we have found the message :\n",
    "    We don't know what the message looks like so we would have to look for the result of pow(C,d,n) everytime to see if it makes sense\n",
    "    In our case we stop when we found the message that was encrypted decrypted_message == message\n",
    "    \"\"\"\n",
    "    found = False\n",
    "    for phi_n in range(1, n):\n",
    "        for d in range(1, phi_n):\n",
    "            if d*e % phi_n == 1:\n",
    "                decrypted_message = pow(C,d,n)\n",
    "                if decrypted_message == message:\n",
    "                    found = True\n",
    "                    break\n",
    "        if found :\n",
    "            break\n",
    "    return decrypted_message"
   ]
  },
  {
   "cell_type": "markdown",
   "id": "24356e86-62ee-44c3-ba2e-fa46af54e2be",
   "metadata": {},
   "source": [
    "Test it!"
   ]
  },
  {
   "cell_type": "code",
   "execution_count": 63,
   "id": "69e62461",
   "metadata": {},
   "outputs": [
    {
     "name": "stdout",
     "output_type": "stream",
     "text": [
      "Decrypted the message 12 in 6.600839376449585 seconds\n"
     ]
    }
   ],
   "source": [
    "message = 12\n",
    "n, C, e = get_data_to_crack(message)\n",
    "start_time = time()\n",
    "decrypted_message = exhaustive_search_v1(n, C, e, message)\n",
    "end_time = time()\n",
    "print(f\"Decrypted the message {decrypted_message} in {end_time - start_time} seconds\")"
   ]
  },
  {
   "cell_type": "markdown",
   "id": "e8c8c170",
   "metadata": {},
   "source": [
    "---\n",
    "\n",
    "#### *Algorithm 2 — Improved exhaustive search of the private exponent $d$*\n",
    "\n",
    "Let's try to find a reasonable lower bound of $\\varphi(n)$.\n",
    "\n",
    "Write $n = p q$ with primes $2 \\le p \\le q$. Then  \n",
    "\n",
    "$$\\varphi(n) = (p-1)(q-1) = n - (p+q) + 1.$$\n",
    "\n",
    "For a fixed product $pq = n$, the sum $p+q$ is largest when $p$ is as small as possible.  \n",
    "The smallest prime factor possible is $p=2$, giving the smallest possible $\\varphi(n)$ (worst case):\n",
    "\n",
    "$$\\varphi(n)\\big|_{p=2} = (2-1)\\left(\\tfrac{n}{2} - 1\\right) = \\frac{n}{2} - 1.$$\n",
    "\n",
    "Hence, for any composite $n=pq$ (with primes $\\ge 2$) we have  \n",
    "\n",
    "$$\\varphi(n) \\;\\ge\\; \\frac{n}{2} - 1.$$\n",
    "\n",
    "This inequality is valid for all $n \\ge 4$. \n",
    "\n",
    "We now have to try different values of $\\varphi(n)$ for $\\lfloor \\frac{n}{2} - 1 \\rfloor \\;\\le\\; \\varphi(n) \\;\\le\\; n$ since we don't know $\\varphi(n)$. Then since we know $e$, because it is the public key, we can check if $e$ is not coprime with the modulus $\\varphi(n)$ and for the same $\\varphi(n)$ we can compute d  ≡  $e^{-1}$  (mod  $\\varphi(n)$) and we attempt a decryption of the ciphertext $C$ with exponent $d$ and check the result. If the message is comprehensible, then you have found the message. Otherwise, try another value of $\\varphi(n)$.\n",
    "\n",
    "**Search space.**  \n",
    "$\\lfloor \\frac{n}{2} - 1 \\rfloor \\le \\varphi(n) \\le n$\n",
    " \n",
    "**Complexity.**  \n",
    "The number of trials in the worst case is $\\Theta(n)$ but we have less possibilities for $\\varphi(n)$.  \n",
    "In terms of bit-length $L$:  \n",
    "$$\\Theta(2^{L})$$\n",
    "\n",
    "<span style=\"color:red;font-weight: bold;\">Question 2.1.2 : Implement the second algorithm.</span>"
   ]
  },
  {
   "cell_type": "code",
   "execution_count": 64,
   "id": "655abdd5",
   "metadata": {},
   "outputs": [],
   "source": [
    "def exhaustive_search_v2(n, C, e, message):\n",
    "    \"\"\"\n",
    "    To implement this algorithm we will do the following step to see if we have found the message :\n",
    "    We don't know what the message looks like so we would have to look for the result of pow(C,d,n) everytime to see if it makes sense\n",
    "    In our case we stop when we found the message that was encrypted decrypted_message == message\n",
    "    \"\"\"\n",
    "    for phi_n in range(int(n/2 - 1), n):\n",
    "        if gcd(e, phi_n) == 1:\n",
    "            d = pow(e, -1, phi_n)\n",
    "            decrypted_message = pow(C,d,n)\n",
    "            if decrypted_message == message:\n",
    "                break\n",
    "    return decrypted_message"
   ]
  },
  {
   "cell_type": "markdown",
   "id": "9f093dcd-8e08-4b5e-a0a0-df3e5d75ac51",
   "metadata": {},
   "source": [
    "Test it !"
   ]
  },
  {
   "cell_type": "code",
   "execution_count": 65,
   "id": "f0fa1951",
   "metadata": {},
   "outputs": [
    {
     "name": "stdout",
     "output_type": "stream",
     "text": [
      "Decrypted the message 12 in 0.0018830299377441406 seconds\n"
     ]
    }
   ],
   "source": [
    "message = 12\n",
    "n, C, e = get_data_to_crack(message)\n",
    "start_time = time()\n",
    "decrypted_message = exhaustive_search_v2(n, C, e, message)\n",
    "end_time = time()\n",
    "print(f\"Decrypted the message {decrypted_message} in {end_time - start_time} seconds\")"
   ]
  },
  {
   "cell_type": "markdown",
   "id": "c4f1172b",
   "metadata": {},
   "source": [
    "---\n",
    "\n",
    "#### *Algorithm 3 — Naïve factor search (test all integers $1,\\dots,n$)*\n",
    "**Description.** Test each integer $k \\in \\{1,\\dots,n\\}$ (or more efficiently, each prime number) to check if it divides $n$.  \n",
    "**Complexity.** $\\Theta(n) = \\Theta(2^{L})$.  \n",
    "**Remark.** The search stops as soon as a non-trivial factor $p$ is found, but the order of magnitude remains astronomically high.\n",
    "\n",
    "<span style=\"color:red;font-weight: bold;\">Question 2.1.3 : Implement the factorisation of the number n</span>"
   ]
  },
  {
   "cell_type": "code",
   "execution_count": 66,
   "id": "13a4d5e4",
   "metadata": {},
   "outputs": [],
   "source": [
    "def factorisation_v1(n):\n",
    "    \"\"\"\n",
    "    Function that performs the prime factorisation of n\n",
    "    \"\"\"\n",
    "    for i in range(2, n):\n",
    "        if n%i == 0:\n",
    "            p = i\n",
    "            q = n//i\n",
    "            break\n",
    "    return p, q"
   ]
  },
  {
   "cell_type": "markdown",
   "id": "19a8d3c3",
   "metadata": {},
   "source": [
    "<span style=\"color:red;font-weight: bold;\">Question 2.1.4 : Implement the function to retrieve the message from the 2 factors</span>"
   ]
  },
  {
   "cell_type": "code",
   "execution_count": 67,
   "id": "79647679",
   "metadata": {},
   "outputs": [],
   "source": [
    "def retrieve_message(p,q,C,e,n):\n",
    "    \"\"\"\n",
    "    Finding back the message m with the 2 factors\n",
    "    \"\"\"\n",
    "    phi_n = (p-1)*(q-1)\n",
    "    d = pow(e, -1, phi_n)\n",
    "    M = pow(C, d, n)\n",
    "    return M"
   ]
  },
  {
   "cell_type": "markdown",
   "id": "1ae1edac-2ef9-493a-9598-71c5ebf1eded",
   "metadata": {},
   "source": [
    "Test it!"
   ]
  },
  {
   "cell_type": "code",
   "execution_count": 68,
   "id": "34cd655a",
   "metadata": {},
   "outputs": [
    {
     "name": "stdout",
     "output_type": "stream",
     "text": [
      "Found the 2 factors : 157, 251\n",
      "Decypted the message 12 in 0.00026988983154296875\n"
     ]
    }
   ],
   "source": [
    "message = 12\n",
    "n, C, e = get_data_to_crack(message)\n",
    "start_time = time()\n",
    "p, q = factorisation_v1(n)\n",
    "print(f\"Found the 2 factors : {p}, {q}\")\n",
    "decrypted_message = retrieve_message(p,q,C,e,n)\n",
    "end_time = time()\n",
    "print(f\"Decypted the message {M} in {end_time - start_time}\")"
   ]
  },
  {
   "cell_type": "markdown",
   "id": "0cccd4db",
   "metadata": {},
   "source": [
    "---\n",
    "\n",
    "#### *Algorithm 4 — Trial division up to $\\sqrt{n}$*\n",
    "**Description.** Test all integers (or preferably all prime numbers) $k$ such that $2 \\le k \\le \\lfloor \\sqrt{n} \\rfloor$. As soon as one divisor is found, we obtain the factorization $n = k \\cdot (n/k)$.  \n",
    "**Justification.** If $n$ is composite (which is always the case), it necessarily has at least one non-trivial factor less than or equal to $\\sqrt{n}$.  \n",
    "**Complexity.** The number of trials is $\\Theta(\\sqrt{n})$. In terms of bit-length $L$:  \n",
    "$$\\Theta(2^{L/2})$$\n",
    "**Remark.** This is the best asymptotic complexity achievable under a purely exhaustive brute-force approach (without using advanced algebraic structure). However, it still grows exponentially in $L$.\n",
    "\n",
    "<span style=\"color:red;font-weight: bold;\">Question 2.1.5 : Implement the improved version of the factorisation</span>"
   ]
  },
  {
   "cell_type": "code",
   "execution_count": 69,
   "id": "e520e9f0",
   "metadata": {},
   "outputs": [],
   "source": [
    "def factorisation_v2(n):\n",
    "    \"\"\"\n",
    "    Function that performs the prime factorisation of n\n",
    "    \"\"\"\n",
    "    for i in range(2, floor(sqrt(n))):\n",
    "        if n%i == 0:\n",
    "            p = i\n",
    "            q = n//i\n",
    "            break\n",
    "    return p, q"
   ]
  },
  {
   "cell_type": "markdown",
   "id": "7dff4798-5ff4-458a-8e53-92f0cc1e7eff",
   "metadata": {},
   "source": [
    "Test it !"
   ]
  },
  {
   "cell_type": "code",
   "execution_count": 70,
   "id": "84505b8b",
   "metadata": {},
   "outputs": [
    {
     "name": "stdout",
     "output_type": "stream",
     "text": [
      "Found the 2 factors : 113, 151\n",
      "Decypted the message 12 in 0.0003085136413574219\n"
     ]
    }
   ],
   "source": [
    "message = 12\n",
    "n, C, e = get_data_to_crack(message)\n",
    "start_time = time()\n",
    "p, q = factorisation_v2(n)\n",
    "print(f\"Found the 2 factors : {p}, {q}\")\n",
    "decrypted_message = retrieve_message(p,q,C,e,n)\n",
    "end_time = time()\n",
    "print(f\"Decypted the message {M} in {end_time - start_time}\")"
   ]
  },
  {
   "cell_type": "markdown",
   "id": "407a1baa",
   "metadata": {},
   "source": [
    "---\n",
    "\n",
    "##### General Observations\n",
    "\n",
    "Even with the improvement of restricting the search space to $\\sqrt{n}$, the effort remains exponential in the bit-length $L$: the best brute-force complexity achievable is $\\Theta(2^{L/2})$.  \n",
    "Therefore, these methods are not feasible in real time for modern key sizes (e.g., $L \\ge 2048$). You may have thought about the fact that both algorithm 3 and 4 actually have the same complexity since in algorithm 3 the for loop will go until $\\sqrt{n}$ even though the upper bound is n.\n",
    "\n",
    "##### Conclusion\n",
    "\n",
    "- There are essentially two brute-force families: (1) factorizing $n$ to recover $p,q$ and then $d$, and (2) directly searching for $d$.  \n",
    "- Naïve methods yield $\\Theta(2^{L})$ complexity. The best brute-force approach (trial division up to $\\sqrt{n}$) achieves $\\Theta(2^{L/2})$.  \n",
    "- All these methods remain exponential in $L$ and are therefore impractical for standard RSA key sizes."
   ]
  },
  {
   "cell_type": "markdown",
   "id": "8aee39cf",
   "metadata": {},
   "source": [
    "#### Brute-Force RSA Cracking Timeline\n",
    "\n",
    "| RSA key size (bits) | Total possibilities | Estimated time (1 GHz CPU) |\n",
    "|-------------------|------------------|---------------------------|\n",
    "| 128               | ~3.4×10³⁸        | ~10¹² years              |\n",
    "| 256               | ~1.2×10⁷⁷        | ~10⁵¹ years              |\n",
    "| 512               | ~1.3×10¹⁵⁴       | ~10¹²⁸ years             |\n",
    "| 1024              | ~1.8×10³⁰⁸       | ~10²⁸² years             |\n",
    "| 2048              | ~3.2×10⁶¹⁵       | ~10⁵⁸⁹ years             |\n",
    "| 4096              | ~1.3×10¹²³⁰      | ~10¹²⁰⁴ years            |\n"
   ]
  },
  {
   "cell_type": "markdown",
   "id": "2ee6d653-ec59-40ce-990a-dca7d8395cdc",
   "metadata": {},
   "source": [
    "### II.II) The GNFS Algorithm"
   ]
  },
  {
   "cell_type": "markdown",
   "id": "7cbe2978-6539-4e64-9c7b-09daed509553",
   "metadata": {},
   "source": [
    "#### Story of the GNFS"
   ]
  },
  {
   "cell_type": "markdown",
   "id": "3e586b30-f7cd-423d-9e5a-a3b1eeb77f0d",
   "metadata": {},
   "source": [
    "The General Number Field Sieve (GNFS) is the most efficient classical algorithm known for factoring large integers larger than $10^{100}$. Its history traces the evolution of computational number theory and reflects decades of research aimed at understanding the limits of public-key cryptography, particularly RSA.\n",
    "\n",
    "The origins of the method go back to the 1980s, when John Pollard introduced the Number Field Sieve for a very special class of integers known as Cunningham numbers. Building on this idea, Arjen Lenstra, Hendrik Lenstra, Mark Manasse, and John Pollard generalized the approach in the early 1990s, creating the algorithm now known as the GNFS. This breakthrough provided, for the first time, a sub-exponential algorithm that could factor arbitrary large integers more efficiently than the Quadratic Sieve, which had been the previous state of the art.\n",
    "\n",
    "From that point forward, GNFS became the central tool in record-setting factorizations. In 1994, it was used to factor RSA-129, a 129-digit number (426 bits) made famous by Martin Gardner’s challenge in Scientific American. Over the following decades, GNFS was refined and scaled up through distributed computing efforts and advances in algorithm engineering. Notable milestones include the factorization of RSA-768 (232 digits) in 2009, RSA-240 (795 bits) in 2019, and RSA-250 in 2020. Each of these achievements pushed the limits of available hardware and demonstrated both the power of GNFS and the ongoing need to increase RSA key sizes.\n",
    "\n",
    "Today, GNFS remains the gold standard for classical integer factorization. Its history underscores the constant interplay between mathematical innovation and computational progress, and it provides the foundation for our understanding of how secure RSA remains in the face of classical attacks."
   ]
  },
  {
   "cell_type": "markdown",
   "id": "cc51d0b3-8b26-4c89-8396-afadf54735ee",
   "metadata": {},
   "source": [
    "#### The algorithm & Code in python"
   ]
  },
  {
   "cell_type": "markdown",
   "id": "5538dec8-e31e-4e44-bc6c-e6123545b9ee",
   "metadata": {},
   "source": [
    "**I hope you are ready and you have fastened your seatbelts, because it isn't an easy algorithm to understand!**\n",
    "We will be working through a specific numerical example to illustrate each concept along the way.\n",
    "\n",
    "**Disclaimer:**  \n",
    "This Python implementation of the General Number Field Sieve (GNFS) is designed for **educational purposes only**.  \n",
    "It is **not optimized for performance** and will run **very very very** slowly but this is a good Proof of Concept (PoC).  \n",
    "In practice, highly optimized GNFS implementations are written in **C or C++** with advanced sieving, memory management, and parallelization to handle real-world cryptographic-sized numbers efficiently.\n",
    "\n",
    "---\n",
    "\n",
    "##### Step 0: Preliminary Idea – Difference of Squares\n",
    "\n",
    "**Principle:** If we can find integers $s$ and $r$ such that:\n",
    "$s^2 \\equiv r^2 \\pmod{n}$\n",
    "then:\n",
    "$n$ divides $(s - r)(s + r)$\n",
    "\n",
    "**Factor extraction:** Let $n = p \\cdot q$ (product of two primes). Then at least one of the following is a nontrivial factor of $n$ with high probability ($\\sim 2/3$):\n",
    "$\\gcd(s + r, n)$ or $\\gcd(s - r, n)$\n",
    "\n",
    "**Core idea of GNFS:** Reduce factoring $n$ to finding a congruence of squares modulo $n$:\n",
    "$s^2 \\equiv r^2 \\pmod{n} \\Rightarrow$ potential factorization via gcd.\n",
    "\n",
    "***\n",
    "\n",
    "##### Step 1: Choose $m$ and $f(x)$\n",
    "\n",
    "We start by picking an integer $m$ close to $n^{1/d}$, where $d$ is the degree of the polynomial we want to construct. Using the base-$m$ expansion of $n$:\n",
    "$$n = a_d m^d + a_{d-1} m^{d-1} + \\dots + a_0$$we define the polynomial$$f(x) = a_d x^d + a_{d-1} x^{d-1} + \\dots + a_0$$\n",
    "so that $f(m) \\equiv 0 \\pmod{n}$. This polynomial encodes $n$ in a way that allows us to later find algebraic numbers whose squares are congruent modulo $n$, which is key to factorization.\n",
    "\n",
    "**Implementation detail:** The base-$m$ expansion provides an easy way to construct a polynomial $f(x)$ with integer coefficients where $f(m)=n$. This ensures the crucial congruence $f(m) \\equiv 0 \\pmod n$ holds, which is a fundamental requirement for the mapping $\\phi$ used later in the algorithm. For example, to factor $n=45113$, we can choose $m=31$ and use its base-31 expansion: $45113 = 1 \\cdot 31^3 + 15 \\cdot 31^2 + 29 \\cdot 31 + 8$. From this, we can define the polynomial $f(x) = x^3 + 15x^2 + 29x + 8$.\n",
    "\n",
    "<span style=\"color:red;font-weight: bold;\">Question 2.2.1 : Implement the function to perform the base m expansion</span>"
   ]
  },
  {
   "cell_type": "code",
   "execution_count": 71,
   "id": "654d5793-7954-40fc-86fb-23cd596a62c1",
   "metadata": {},
   "outputs": [],
   "source": [
    "# ------------------------\n",
    "# Step 1: Base-m polynomial selection\n",
    "# ------------------------\n",
    "def base_m_expansion(n, m):\n",
    "    \"\"\"\n",
    "    Expand integer n in base m to get polynomial coefficients.\n",
    "    - Returns coefficients [a_d, ..., a_0] such that n = a_d*m^d + ... + a_0\n",
    "    - Highest-degree coefficient comes first\n",
    "    \"\"\"\n",
    "    coeffs = []\n",
    "    temp = n\n",
    "    degree = 0\n",
    "    # Determine the degree of the polynomial (largest power of m needed)\n",
    "    while temp // m**degree != 0:\n",
    "        degree += 1 \n",
    "    # Extract coefficients by repeatedly dividing by m\n",
    "    for _ in range(degree + 1):\n",
    "        coeffs.append(temp % m)\n",
    "        temp //= m\n",
    "    return coeffs[::-1]  # reverse so highest-degree comes first"
   ]
  },
  {
   "cell_type": "markdown",
   "id": "66910445-d753-49bb-be13-acb6015ef9cd",
   "metadata": {},
   "source": [
    "The functions below will help you create the function itself"
   ]
  },
  {
   "cell_type": "code",
   "execution_count": 72,
   "id": "24c8e120-44c7-458d-85d9-acb0b75f1044",
   "metadata": {},
   "outputs": [],
   "source": [
    "def evaluate_polynomial(coeffs, x):\n",
    "    \"\"\"\n",
    "    Evaluate a polynomial at a given x\n",
    "    - coeffs: list of coefficients [a_d, ..., a_0]\n",
    "    - returns sum(a_i * x^(degree-i))\n",
    "    \"\"\"\n",
    "    result = 0\n",
    "    deg = len(coeffs) - 1\n",
    "    for i, c in enumerate(coeffs):\n",
    "        result += c * (x ** (deg - i))\n",
    "    return result\n",
    "\n",
    "def polynomial_function(coeffs):\n",
    "    \"\"\"\n",
    "    Return a callable function f(x) from a list of coefficients\n",
    "    - Makes it easy to evaluate polynomial at any x later\n",
    "    \"\"\"\n",
    "    return lambda x: evaluate_polynomial(coeffs, x)  # create a function for later use"
   ]
  },
  {
   "cell_type": "markdown",
   "id": "8735d359-0426-416c-b4f7-2d55e391d1ae",
   "metadata": {},
   "source": [
    "This is a function that will transform the function you created into a string to be visualized now or later if needed"
   ]
  },
  {
   "cell_type": "code",
   "execution_count": 73,
   "id": "1f518533-db87-47d9-a7bd-96044178da2f",
   "metadata": {},
   "outputs": [],
   "source": [
    "def polynomial_to_string(coeffs):\n",
    "    \"\"\"Convert a list of coefficients into a polynomial string. Only for print purposes\"\"\"\n",
    "    degree = len(coeffs) - 1\n",
    "    terms = []\n",
    "    for i, c in enumerate(coeffs):\n",
    "        power = degree - i\n",
    "        if c == 0:\n",
    "            continue\n",
    "        if power == 0:\n",
    "            terms.append(f\"{c}\")\n",
    "        elif power == 1:\n",
    "            terms.append(f\"{c}*x\")\n",
    "        else:\n",
    "            terms.append(f\"{c}*x**{power}\")\n",
    "    return \" + \".join(terms)"
   ]
  },
  {
   "cell_type": "markdown",
   "id": "e73bdf0b-ec2d-4d24-ae69-5f2f037875ec",
   "metadata": {},
   "source": [
    "***\n",
    "\n",
    "##### Step 2: Define the rational factor base $R$\n",
    "\n",
    "Next, we select a finite set of small prime numbers $R = \\{p_1, p_2, \\dots, p_k\\}$. This **rational factor base** will be used to check if certain integers are “smooth,” meaning they factor completely over these primes. Working with smooth numbers ensures that we can later represent them as vectors for linear algebra over $\\mathbb{F}_2$. $\\mathbb{F}_2$ is a mathematical term that refers to the finite field with two elements. In simpler terms, it's a number system that only contains the numbers 0 and 1.\n",
    "\n",
    "**Implementation detail:** The rational factor base is a collection of prime numbers. For practical purposes, it is often a set of small, consecutive primes up to a certain bound $M$, such as $R = \\{p: \\text{p is prime and } p \\le M\\}$. For the example of factoring $n=45113$, the rational factor base was chosen as all primes less than 30: $R = \\{2, 3, 5, 7, 11, 13, 17, 19, 23, 29\\}$. An integer $l$ is considered \"smooth\" over $R$ if all of its prime divisors are in $R$. This is a core concept that allows us to convert the factorization problem into a linear algebra problem over $\\mathbb{F}_2$.\n",
    "\n",
    "<span style=\"color:red;font-weight: bold;\">Question 2.2.2 : Implement the function to define the rational factor base</span>"
   ]
  },
  {
   "cell_type": "code",
   "execution_count": 74,
   "id": "dad3ff44-87bf-44b1-90eb-13f9c014360b",
   "metadata": {},
   "outputs": [],
   "source": [
    "# ------------------------\n",
    "# Step 2: Rational factor base R\n",
    "# ------------------------\n",
    "def rational_factor_base(bound):\n",
    "    \"\"\"\n",
    "    Generate the rational factor base: \n",
    "    all prime numbers up to the given bound.\n",
    "    \"\"\"\n",
    "    return [p for p in range(2, bound+1) if isprime(p)]"
   ]
  },
  {
   "cell_type": "markdown",
   "id": "c4c5570e-d6a0-48ed-958a-cc7069dddc6c",
   "metadata": {},
   "source": [
    "***\n",
    "\n",
    "##### Step 3: Define the algebraic factor base $A$\n",
    "\n",
    "In the first step, we built a list of small prime numbers to act as our \"factoring toolkit\" for regular integers. In this step, we're doing the same thing, but for a new, abstract number system.\n",
    "\n",
    "Imagine we're not just working with numbers anymore, but with a new kind of \"number plant\" that has sprouted from our polynomial. These \"number plants\" are called **algebraic numbers**, and they look like $a + b\\theta$. This is similar to how complex numbers are built: we introduce a symbol $i$ with $i^2 = -1$, and then form numbers of the type $a + bi$. So what is $\\theta$ in our case? It’s a special symbol we introduce to represent a root of our polynomial $f(x)$. For example, if $f(x) = x^2 - 2$, then $\\theta = \\sqrt{2}$ because $\\theta^2 = 2$. We don’t need to know $\\theta$ as a decimal; we just work with it symbolically, like we do with i. \n",
    "\n",
    "We now need a way to factor these new \"plants\" so we create an **algebraic factor base**, which is our toolkit of special \"algebraic prime seeds\" for this new number system.\n",
    "\n",
    "We identify these \"prime seeds\" as pairs of regular numbers, $(r_i, p_i)$, that satisfy a specific condition: when you plug $r_i$ into our original polynomial, the result is divisible by the prime $p_i$ (i.e., $f(r_i) \\equiv 0 \\pmod{p_i}$). This clever trick lets us use something we know (our polynomial) to find and categorize these new \"algebraic primes.\"\n",
    "\n",
    "**Implementation detail:** The goal is to find \"number plants\" ($a + b\\theta$) that can be completely factored using only the \"prime seeds\" in our toolkit. We call these numbers \"smooth,\" just as we did with the regular integers. This ensures that the algebraic side of our calculations is manageable and mirrors the integer side, providing two parallel sets of data that will eventually be combined. For example, with $n=45113$, we found our \"prime seeds\" by looking at all primes less than 90 : \n",
    "$A = \\{ (0, 2), (6, 7), (13, 17), (11, 23), ... , (50, 73), (23, 79), (47, 79), (73, 79), (28, 89), (62, 89), (73, 89) \\}$\n",
    "\n",
    "<span style=\"color:red;font-weight: bold;\">Question 2.2.3 : Implement the function to define the algebraic factor base</span>"
   ]
  },
  {
   "cell_type": "code",
   "execution_count": 75,
   "id": "69936e48-88bd-4d62-953d-4d60700403de",
   "metadata": {},
   "outputs": [],
   "source": [
    "# ------------------------\n",
    "# Step 3: Algebraic factor base A\n",
    "# ------------------------\n",
    "def algebraic_factor_base(f, primes):\n",
    "    \"\"\"\n",
    "    Generate the algebraic factor base:\n",
    "    pairs (r, p) where p is a prime from the given list\n",
    "    and r is a root of f(x) modulo p.\n",
    "    \"\"\"\n",
    "    A = []\n",
    "    for p in primes:\n",
    "        for r in range(p):\n",
    "            if f(r) % p == 0:\n",
    "                A.append((r, p))\n",
    "    return A"
   ]
  },
  {
   "cell_type": "markdown",
   "id": "1006b76b-7557-4899-8b41-801152724bdb",
   "metadata": {},
   "source": [
    "***\n",
    "\n",
    "##### Step 4: Define the quadratic character base $Q$\n",
    "\n",
    "To capture additional congruence information, we choose a set of primes $Q$ not in $A$ and find integers $s$ such that $f(s) \\equiv 0 \\pmod{q}$. This **quadratic character base** helps control certain signs and parity conditions when combining smooth numbers, which is crucial for guaranteeing that the final products will form perfect squares.\n",
    "\n",
    "**Implementation detail:** This base helps verify that an element in $\\mathbb{Z}[\\theta]$ is a perfect square. Each entry in $Q$ is a pair $(s, q)$, where $q$ is a prime not in $A$ and $s$ satisfies $f(s) \\equiv 0 \\pmod q$. These pairs are used to compute the Legendre symbol $\\left(\\frac{a+bs}{q}\\right)$, which acts as a check for squareness. The number of entries in $Q$ can be increased to raise the probability that the final result is a perfect square. For $n=45113$, primes 97, 101, 103, and 107 were used to build $Q$. $Q = \\{(28, 97), (87, 101), (47, 103), (4, 107), (8, 107), (80, 107)\\}$\n",
    "\n",
    "<span style=\"color:red;font-weight: bold;\">Question 2.2.4 : Implement the function to define the quadratic character base</span>"
   ]
  },
  {
   "cell_type": "code",
   "execution_count": 76,
   "id": "dcbbdeb7-d575-4aea-b080-47a1c425a1fb",
   "metadata": {},
   "outputs": [],
   "source": [
    "# ------------------------\n",
    "# Step 4: Quadratic character base Q\n",
    "# ------------------------\n",
    "def quadratic_character_base(f, primes, exclude_A):\n",
    "    \"\"\"\n",
    "    Generate the quadratic character base:\n",
    "    pairs (s, q) where q is a prime (not in the Algebraic factor base)\n",
    "    and s is a root of f(x) modulo q.\n",
    "    \"\"\"\n",
    "    Q = []\n",
    "    for q in primes:\n",
    "        if q in exclude_A:  # skip primes already used in A\n",
    "            continue\n",
    "        for s in range(q):\n",
    "            if f(s) % q == 0:\n",
    "                Q.append((s, q))\n",
    "    return Q"
   ]
  },
  {
   "cell_type": "markdown",
   "id": "752b86d0-13b7-4674-b96d-a6ddb431d40d",
   "metadata": {},
   "source": [
    "***\n",
    "\n",
    "##### Step 5: Find smooth pairs $(a, b)$\n",
    "\n",
    "We then search for integer pairs $(a, b)$ such that both $a + bm$ and $a + b\\theta$ are smooth over the rational and algebraic factor bases, respectively. By looping over $a$ for fixed $b$ and checking factorability, we collect enough pairs (typically more than $1 + k + l + u$) to ensure the linear system in the next step will have nontrivial solutions. These **smooth pairs** form the building blocks for constructing a congruence of squares.\n",
    "\n",
    "*1+k+l+u represents the total number of columns in the matrix we are building, where 1 is for the sign bit, k is the number of primes in the rational factor base, l is the number of \"algebraic primes\" in the algebraic factor base, and u is the number of primes in the quadratic character base.*\n",
    "\n",
    "**Implementation detail:** This is the core \"sieving\" part of the algorithm. We fix a small integer $b$ and let $a$ vary over a range, for example from $-N$ to $N$. For each pair $(a, b)$, we test if $a+bm$ is smooth over the rational factor base $R$ and if $a+b\\theta$ is smooth over the algebraic factor base $A$. This is done using sieve arrays. An integer $q \\in R$ divides $a+bm$ if $a \\equiv -bm \\pmod q$, while an algebraic factor $(r_i, p_i) \\in A$ divides $a+b\\theta$ if $a \\equiv -br_i \\pmod{p_i}$. We continue this process with different values of $b$ until we have found a sufficient number of smooth pairs, which is typically more than the total number of elements in all three bases ($1+k+l+u$).\n",
    "\n",
    "You don't have to implement this function"
   ]
  },
  {
   "cell_type": "code",
   "execution_count": 77,
   "id": "1539f5e3-2b12-4d5d-8109-e772782943cb",
   "metadata": {},
   "outputs": [],
   "source": [
    "# ------------------------\n",
    "# Step 5: Find smooth pairs (a, b)\n",
    "# ------------------------\n",
    "def factorize_with_sieve(x, factor_base_primes, spf):\n",
    "    '''\n",
    "    Return a list of exponents for each prime in factor_base_primes\n",
    "    Exponents = how many times each prime divides x\n",
    "    Leftover cofactor = any remaining part of x not in the base (1 if fully smooth)\n",
    "    Example: \n",
    "       factor_base_primes = [2, 3, 5]\n",
    "       x = 60 = 2^2 * 3^1 * 5^1\n",
    "           returns: ([2, 1, 1], 1)  --> fully smooth\n",
    "       x = 77 = 7 * 11\n",
    "           returns: ([0, 0, 0], 77) --> not smooth\n",
    "    '''\n",
    "    \n",
    "    if x <= 1:\n",
    "        return [0] * len(factor_base_primes), 1\n",
    "\n",
    "    exponents = [0] * len(factor_base_primes)\n",
    "    temp_x = x\n",
    "    # Factor using precomputed smallest-prime-factor table (spf)\n",
    "    while temp_x > 1:\n",
    "        p = spf[temp_x]                     # smallest prime factor of temp_x\n",
    "        try:\n",
    "            idx = factor_base_primes.index(p)   # find index in factor base\n",
    "            exponents[idx] += 1\n",
    "        except ValueError:\n",
    "            # Found a prime not in the factor base -> not smooth\n",
    "            return [0] * len(factor_base_primes), temp_x\n",
    "        temp_x //= p                        # divide out this factor\n",
    "    return exponents, 1\n",
    "\n",
    "def find_smooth_pairs(n, m, f, R, A, Q, a_limit=50, b_limit=3):\n",
    "    \"Systematically search for smooth pairs (a, b) that will later build the GNFS matrix.\"\n",
    "    pairs = []\n",
    "    A_primes = [p for _, p in A]\n",
    "\n",
    "    # Determine range for sieve (must cover all candidate values of a + b*m and a + b*f(m))\n",
    "    max_val_rational = b_limit * m + a_limit\n",
    "    max_val_algebraic = b_limit * f(m) + a_limit\n",
    "    max_val = max(max_val_rational, max_val_algebraic)\n",
    "\n",
    "    # Build smallest-prime-factor (spf) table via sieve of Eratosthenes\n",
    "    spf = list(range(max_val + 1))\n",
    "    for i in range(2, int(max_val**0.5) + 1):\n",
    "        if spf[i] == i:                      # i is prime\n",
    "            for j in range(i * i, max_val + 1, i):\n",
    "                if spf[j] == j:\n",
    "                    spf[j] = i               # record smallest prime factor for j\n",
    "\n",
    "    # Lookup dictionaries (not strictly needed, but conceptually map base primes to indices)\n",
    "    R_dict = {p: i for i, p in enumerate(R)}\n",
    "    A_dict = {p: i for i, p in enumerate(A_primes)}\n",
    "\n",
    "    # Loop over candidate (a, b) values\n",
    "    for b in range(1, b_limit):\n",
    "        for a in range(-a_limit, a_limit):\n",
    "            val_r = a + b * m                 # rational side value\n",
    "            val_a = a + b * f(m)              # algebraic side value (f evaluated at m)\n",
    "\n",
    "            # Factor rational side; skip if not smooth over R\n",
    "            rat_exp, rem_r = factorize_with_sieve(abs(val_r), R, spf)\n",
    "            if rem_r != 1:\n",
    "                continue\n",
    "\n",
    "            # Factor algebraic side; skip if not smooth over A\n",
    "            alg_exp, rem_a = factorize_with_sieve(abs(val_a), A_primes, spf)\n",
    "            if rem_a != 1:\n",
    "                continue\n",
    "\n",
    "            # Quadratic character contributions from (s, q) in Q\n",
    "            quad_exp = [0 if legendre_symbol(a + b * s, q) == 1 else 1 for s, q in Q]\n",
    "\n",
    "            # Save relation: exponent vectors and sign bits\n",
    "            pairs.append({\n",
    "                \"a\": a, \"b\": b,\n",
    "                \"rational\": rat_exp,\n",
    "                \"algebraic\": alg_exp,\n",
    "                \"quadratic\": quad_exp,\n",
    "                \"sign_r\": 0 if val_r >= 0 else 1,\n",
    "                \"sign_a\": 0 if val_a >= 0 else 1\n",
    "            })\n",
    "\n",
    "    return pairs"
   ]
  },
  {
   "cell_type": "markdown",
   "id": "121db874-17d5-4626-bc1e-85e4eae1b2d2",
   "metadata": {},
   "source": [
    "***\n",
    "\n",
    "##### Step 6: Construct the matrix $X$\n",
    "\n",
    "Each smooth pair $(a, b)$ is represented as a row vector containing the sign of $a + bm$, the exponents of its rational prime factors modulo 2, the exponents of the algebraic factors modulo 2, and any relevant quadratic characters. Stacking these vectors forms a $y \\times (1+k+l+u)$ matrix $X$. y is the number of smooth pairs collected hance the number of rows in the matrix. This matrix encodes all information necessary to combine smooth numbers into perfect squares.\n",
    "\n",
    "**Implementation detail:** For each smooth pair $(a,b)$, a row vector is created. The first entry is a sign bit (0 for positive $a+bm$, 1 for negative). The next $k$ entries are the exponents of the primes in the rational factor base $R$ from the factorization of $a+bm$, taken modulo 2. The following $l$ entries are the exponents of the algebraic factors from the factorization of $a+b\\theta$, also modulo 2. Finally, the last $u$ entries are derived from the quadratic character base $Q$, representing whether the Legendre symbol $\\left(\\frac{a+bs}{q}\\right)$ is 1 (entry 0) or -1 (entry 1). This vector essentially summarizes the parity of the exponents and the quadratic characters, which is a concise way to check for perfect squares.\n",
    "\n",
    "We have defined the matrix for you"
   ]
  },
  {
   "cell_type": "code",
   "execution_count": 78,
   "id": "6dffe6c9-45ca-4e3d-884a-54b747c58e79",
   "metadata": {},
   "outputs": [],
   "source": [
    "# ------------------------\n",
    "# Step 6: Construct matrix X\n",
    "# ------------------------\n",
    "def construct_matrix_X(pairs, R_len, A_len, Q_len):\n",
    "    \"\"\"\n",
    "    Build the exponent matrix X for GNFS:\n",
    "    - Each row corresponds to a smooth pair (a, b)\n",
    "    - Columns represent:\n",
    "        1. Sign bits (rational and algebraic)\n",
    "        2. Exponents modulo 2 for rational factor base R\n",
    "        3. Exponents modulo 2 for algebraic factor base A\n",
    "        4. Quadratic character bits for Q\n",
    "    - All entries reduced modulo 2 for linear algebra over F2\n",
    "    \"\"\"\n",
    "    matrix = []\n",
    "    for p in pairs:\n",
    "        # Combine all info into a single row\n",
    "        row = [p[\"sign_r\"], p[\"sign_a\"]] + p[\"rational\"] + p[\"algebraic\"] + p[\"quadratic\"]\n",
    "        # Reduce entries modulo 2\n",
    "        matrix.append([x % 2 for x in row])\n",
    "    return array(matrix, dtype=int)"
   ]
  },
  {
   "cell_type": "markdown",
   "id": "041735a5-6779-4967-931d-8aa5612cb5d2",
   "metadata": {},
   "source": [
    "***\n",
    "\n",
    "##### Step 7: Solve the linear system modulo 2\n",
    "\n",
    "We solve the system\n",
    "$$X^T \\cdot \\mathbf{A} \\equiv 0 \\pmod{2}$$to find subsets of smooth pairs that, when multiplied together, produce a perfect square both in $\\mathbb{Z}$ and in $\\mathbb{Z}[\\theta]$. Let $V \\subset U$ denote the selected subset. By construction:\n",
    "$$\\prod_{(a_j, b_j) \\in V} (a_j + bm) \\text{ is a perfect square in } \\mathbb{Z},$$\n",
    "$$\\prod_{(a_j, b_j) \\in V} (a_j + b_j\\theta) \\text{ is a perfect square in } \\mathbb{Z}[\\theta]$$\n",
    "This gives us the congruence of squares needed to attempt factorization.\n",
    "\n",
    "**Implementation detail:** The matrix equation $X^T \\mathbf{A} \\equiv \\mathbf{0} \\pmod 2$ is a system of linear equations over the field $\\mathbb{F}_2$. The entries of the vector $\\mathbf{A}$ are either 0 or 1, and a non-trivial solution is guaranteed to exist if the number of rows is greater than the number of columns ($y > 1+k+l+u$). Each $A_j=1$ in the solution vector corresponds to including the $j$-th smooth pair $(a_j, b_j)$ in the product. When the vectors corresponding to these pairs are added modulo 2, the result is the zero vector, which means that all exponents (and signs) in the final product are even, a necessary condition for being a perfect square.\n",
    "\n",
    "We already have solved for you the linear system"
   ]
  },
  {
   "cell_type": "code",
   "execution_count": 79,
   "id": "18a05270-60a5-457b-b4e1-a93abc8c67e9",
   "metadata": {},
   "outputs": [],
   "source": [
    "# ------------------------\n",
    "# Step 7: Solve linear system modulo 2\n",
    "# ------------------------\n",
    "def solve_linear_system_mod2(X):\n",
    "    \"\"\"\n",
    "    Solve the linear system X^T * A ≡ 0 (mod 2) to find dependencies:\n",
    "    - Each row in X represents a smooth pair (a, b)\n",
    "    - Columns are exponent/sign/quadratic bits modulo 2\n",
    "    - Goal: find non-trivial combinations of rows that sum to the zero vector (over F2)\n",
    "    - Returns indices of dependent rows forming a solution\n",
    "    \"\"\"\n",
    "    mat = X.copy()\n",
    "    rows, cols = mat.shape\n",
    "    pivot_rows = []      # keep track of pivot rows used in elimination\n",
    "    dependencies = []    # store indices of rows that form zero-sum combinations\n",
    "\n",
    "    # Gaussian elimination modulo 2\n",
    "    for col in range(cols):\n",
    "        pivot_row = None\n",
    "        for r in range(rows):\n",
    "            if r in pivot_rows:\n",
    "                continue\n",
    "            if mat[r, col] == 1:\n",
    "                pivot_row = r\n",
    "                pivot_rows.append(r)  # mark row as used as pivot\n",
    "                break\n",
    "        if pivot_row is None:\n",
    "            continue\n",
    "        # Eliminate 1s in this column from other rows\n",
    "        for r in range(rows):\n",
    "            if r != pivot_row and mat[r, col] == 1:\n",
    "                mat[r] = (mat[r] + mat[pivot_row]) % 2\n",
    "\n",
    "    # Rows that become all zeros correspond to dependencies\n",
    "    for i, row in enumerate(mat):\n",
    "        if not row.any():\n",
    "            dependencies.append(i)\n",
    "\n",
    "    # Return indices of dependent rows, or [0] if none found\n",
    "    return dependencies if dependencies else [0]\n"
   ]
  },
  {
   "cell_type": "markdown",
   "id": "bddcd13c-af7f-410c-895c-14e3e2f65a8f",
   "metadata": {},
   "source": [
    "***\n",
    "\n",
    "##### Step 8: Factor $n$ using the difference of squares\n",
    "\n",
    "Finally, we map the algebraic product back to integers using\n",
    "$$x^2 = \\phi \\left( \\prod_{(a_j, b_j) \\in V} (a_j + b_j\\theta) \\right),$$$$y^2 = \\prod_{(a_j, b_j) \\in V} (a_j + bm)$$and try to extract factors via$$\\gcd(n, x+y) \\quad \\text{and} \\quad \\gcd(n, x-y)$$\n",
    "If a nontrivial factor is found, the algorithm succeeds. Otherwise, we repeat the process with a new factor base or additional smooth pairs. This step exploits the classical “difference of squares” idea: if $s^2 \\equiv r^2 \\pmod{n}$, then $\\gcd(s \\pm r, n)$ often reveals a nontrivial factor of $n$.\n",
    "\n",
    "**Implementation detail:** With the subset of pairs $V$ from the previous step, we compute the products to get a perfect square in $\\mathbb{Z}$ and a perfect square in $\\mathbb{Z}[\\theta]$. We then compute the integer value of the algebraic perfect square using the mapping $\\phi: \\mathbb{Z}[\\theta] \\rightarrow \\mathbb{Z}/n\\mathbb{Z}$. This mapping satisfies $\\phi(\\theta) \\equiv m \\pmod n$. Thus, if $\\beta^2 = \\prod_{(a_j, b_j) \\in V} (a_j + b_j\\theta)$, then $\\phi(\\beta^2) = \\phi(\\beta)\\phi(\\beta)$ and $\\phi(\\beta^2) = \\phi(\\prod_{(a_j, b_j) \\in V} (a_j + b_j\\theta)) = \\prod_{(a_j, b_j) \\in V} (a_j + b_jm)$. This creates the congruence of squares $x^2 \\equiv y^2 \\pmod n$ that can be used for factorization with a high probability of success. For example, in the case of $n=45113$, this process led to the discovery of factors 197 and 229.\n",
    "\n",
    "<span style=\"color:red;font-weight: bold;\">Question 2.2.5 : Implement the difference of squares</span>"
   ]
  },
  {
   "cell_type": "code",
   "execution_count": 80,
   "id": "586de224-a2d7-4e37-b524-43c9aa0a66d0",
   "metadata": {},
   "outputs": [],
   "source": [
    "# ------------------------\n",
    "# Step 8: Factor n using difference of squares\n",
    "# ------------------------\n",
    "def difference_of_squares_factor(n, s, r):\n",
    "    \"\"\"\n",
    "    Attempt to factor n using the difference of squares:\n",
    "    If s^2 ≡ r^2 (mod n), then n divides (s-r)*(s+r).\n",
    "    Returns a non-trivial factor if found, else None.\n",
    "    \"\"\"\n",
    "    factor1 = gcd(s + r, n)\n",
    "    factor2 = gcd(s - r, n)\n",
    "    # Keep only non-trivial factors (not 1 or n)\n",
    "    factors = [f for f in (factor1, factor2) if 1 < f < n]\n",
    "    return factors[0] if factors else None"
   ]
  },
  {
   "cell_type": "markdown",
   "id": "90fdd29c-d374-44e0-abc6-f6fea864ea69",
   "metadata": {},
   "source": [
    "<span style=\"color:red;font-weight: bold;\">Question 2.2.6 : Implement the factorisation process</span>"
   ]
  },
  {
   "cell_type": "code",
   "execution_count": 81,
   "id": "24275f2e-1ba1-414c-8f4a-eead799329d2",
   "metadata": {},
   "outputs": [],
   "source": [
    "def factor_n_from_pairs(n, pairs, dependency, m, f):\n",
    "    \"\"\"\n",
    "    Combine selected smooth pairs (from dependency) to form perfect squares:\n",
    "    - Multiply rational side (a + b*m) to get x^2\n",
    "    - Multiply algebraic side (a + b*theta) evaluated at m to get y^2\n",
    "    - Use difference_of_squares_factor to attempt factorization of n\n",
    "    \"\"\"\n",
    "    #define x^2 and y^2\n",
    "    x_prod = 1\n",
    "    y_prod = 1\n",
    "    #for every idx in dependency retrieve a, b from pairs and compute the calculations to get x^2 and y^2\n",
    "    for idx in dependency:\n",
    "        a = pairs[idx][\"a\"]\n",
    "        b = pairs[idx][\"b\"]\n",
    "        x_prod *= (a + b * m)          # integer side\n",
    "        y_prod *= (a + b * f(m))       # algebraic side evaluated at m\n",
    "    # for x make sure it's positive if not make it positive\n",
    "    x = abs(x_prod)\n",
    "    # for y take integer square root, make sure y is positive if not make it positive\n",
    "    y = int(isqrt(abs(y_prod)))\n",
    "    #use difference of squares to retrieve a factor    \n",
    "    factor = difference_of_squares_factor(n, x, y)\n",
    "    return factor"
   ]
  },
  {
   "cell_type": "markdown",
   "id": "d837f80a-3661-40ed-9d7c-35e02adea01b",
   "metadata": {},
   "source": [
    "#### Complexity"
   ]
  },
  {
   "cell_type": "markdown",
   "id": "07497c55-4bc2-4442-a159-2dc2a183e550",
   "metadata": {},
   "source": [
    "Heuristically, its complexity for factoring an integer `n` (consisting of $\\lfloor\\log_2 n\\rfloor + 1$ bits) is of the form:"
   ]
  },
  {
   "cell_type": "markdown",
   "id": "8c1c2244-44ec-4e7f-8d58-3e7d0c00a543",
   "metadata": {},
   "source": [
    "![alt text](images/GNFS.svg)"
   ]
  },
  {
   "cell_type": "markdown",
   "id": "e683aaad-90cc-4cd8-a754-910df57f1217",
   "metadata": {},
   "source": [
    "#### Write the algorithm"
   ]
  },
  {
   "cell_type": "markdown",
   "id": "51dc8c35-34c1-4d04-b151-4079437e74ce",
   "metadata": {},
   "source": [
    "In the section above we listed and you have implemented all the functions you needed to construct the GNFS algorithm.\n",
    "\n",
    "<span style=\"color:red;font-weight: bold;\">Question 2.2.7 : Implement the full GNFS algorithm.</span>"
   ]
  },
  {
   "cell_type": "code",
   "execution_count": 82,
   "id": "534cba52-4789-4916-8d3e-0a9a4d22dd1f",
   "metadata": {},
   "outputs": [],
   "source": [
    "def gnfs(n, m, R_bound=30, A_bound=90, Q_bound=107, a_limit=20, b_limit=3):\n",
    "    #retieve the coefficients\n",
    "    coeffs = base_m_expansion(n, m)\n",
    "    #create the polynomial function\n",
    "    f = polynomial_function(coeffs)\n",
    "    print(f\"Polynomial f(x) = {polynomial_to_string(coeffs)}\")\n",
    "    #create the Rational factor base\n",
    "    R = rational_factor_base(R_bound)\n",
    "    print(f\"Rational factor base R: {R}\")\n",
    "    #retrieve all the primes from 2 to A_bound\n",
    "    A_primes = [p for p in range(2, A_bound) if isprime(p)]\n",
    "    #create the Algebraic factor base\n",
    "    A = algebraic_factor_base(f, A_primes)\n",
    "    print(f\"Algebraic factor base A: {A}\")\n",
    "    #retrieve all the primes from A_bound + 1 to Q_bound + 1\n",
    "    Q_primes = [p for p in range(A_bound + 1, Q_bound + 1) if isprime(p)]\n",
    "    #create the Quadratic character base\n",
    "    Q = quadratic_character_base(f, Q_primes, [p for _, p in A])\n",
    "    print(f\"Quadratic character base Q: {Q}\")\n",
    "    #Find smooth pairs\n",
    "    pairs = find_smooth_pairs(n, m, f, R, A, Q, a_limit=a_limit, b_limit=b_limit)\n",
    "    print(f\"Found {len(pairs)} smooth pairs\")\n",
    "    # quick check to see if we have enough pairs\n",
    "    num_cols = len(R) + len(A) + len(Q) + 1\n",
    "    if len(pairs) < num_cols:\n",
    "        print(\"Not enough smooth pairs. Increase limits (a and b) or bounds (R, A, Q).\")\n",
    "        return None\n",
    "    #construct the matrix X\n",
    "    X = construct_matrix_X(pairs, len(R), len(A), len(Q))\n",
    "    #solve the system\n",
    "    dependency = solve_linear_system_mod2(X)\n",
    "    # check if no dependency was found\n",
    "    if not dependency:\n",
    "      print(\"No non-trivial dependency found.\")\n",
    "      return None\n",
    "    # find one of the factors \n",
    "    factor = factor_n_from_pairs(n, pairs, dependency, m, f)\n",
    "    #return the factor found\n",
    "    return factor"
   ]
  },
  {
   "cell_type": "markdown",
   "id": "0e5df7bf-7db1-4fc0-9e40-aad50335d5f9",
   "metadata": {},
   "source": [
    "Let's run gnfs on an example. The goal here is only to find the prime factors of a given number because this is the most difficult part. This example will work (please note that the execution takes 8-12 seconds approximately) but if you want to try different values feel free but it might not work."
   ]
  },
  {
   "cell_type": "code",
   "execution_count": 83,
   "id": "a6acd9ec-f7e2-4554-a1b2-868ec70476ce",
   "metadata": {},
   "outputs": [
    {
     "name": "stdout",
     "output_type": "stream",
     "text": [
      "Trying to factor 45113 with m=31...\n",
      "Polynomial f(x) = 1*x**3 + 15*x**2 + 29*x + 8\n",
      "Rational factor base R: [2, 3, 5, 7, 11, 13, 17, 19, 23, 29, 31, 37, 41, 43, 47, 53, 59, 61, 67, 71, 73]\n",
      "Algebraic factor base A: [(0, 2), (6, 7), (13, 17), (11, 23), (26, 29), (18, 31), (19, 41), (13, 43), (1, 53), (46, 61), (2, 67), (6, 67), (44, 67), (50, 73), (23, 79), (47, 79), (73, 79), (28, 89), (62, 89), (73, 89), (28, 97), (87, 101), (47, 103), (4, 107), (8, 107), (80, 107), (52, 109), (99, 109), (108, 113), (33, 139)]\n",
      "Quadratic character base Q: [(11, 151), (42, 151), (83, 151), (67, 157), (56, 163), (137, 167)]\n",
      "Found 556 smooth pairs\n",
      "Found the 2 factors : 197 and 229 in 10.793264865875244 seconds\n",
      "45113 = 197 * 229\n"
     ]
    }
   ],
   "source": [
    "n = 45113\n",
    "m = 31\n",
    "print(f\"Trying to factor {n} with m={m}...\")\n",
    "start_time = time()\n",
    "factor = gnfs(n, m, R_bound=75, A_bound=150, Q_bound=167, a_limit=770, b_limit=753)\n",
    "if factor:\n",
    "    end_time = time()\n",
    "    print(f\"Found the 2 factors : {factor} and {n // factor} in {end_time - start_time} seconds\")\n",
    "    print(f\"{n} = {factor} * {n // factor}\")\n",
    "else:\n",
    "    print(f\"Could not factor {n}\")\n",
    "    print(f\"Try increasing limits (a and b) or bounds (R, A, Q) or use different values of m\")"
   ]
  },
  {
   "cell_type": "markdown",
   "id": "ff13cc8d-dd71-46da-80ab-8344dc905cfb",
   "metadata": {},
   "source": [
    "#### GNFS Cracking Time Estimates (Classical Resources)\n",
    "\n",
    "For reference, the following table estimates show how long it would take to factor RSA keys of different sizes. The times are extrapolated from data on previously factored, smaller numbers.\n",
    "\n",
    "| RSA key size (bits) | 1 core | 100 cores | 1 k cores | 10 k cores | 1 M cores |\n",
    "|---------------------|--------------:|----------:|----------:|-----------:|-----------:|\n",
    "| **512** | ~10 years     | ~36 days  | ~3.6 days | ~8.6 hours | ~5 minutes | \n",
    "| **768** | ~600 years    | ~6 years  | ~2.2 years| ~7.9 months| ~5 days    | \n",
    "| **1024** | ~30,000 years | ~300 years| ~30 years | ~3 years   | ~10 days   | \n",
    "| **2048** | ~1B years     | ~10M years| ~1M years | ~100k years| ~1,000 years| \n",
    "| **4096** | ~10¹⁵ years   | ~10¹³ years| ~10¹² years| ~10¹¹ years| ~10⁹ years |\n",
    "\n",
    "As we can see, classical computers have no hope of cracking RSA today. But what about the emerging world of quantum computing ? Could it succeed where classical machines fail?"
   ]
  },
  {
   "cell_type": "markdown",
   "id": "90935a90-33b3-41eb-b03a-7dbc252da6f7",
   "metadata": {},
   "source": [
    "## III) Foundations of Quantum Physics"
   ]
  },
  {
   "cell_type": "markdown",
   "id": "e3946270",
   "metadata": {},
   "source": [
    "### Brief Introduction"
   ]
  },
  {
   "cell_type": "markdown",
   "id": "650f4ddd",
   "metadata": {},
   "source": [
    "Quantum physics, also known as quantum mechanics, is the branch of physics that describes the behavior of matter and energy at the smallest scales—atoms, electrons, and photons. It emerged in the early 20th century when classical physics could no longer explain phenomena such as blackbody radiation, the photoelectric effect, and atomic spectra.\n",
    "\n",
    "Key milestones include Max Planck’s quantization of energy (1900), Albert Einstein’s explanation of the photoelectric effect (1905), Niels Bohr’s atomic model (1913), and the development of wave mechanics by Erwin Schrödinger and matrix mechanics by Werner Heisenberg in the 1920s. Together, these discoveries formed the foundation of quantum theory, revolutionizing our understanding of the natural world.\n",
    "\n",
    "Quantum mechanics not only explains the structure of matter but also underpins modern technologies such as semiconductors, lasers, quantum computers, and medical imaging. Today, it remains both a practical tool for technology and a profound framework that challenges our notions of reality, probability, and measurement."
   ]
  },
  {
   "cell_type": "markdown",
   "id": "822364d4-5676-4da4-8fec-7a66595da4d2",
   "metadata": {},
   "source": [
    "### Superposition and no-cloning theorem"
   ]
  },
  {
   "cell_type": "markdown",
   "id": "1d3c3cf6",
   "metadata": {},
   "source": [
    "![alt text](images/shrodinger_cat.jpeg)"
   ]
  },
  {
   "cell_type": "markdown",
   "id": "45588b02",
   "metadata": {},
   "source": [
    "Superposition is one of the most fundamental ideas in quantum mechanics. Unlike a classical bit, which can only be in a definite state of `0` or `1`, a quantum bit (qubit) can exist in a combination of both states at the same time, with certain probabilities. But we will talk about qubits later. Erwin Schrödinger illustrated this with his famous thought experiment known as Schrödinger’s cat. Imagine a cat placed in a sealed box with a radioactive atom, a Geiger counter, and a vial of poison that will be released if the atom decays. According to quantum theory, before the box is opened, the atom is in a superposition of “decayed” and “not decayed.” Consequently, the cat is also in a superposition of being both alive and dead simultaneously. It is only when we observe (open the box) that the system collapses into one definite outcome. \n",
    "\n",
    "This \"collapse\" happens in the quantum world whenever we observe or measure a particle: the superposition disappears and we only see one definite result. Because of this, it is also impossible to make a perfect copy of an unknown quantum state. This is called the no-cloning theorem. In everyday life, we can copy files on a computer or duplicate a piece of paper. But with quantum particles, copying would mean knowing the exact state of the particle without disturbing it — and that is impossible. If we try to measure the particle to figure out its state, the superposition collapses, and we lose the original information. In simple terms: you can’t peek at a quantum state without changing it, and you can’t duplicate superposition without destroying it."
   ]
  },
  {
   "cell_type": "markdown",
   "id": "5ced1bdb-c508-4e58-9674-f75304fa7b99",
   "metadata": {},
   "source": [
    "### Entanglement"
   ]
  },
  {
   "cell_type": "markdown",
   "id": "321964e2",
   "metadata": {},
   "source": [
    "Entanglement is a strange and fascinating feature of the quantum world. When two particles become entangled, their states are linked, no matter how far apart they are. This means that if you measure one particle, you instantly know the state of the other, even if it is on the other side of the universe. In fact, the information is spread faster than the speed of light — it happens instantly. \n",
    "\n",
    "For example, imagine you have a pair of magic coins that are entangled. You put one coin in New York and the other in Tokyo. If you flip the coin in New York and it lands on heads, the coin in Tokyo will automatically be heads as well. \n",
    "\n",
    "Entanglement is different from superposition: with superposition, a single particle is in multiple states at once. With entanglement, two or more particles are linked so that their states depend on each other."
   ]
  },
  {
   "cell_type": "markdown",
   "id": "9e1a49f6-6764-4021-8f98-30c2dcc07946",
   "metadata": {},
   "source": [
    "## IV) Discover the Quantum Computers"
   ]
  },
  {
   "cell_type": "markdown",
   "id": "74718406-6ecf-480b-b7a0-4e43655582f0",
   "metadata": {},
   "source": [
    "### What is a quantum computer"
   ]
  },
  {
   "cell_type": "markdown",
   "id": "77277448-a733-4336-b946-994dfd1b7bee",
   "metadata": {},
   "source": [
    "A quantum computer is a new kind of computer that uses the rules of quantum mechanics to process information. Unlike classical computers, which use bits that are either 0 or 1, quantum computers use qubits that can be in a superposition of 0 and 1 at the same time. This allows quantum computers to perform certain calculations much faster than classical computers.\n",
    "\n",
    "However, one common misconception is that quantum computers can test all possibilities at once to solve any problem instantly. In reality, quantum computers cannot do everything — they are not general-purpose machines like your laptop or phone. For example, you cannot play video games or browse the web on a quantum processor. Instead, quantum computers are specialized tools designed to solve very specific types of problems, such as factoring large numbers, simulating molecules, or optimizing complex systems, where the principles of superposition and entanglement give them an advantage over classical machines."
   ]
  },
  {
   "cell_type": "markdown",
   "id": "a1aefbd9-934d-4a8d-956e-7764adf1865b",
   "metadata": {},
   "source": [
    "### What is a qubit & how to measure a state ?"
   ]
  },
  {
   "cell_type": "markdown",
   "id": "98904534-4792-4488-a28c-451bfac4355f",
   "metadata": {},
   "source": [
    "A **qubit** is the basic unit of information in a quantum computer, similar to a classical bit.  \n",
    "Unlike a classical bit, which is either `0` or `1`, a qubit can be in a **superposition** of both states at the same time. Mathematically, we write a qubit as:\n",
    "\n",
    "$$\n",
    "|\\psi\\rangle = \\alpha |0\\rangle + \\beta |1\\rangle\n",
    "$$\n",
    "\n",
    "where $\\alpha$ and $\\beta$ are complex numbers ($a + bi$ or $re^{i\\phi}$) will describe (after taking the modulus squared) the probability amplitudes of the qubit being in state `0` or `1`.  \n",
    "We can also represent this qubit as a **column vector** also known as **ket**:\n",
    "\n",
    "$$\n",
    "|\\psi\\rangle =\n",
    "\\begin{pmatrix}\n",
    "\\alpha \\\\\n",
    "\\beta\n",
    "\\end{pmatrix}\n",
    "$$\n",
    "\n",
    "When we **measure** a qubit, even in superposition of states, it will collapse into one of the two definite states (`0` or `1`) of classical computers. The **probability** of each outcome is given by the **modulus squared** of the amplitude and by the rules of quantum mechanics, the **sum of these probabilities is always 1**. For example, to calculate the probability of state 0 :\n",
    "\n",
    "$$\n",
    "P(0) = |\\alpha|^2 = a^2 + b^2 = r^2\n",
    "$$\n",
    "\n",
    "For example, we consider a qubit in superposition with the quantum state :\n",
    "$$\n",
    "|\\psi\\rangle = \\frac{1}{\\sqrt{2}} |0\\rangle + \\frac{1}{\\sqrt{2}} |1\\rangle\n",
    "$$ \n",
    "We can measure the probabilities of the states 0 and 1 : \n",
    "$P(0) = |\\alpha|^2 = (\\frac{1}{\\sqrt{2}})^2 = 0.5$ and $P(1) = |\\beta|^2 = (\\frac{1}{\\sqrt{2}})^2 = 0.5$. If we measure this state multiple times, the qubit will give `0` 50% of the time and `1` 50% of the time.  \n",
    "\n",
    "There are many ways to represent a qubit in hardware. In fact it can be realized in both natural and synthetic systems. **Natural qubits** exploit quantum states that exist inherently in nature, such as the spin of an electron or nucleus, the polarization of a photon, or the internal states of trapped ions like $^{171}\\mathrm{Yb}^+$. **Synthetic qubits** are engineered quantum systems designed to behave like two-level systems, including superconducting circuits (like transmons), quantum dots, nitrogen-vacancy (NV) centers in diamond, and topological qubits based on exotic states of matter. Natural qubits take advantage of existing quantum properties, while synthetic qubits are created to be highly controllable and scalable for quantum computing.\n"
   ]
  },
  {
   "cell_type": "markdown",
   "id": "b77bbb7e-35a1-41ba-8d8d-869a0dba3f8c",
   "metadata": {},
   "source": [
    "### Quantum Circuits & Gates"
   ]
  },
  {
   "cell_type": "markdown",
   "id": "feed1d96-1026-4ea7-a9af-0841a492b1d7",
   "metadata": {},
   "source": [
    "In quantum computing, implementing an algorithm involves **building a quantum circuit**, which is a sequence of operations applied to qubits. These operations are performed using **quantum gates**, which manipulate 1 or many qubits by changing their states, creating superpositions, or generating entanglement. \n",
    "\n",
    "Mathematically, each quantum gate is represented as a **unitary matrix**. A **unitary matrix** is a special kind of square matrix $U$ that satisfies $U^\\dagger U = U U^\\dagger = I$, where $U^\\dagger$ is the conjugate transpose of $U$ and $I$ is the identity matrix. Unitary matrices preserve the length of vectors, which in quantum computing means they maintain the total probability of a qubit state. All **quantum gates** are represented by unitary matrices because they perform reversible operations on qubits without losing information.\n",
    "\n",
    "Applying a gate to a qubit corresponds to a **matrix multiplication** with the qubit’s state vector. From a computer science perspective, quantum gates provide a **level of abstraction**, allowing us to design and reason about algorithms without worrying about the specific physical hardware. This is similar to classical programming, where we focus on **what the computation does** rather than the details of the underlying processor architecture.\n",
    "\n",
    "#### Example: The Hadamard Gate\n",
    "\n",
    "One of the most famous and useful quantum gates is the **Hadamard gate (H)**, which creates **superposition**. When applied to a qubit, it transforms the basis states $|0⟩$ or $|1⟩$ into an equal superposition of both.  \n",
    "\n",
    "The **matrix representation** of the Hadamard gate is:\n",
    "\n",
    "$$\n",
    "H = \\frac{1}{\\sqrt{2}}\n",
    "\\begin{bmatrix}\n",
    "1 & 1 \\\\\n",
    "1 & -1\n",
    "\\end{bmatrix}\n",
    "$$\n",
    "\n",
    "For a qubit initially in state $|0⟩$:\n",
    "\n",
    "$$\n",
    "|0⟩ = \n",
    "\\begin{bmatrix}\n",
    "1 \\\\\n",
    "0\n",
    "\\end{bmatrix},\n",
    "$$\n",
    "\n",
    "applying the Hadamard gate gives:\n",
    "\n",
    "$$\n",
    "H|0⟩ = \\frac{1}{\\sqrt{2}}\n",
    "\\begin{bmatrix}\n",
    "1 & 1 \\\\\n",
    "1 & -1\n",
    "\\end{bmatrix}\n",
    "\\begin{bmatrix}\n",
    "1 \\\\\n",
    "0\n",
    "\\end{bmatrix}\n",
    "= \\frac{1}{\\sqrt{2}}\n",
    "\\begin{bmatrix}\n",
    "1 \\\\\n",
    "1\n",
    "\\end{bmatrix}\n",
    "= \\frac{|0⟩ + |1⟩}{\\sqrt{2}}\n",
    "$$\n",
    "\n",
    "This puts the qubit in a **superposition**, with an equal probability of being measured as 0 or 1. The Hadamard gate is a fundamental building block for many quantum algorithms, including the **quantum Fourier transform** and **Grover’s search**.\n",
    "\n",
    "For a complete list of quantum gates, [see this link](https://qiskit.org/documentation/apidoc/circuit_library.html).\n"
   ]
  },
  {
   "cell_type": "markdown",
   "id": "f6e31b4a-f537-41c6-9642-7bd14eea2662",
   "metadata": {},
   "source": [
    "### Advanced Concepts and Further Reading"
   ]
  },
  {
   "cell_type": "markdown",
   "id": "7638dcb3-32d8-49bb-ab1a-6a8c4b26b036",
   "metadata": {},
   "source": [
    "If you’ve read all the previous sections, great job! If you really like this topic or are really interested in it, there are several additional aspects of quantum computing that we haven’t covered in detail yet. For the rest you can skip this part. "
   ]
  },
  {
   "cell_type": "markdown",
   "id": "a7659155-707b-4d7c-9ef4-65d298c73c97",
   "metadata": {},
   "source": [
    "#### Relaxation (T1) and Decoherence (T2) times in quantum world"
   ]
  },
  {
   "cell_type": "markdown",
   "id": "b437d50a-2330-467b-8d9b-db22dc18bfd7",
   "metadata": {},
   "source": [
    "In the quantum world, qubits are delicate and easily disturbed by their environment. Two important timescales describe how long a qubit can maintain its quantum behavior. **Relaxation time (T1)** measures how long a qubit stays in an excited state before it “relaxes” back to its ground state. For example, if a qubit is in state $|1⟩$, T1 tells us how long it takes, on average, to decay to state $|0⟩$. This is sometimes called the energy relaxation time. **Decoherence time (T2)** measures how long a qubit can maintain its quantum superposition (a combination of $|0⟩$ and $|1⟩$) before it loses coherence due to interaction with the environment. Decoherence causes the qubit to behave more like a classical bit, destroying the advantages of quantum computation. \n",
    "Let's take the example below. The relaxation time will actually represent the time where the electron spin goes from up to down (qubit 1 to qubit 0) and the decoherence time is the time that the qubit takes to go from a superposition state (right image) to the state 0 (left image) or 1 (middle image)\n",
    "T2 is usually shorter than T1, because decoherence can happen even if the qubit hasn’t lost energy. In simple terms, T1 is how long the qubit keeps its energy, and T2 is how long the qubit keeps its quantum “weirdness” (superposition). These times are critical in designing quantum algorithms because qubits must maintain coherence long enough to perform calculations accurately. "
   ]
  },
  {
   "cell_type": "markdown",
   "id": "913269c1-7ada-41b8-9811-61bf7678a22f",
   "metadata": {},
   "source": [
    "![alt text](images/visualise_times.png)"
   ]
  },
  {
   "cell_type": "markdown",
   "id": "794382ca-54d3-4236-a887-5d537cf3229f",
   "metadata": {},
   "source": [
    "#### Further reading"
   ]
  },
  {
   "cell_type": "markdown",
   "id": "f13a38ca-7210-461f-a5ef-052656ece3fd",
   "metadata": {},
   "source": [
    "One key reason quantum computers can be faster than classical ones is that **$n$ qubits can represent $2^n$ classical states simultaneously**, thanks to superposition. You can read more about this [here](https://quantumcomputing.stackexchange.com/questions/4652/understanding-theoretical-computing-power-of-quantum-computers).  \n",
    "\n",
    "To describe multiple qubits together, we use the **tensor product**, which combines individual qubit states into a single multi-qubit state. Quantum gates can then operate on these combined states, enabling complex transformations that are difficult or impossible for classical computers. Learn more about the tensor product [here](https://medium.com/quantum-untangled/tensor-products-linear-algebra-for-qc-8f7bb5020c6c).  \n",
    "\n",
    "We also haven’t gone into detail about the different types of quantum hardware and quantum error correction, but this [guide](https://www.bluequbit.io/quantum-computing-hardware) provides a comprehensive overview. Finally, another important topic we haven’t discussed yet is **quantum simulators**, which allow researchers to test and explore quantum algorithms on classical machines. Learn more about it [here](https://www.bluequbit.io/quantum-computing-simulators)."
   ]
  },
  {
   "cell_type": "markdown",
   "id": "d67c93cd-d6ff-4501-bdda-41415aa429de",
   "metadata": {},
   "source": [
    "## V) Setting up our first algorithm for quantum computers"
   ]
  },
  {
   "cell_type": "markdown",
   "id": "1459f287-7b2a-444d-9218-bf72766244c4",
   "metadata": {},
   "source": [
    "### Setting up qiskit"
   ]
  },
  {
   "cell_type": "markdown",
   "id": "f74cbf7c-e501-4350-b75d-8c432e06f1ad",
   "metadata": {},
   "source": [
    "We will be running the functions on a quantum computer simulator so you don't have to setup a IBM qiskit account. All the required packages are already installed. If you want to run your code on a real quantum hardware we advice you to follow the steps [here](https://canvas.kth.se/courses/56029/pages/tutorial-ibm-quantum-platform-upgraded-login-api-key-and-your-first-run-bell-pair?module_item_id=1256103)."
   ]
  },
  {
   "cell_type": "markdown",
   "id": "ff5962cb-0032-4cf5-8b4a-2ccf23996b00",
   "metadata": {},
   "source": [
    "Here is a function to run your circuit on a simulator :"
   ]
  },
  {
   "cell_type": "code",
   "execution_count": 84,
   "id": "39c5f8a7-e188-4d6f-8a96-62f96d1c93e6",
   "metadata": {},
   "outputs": [],
   "source": [
    "def run_simulation(qc, shots=1024):\n",
    "    simulator = AerSimulator()\n",
    "    compiled_circuit = transpile(qc, simulator)\n",
    "    job = simulator.run(compiled_circuit, shots=shots)\n",
    "    result = job.result()\n",
    "    counts = result.get_counts()\n",
    "    return counts"
   ]
  },
  {
   "cell_type": "markdown",
   "id": "3cb06902-cabe-4892-8671-31bd79be8fc4",
   "metadata": {},
   "source": [
    "### First Algorithm (QRNG)"
   ]
  },
  {
   "cell_type": "markdown",
   "id": "1d660625-265e-4920-915b-f5c8de83bfc6",
   "metadata": {},
   "source": [
    "In **quantum computing**, one of the simplest yet most powerful applications is the generation of **random numbers**.  \n",
    "\n",
    "In **classical computing**, we usually rely on *pseudo-random number generators (PRNGs)*.  \n",
    "These algorithms create numbers that **look random**, but they are ultimately **deterministic** if the algorithm and the initial seed are known.\n",
    "\n",
    "---\n",
    "\n",
    "#### How the Algorithm Works\n",
    "\n",
    "Think of a **qubit** like a magic coin:\n",
    "\n",
    "1. **Start:**  \n",
    "   It’s set to heads ($|0⟩$) by default.\n",
    "\n",
    "2. **Hadamard gate (H):**  \n",
    "   This is like spinning the coin perfectly.  \n",
    "   While it’s spinning, it’s in a **superposition**, not just heads or tails, but both at once.\n",
    "\n",
    "3. **Measure:**  \n",
    "   You “catch” the coin. The spin stops, and it becomes either heads or tails.  \n",
    "   In quantum terms, the qubit **collapses** to $0$ or $1$, each with a 50% chance.\n",
    "\n",
    "If you **spin and measure** the qubit many times, you get a list of 0s and 1s that’s **truly random**. In our case we are going to use 3 qubits to directly form a number of 3 bits.\n",
    "\n",
    "That’s a **Quantum Random Number Generator (QRNG)**. \n",
    "\n",
    "Now we have to try to implement it.\n"
   ]
  },
  {
   "cell_type": "markdown",
   "id": "dfb2f481-1791-45fc-ad8b-04038efb8997",
   "metadata": {},
   "source": [
    "**First we have to create a circuit**"
   ]
  },
  {
   "cell_type": "code",
   "execution_count": 85,
   "id": "37d9d598-8ad1-4077-aa04-c191fe2f37e1",
   "metadata": {},
   "outputs": [],
   "source": [
    "n = 3\n",
    "qc = QuantumCircuit(n) #We use the QuantumCircuit primitive and specify the number of qubits\n",
    "# The initial state of the cicuit is every qubit in state 0"
   ]
  },
  {
   "cell_type": "markdown",
   "id": "cf65aeb0-2226-42c2-856d-677137014cf8",
   "metadata": {},
   "source": [
    "**Then we have to add the gates we are going to use on the qubits**"
   ]
  },
  {
   "cell_type": "code",
   "execution_count": 86,
   "id": "c1f053ad-dcd0-4a6c-8304-0f9d4d72def6",
   "metadata": {},
   "outputs": [],
   "source": [
    "for i in range(n):\n",
    "    qc.h(i) #We apply the hadamard gate on every qubit as seen in the algorithm before\n",
    "    # This will put every qubit in superposition (like spinning a coin)"
   ]
  },
  {
   "cell_type": "markdown",
   "id": "7a30464f-8ba5-45a0-952a-77a926bfb21c",
   "metadata": {},
   "source": [
    "**Then we have to measure the state of the qubits**"
   ]
  },
  {
   "cell_type": "code",
   "execution_count": 87,
   "id": "a79a8432-8f67-415d-bf96-bb017054a6b4",
   "metadata": {},
   "outputs": [],
   "source": [
    "qc.measure_all(n) #We use this function because we want to measure all the qubits. This will collapse the state of one qubit to be 0 or 1 \n",
    "# and store the result in a so called measuring bit"
   ]
  },
  {
   "cell_type": "markdown",
   "id": "dda9df73-3751-42df-a933-482bf75590fd",
   "metadata": {},
   "source": [
    "**We can visualise the circuit**"
   ]
  },
  {
   "cell_type": "code",
   "execution_count": 88,
   "id": "972e1f99-3b4a-45f9-a96a-2027ad9a027f",
   "metadata": {},
   "outputs": [
    {
     "data": {
      "image/png": "[encoded data removed]",
      "text/plain": [
       "<Figure size 580.387x367.889 with 1 Axes>"
      ]
     },
     "execution_count": 88,
     "metadata": {},
     "output_type": "execute_result"
    }
   ],
   "source": [
    "qc.draw('mpl')"
   ]
  },
  {
   "cell_type": "markdown",
   "id": "a6ad88b3-0d4e-4259-8175-771e9e8de583",
   "metadata": {},
   "source": [
    "Then we have to run the simulation. We have to run the simulation many times to have good results. In fact, each run of a quantum circuit gives only **one random outcome** (e.g., `0` or `1`). Because quantum results are **probabilistic**, we must repeat the circuit many times (called *shots*) to estimate the **true probabilities** of each outcome (More runs = more accurate results). In our case we will run the simulation 1024 times."
   ]
  },
  {
   "cell_type": "code",
   "execution_count": 89,
   "id": "a0a36914-9761-40e1-a3ab-b3342a27356f",
   "metadata": {},
   "outputs": [
    {
     "name": "stdout",
     "output_type": "stream",
     "text": [
      "{'110': 129, '000': 134, '001': 116, '101': 128, '111': 140, '011': 131, '100': 116, '010': 130}\n"
     ]
    }
   ],
   "source": [
    "results = run_simulation(qc, shots=1024)\n",
    "print(results)"
   ]
  },
  {
   "cell_type": "markdown",
   "id": "569f3ef3-85c4-43c9-9433-c0f51c89832d",
   "metadata": {},
   "source": [
    "The result is a dictionnary with key an output of a simulation and value how many time this value appeared during all the 1024 simulations. But this isn't a good way to visualise it. It would be more representative with a plot. Fortunately qiskit has a way to do it with 'plot_histogram'."
   ]
  },
  {
   "cell_type": "code",
   "execution_count": 90,
   "id": "6a66fdc1-f1be-48e4-aeef-e07b714c0022",
   "metadata": {},
   "outputs": [
    {
     "data": {
      "image/png": "[encoded data removed]",
      "text/plain": [
       "<Figure size 640x480 with 1 Axes>"
      ]
     },
     "execution_count": 90,
     "metadata": {},
     "output_type": "execute_result"
    }
   ],
   "source": [
    "plot_histogram(results)"
   ]
  },
  {
   "cell_type": "markdown",
   "id": "9fbbf87b-1044-44c9-9fe0-f7441286e2d5",
   "metadata": {},
   "source": [
    "We can see that the outcome is truly random making each 3 bits numbers equally likely. We really have implemented a quantum random generator."
   ]
  },
  {
   "cell_type": "markdown",
   "id": "5c793bb9-2db9-4b83-aec3-cb7a3ea85e67",
   "metadata": {},
   "source": [
    "## VI) Crack RSA with Quantum Computers"
   ]
  },
  {
   "cell_type": "markdown",
   "id": "6ec405b7-e841-4ae0-90eb-caf2d6c6a361",
   "metadata": {},
   "source": [
    "## Shor Algorithm\n",
    "\n",
    "---\n",
    "\n",
    "### Objective\n",
    "\n",
    "Shor’s algorithm allows us to **factor an integer $n$**, i.e. to find its prime factors $p$ and $q$ such that:\n",
    "\n",
    "$$\n",
    "n = p \\cdot q\n",
    "$$\n",
    "\n",
    "This directly breaks RSA because it lets us compute $\\varphi(n)$.\n",
    "\n",
    "---\n",
    "\n",
    "### Step 1: Choose a random number $a$\n",
    "\n",
    "Choose $a$ such that $1 < a < n$\n",
    "\n",
    "- If $\\gcd(a, n) \\neq 1$, then we have already found a **non-trivial factor** of $n$: factorization is done, and we stop here.  \n",
    "> Note: for RSA, since $n = p \\cdot q$, $\\gcd(a, n) \\neq 1$ directly gives $p$ or $q$.  \n",
    "- If $\\gcd(a, n) = 1$, proceed to the next step.\n",
    "\n",
    "---\n",
    "\n",
    "### Step 2: Find the order $r$ of $a$ modulo $n$\n",
    "\n",
    "- If $\\gcd(a, n) = 1$, then $a$ is **invertible modulo $n$** and there exists an integer $k$ such that:  \n",
    "    $$\n",
    "    a^k \\equiv 1 \\bmod n\n",
    "    $$\n",
    "- We denote $r$ as the order of $a$ modulo $n$. It is the smallest integer $k$ such that:\n",
    "    $$\n",
    "    a^k \\equiv 1 \\bmod n\n",
    "    $$\n",
    "- Once the order $r$ is found, if it is odd, go back to Step 1. Otherwise, continue to the next step.\n",
    "> Note: we search for $r$ and not a multiple because:\n",
    "> - if $k$ is even, $a^{r_{multiple}} = a^{kr/2} \\equiv 1 \\bmod n$, which gives trivial GCDs (1 or n)\n",
    "> - if $k$ is odd, $a^{r_{multiple}} \\equiv a^{r/2} \\bmod n$, so we gain nothing\n",
    "\n",
    "---\n",
    "\n",
    "### Step 3: Compute the factors of $n$\n",
    "\n",
    "- If the order $r$ of $a$ is even, then we can write:\n",
    "\n",
    "   $$(a^{r/2} - 1)(a^{r/2} + 1) \\equiv 0 \\bmod n$$\n",
    "\n",
    "  *Proof:* Since $a^r \\equiv 1 \\bmod n$ and $a^r - 1 = (a^{r/2} - 1)(a^{r/2} + 1)$, the product is zero modulo $n$.\n",
    "\n",
    "- If $a^{r/2} \\pm 1 \\not\\equiv 0 \\bmod n$, then the non-trivial factors of $n$ are given by:  \n",
    "  $$\n",
    "  p = \\gcd(a^{r/2} - 1, n), \\quad\n",
    "  q = \\gcd(a^{r/2} + 1, n)\n",
    "  $$\n",
    "\n",
    "  We use the greatest common divisor of $a^{r/2} \\pm  1$ and $n$ because since $r$ is the smallest integer that satisfies the equation above, $n$  cannot divide both $a^{r/2} +  1$ and $a^{r/2} - 1$. This means that $n$ must have a common divisor with them or at least one of them.\n",
    "\n",
    "  Otherwise, go back to Step 1.\n",
    "\n",
    "---\n",
    "\n",
    "### Algorithm summary:\n",
    "- Step 1: Choose a random number $a$ such that $1 < a < n$.\n",
    "- Step 2: Find the order $r$ of $a$ modulo $n$.\n",
    "- Step 3: Compute the prime factors:\n",
    "  $$\n",
    "  p = \\gcd(a^{r/2} - 1, n), \\quad\n",
    "  q = \\gcd(a^{r/2} + 1, n)\n",
    "  $$\n",
    "---\n",
    "\n",
    "### Note: The role of the quantum computer\n",
    "\n",
    "- The hard part is to **find $r$ efficiently**.  \n",
    "- On a classical computer, you’d need to test many powers → too slow.  \n",
    "- The quantum computer uses:  \n",
    "  1. **Superposition**: all possible $k$ values are put in a quantum state.  \n",
    "  2. **Function $f(k) = a^k \\bmod n$** applied in parallel.  \n",
    "  3. **Quantum Fourier Transform (QFT)**: reveals the period $r$.  \n",
    "  4. **Measurement**: retrieves $r$ with high probability.  \n",
    "\n",
    "---\n",
    "\n",
    "### Proof of correctness\n",
    "\n",
    "1. **Existence of $r$**: every function $f(k) = a^k \\bmod n$ is periodic modulo $p$ and $q$ if $\\gcd(a, n) = 1$.  \n",
    "2. **Factorization via gcd**: if $r$ is even and $a^{r/2} \\not\\equiv -1$, then $(a^{r/2}-1)(a^{r/2}+1) \\equiv 0 \\bmod n$, and the gcd extracts a prime factor.  \n",
    "3. **Probability of success**: at least half of all possible $a$ lead to success → repeating a few times almost always works.  \n",
    "4. **Completeness**: for RSA, finding one factor is enough to recover the other.\n",
    "\n",
    "---\n",
    "\n",
    "### Concrete example\n",
    "\n",
    "Take $n = 15 = 3 \\cdot 5$ and $a = 2$:\n",
    "\n",
    "1. $\\gcd(2,15)=1$, so continue.  \n",
    "2. Function: $f(k) = 2^k \\bmod 15$  \n",
    "3. Order: $r = 4$ (first $k$ with $2^k \\equiv 1 \\mod 15$)  \n",
    "4. Factorization: $2^4 - 1 = 15 = (2^2-1)(2^2+1) = 3 \\cdot 5$  \n",
    "5. GCD computation: $\\gcd(3,15)=3$, $\\gcd(5,15)=5$ → the prime factors are found.  \n",
    "\n",
    "> Everything works perfectly.\n",
    "\n",
    "---\n"
   ]
  },
  {
   "cell_type": "markdown",
   "id": "1f0c592e",
   "metadata": {},
   "source": [
    "**Pretty easy right ? But you are far from being done because implementing it with qiskit is hard but we will go through it step by step. Here is the generic circuit of the algorithm.**"
   ]
  },
  {
   "cell_type": "markdown",
   "id": "6ba2a402-2084-4ffa-adc8-f4c6843f9c59",
   "metadata": {},
   "source": [
    "<img src=\"images/shor_circuit.jpg\" alt=\"Description\" width=\"800\" height=\"800\"/>"
   ]
  },
  {
   "cell_type": "markdown",
   "id": "53684c99-b5f2-49b9-b387-18758088aaee",
   "metadata": {},
   "source": [
    "### Step-by-Step Tutorial: Implementing Shor's Algorithm in Qiskit"
   ]
  },
  {
   "cell_type": "markdown",
   "id": "8dd86688-a7b3-4700-8a3e-ef9de0471668",
   "metadata": {},
   "source": [
    "#### Step 1: Define the qubits\n",
    "\n",
    "Shor's algorithm uses three types of qubits:\n",
    "\n",
    "1. **Control qubits**:  \n",
    "   - These qubits encode the exponent `x` in the modular exponentiation $a^x \\mod N$.  \n",
    "   - We will apply **Hadamard gates** to put them into **superposition**, so that all possible values of `x` are considered at once.\n",
    "\n",
    "2. **Target qubits**:  \n",
    "   - These qubits hold the result of the modular exponentiation $a^x \\mod N$.  \n",
    "   - Initially, they are set to represent the number `1` (or $\\ket{1}$) since $a^0 \\mod N = 1$.\n",
    "\n",
    "3. **Classical counting qubits**:  \n",
    "   - Used to **measure the phase** after quantum operations.  \n",
    "   - The number of counting qubits affects the **precision** of the estimated period.\n",
    "\n",
    "**Implementation detail** : So first step is to know how many qubits we have to use. To do that we have to know how many qubits are needed to write our number n in binary. This will be the number of target qubits. For enough precision of estimation we take twice the number of target qubits for our control qubits. Since at the end we measure our control qubits we have to have as many classical counting bits.\n"
   ]
  },
  {
   "cell_type": "markdown",
   "id": "5778114f-9a58-4040-af33-d518ae343fab",
   "metadata": {},
   "source": [
    "--- \n",
    "\n",
    "#### Step 2: Put Control Qubits in Superposition\n",
    "\n",
    "Apply a **Hadamard gate** to each control qubit:\n",
    "\n",
    "- This creates a **superposition** of all possible $x$ values.\n",
    "- Each control qubit now represents **all states 0 and 1 at the same time**.\n",
    "- This is necessary because **Shor's algorithm evaluates $a^x \\mod N$ for all $x$ simultaneously**. This is what makes the algorithm so powerful.\n"
   ]
  },
  {
   "cell_type": "markdown",
   "id": "b6e5d992-ae14-4a61-b51e-bd4f0ddad230",
   "metadata": {},
   "source": [
    "---\n",
    "\n",
    "#### Step 3: Define Modular Multiplication as a Unitary\n",
    "\n",
    "We need a **unitary matrix** $U$ such that:\n",
    "\n",
    "$$\n",
    "U \\, |y\\rangle = |a \\cdot y \\bmod N\\rangle\n",
    "$$\n",
    "\n",
    "- In **Qiskit**, we can build it using `UnitaryGate`.\n",
    "- This will be applied **controlled by the control qubits**, meaning it only acts on the target qubits if the control qubit is in the $\\ket{1}$ state. You will see why it is important in the next step."
   ]
  },
  {
   "cell_type": "markdown",
   "id": "29cc6c67-b3f0-4f83-bf5e-629107a0ebc9",
   "metadata": {},
   "source": [
    "We have implemented for you this matrix. \n",
    "We implemented a **modular multiplication gate** $U_a$ as a unitary operator derived from the permutation matrix corresponding to multiplication by $a \\bmod N$. It is defined as:\n",
    "\n",
    "$$\n",
    "U_a \\, |k\\rangle =\n",
    "\\begin{cases} \n",
    "|a k \\bmod N\\rangle & \\text{if } 0 \\le k < N \\\\[1em]\n",
    "|k\\rangle & \\text{if } k \\ge N\n",
    "\\end{cases}\n",
    "$$\n",
    "\n",
    "For $k \\ge N$, the gate acts as the identity, which is needed to ensure **reversibility**.\n"
   ]
  },
  {
   "cell_type": "code",
   "execution_count": 91,
   "id": "8c6e22cf-8f54-4670-ae38-0df1ca56abc7",
   "metadata": {},
   "outputs": [],
   "source": [
    "def mod_gate(a, N):\n",
    "    \"\"\"\n",
    "    Modular multiplication gate from permutation matrix.\n",
    "    N is the number to factorise and a is the coprime we are going to use in a^x mod n\n",
    "    \"\"\"\n",
    "    n = floor(log(N - 1, 2)) + 1\n",
    "    U = full((2**n, 2**n), 0)\n",
    "    for x in range(N):\n",
    "        U[a * x % N][x] = 1\n",
    "    for x in range(N, 2**n):\n",
    "        U[x][x] = 1\n",
    "    G = UnitaryGate(U)\n",
    "    G.name = \"U\"\n",
    "    return G"
   ]
  },
  {
   "cell_type": "markdown",
   "id": "9531a171-e225-4d8f-bc52-c3766201a436",
   "metadata": {},
   "source": [
    "---\n",
    "\n",
    "#### Step 4: Apply Controlled Modular Exponentiation (Quantum Phase Estimation)\n",
    "\n",
    "For each control qubit $k$:\n",
    "\n",
    "- Apply $U^{2^k}$ **controlled** on that qubit.\n",
    "- This encodes the **phase corresponding to the eigenvalue** of $U$ in the control qubits.\n",
    "- This is the core of **Quantum Phase Estimation (QPE)**.\n",
    "- The measured phase will allow us to **extract the period $r$** of $a^x \\mod N$.\n",
    "\n",
    "**Why this is important and how it works:**\n",
    "\n",
    "1. **Quantum Phase Estimation (QPE) relies on controlled operations:**  \n",
    "   - In Shor’s algorithm, we want to estimate the **phase $\\phi$ corresponding to the eigenvalue** of the unitary operator $U$, the matrix we defined above via modular multiplication.  \n",
    "   - An eigenvector $|u\\rangle$ of $U$ satisfies $U |u\\rangle = e^{2\\pi i \\phi} |u\\rangle$, where $\\phi$ contains information about the period $r$ of $a^x \\mod N$. We will explain later how we can retrieve this information.\n",
    "   - By applying $U$ **controlled on the control qubits**, the phase $\\phi$ is **encoded in the amplitudes** of the control qubits. It is important because we can only measure the amplitude and not the phase !\n",
    "\n",
    "2. **Exponentiation via powers of two:**  \n",
    "   - Each control qubit represents a **different power of 2** in the exponent $x$ of $a^x \\mod N$.  \n",
    "   - Applying the modular multiplication **controlled** ensures that the target qubits are affected **only when that qubit contributes** to $x$. Basically if that qubit is 1 in the binary representation of x. \n",
    "   - Mathematically, this implements $U^{2^k}$ for the $k$-th control qubit.\n",
    "\n",
    "3. **Preserves superposition:**  \n",
    "   - Control qubits are in **superposition** of all $x$ values.  \n",
    "   - Using controlled $U^{2^k}$ gates (see circuit above) allows the target qubits to hold **all possible $a^x \\mod N$ values simultaneously**, creating quantum parallelism.  \n",
    "   - This is what gives Shor's algorithm its exponential speedup over classical factoring.\n",
    "\n",
    "**In simple terms:**  \n",
    "\n",
    "- The eigenvalue $e^{2\\pi i \\phi}$ of $U$ encodes the **repeating pattern (period) of $a^x \\mod N$**.  \n",
    "- By using controlled gates, we transfer this **hidden periodicity** from the target qubits into the control qubits, where it can be measured and used to compute the factors of $N$."
   ]
  },
  {
   "cell_type": "markdown",
   "id": "52cfb1e6-59c3-46dd-8352-26c7b7be6f5f",
   "metadata": {},
   "source": [
    "#### Follow this Step-by-Step to apply Controlled Modular Exponentiation :\n",
    "\n",
    "1. **Create the modular multiplication gate**  (See step before)\n",
    "     \n",
    "2. **Loop over each control qubit**  \n",
    "   - Each control qubit corresponds to a different **power of 2** in the exponent $x$ of $a^x \\bmod N$.  \n",
    "   - The first control qubit represents the least significant bit, the second represents the next power of 2, and so on.\n",
    "\n",
    "3. **Apply powers of the unitary and make it controlled**  \n",
    "   - Raise $U$ to the power $2^k$, where $k$ is the index of the control qubit with ``power()`` and make the gate controlled with ``control()``. Don't forget to get the result because it's the gate we are going to work with.\n",
    "\n",
    "4. **Compose into the circuit**  \n",
    "   - Sequentially apply these controlled unitaries with ``compose()`` to build the full controlled modular exponentiation. The list of qubit correspond to the control qubit itself and the list of the targets qubits it's acting on. (Don't forget to force the target into a list). The value inplace must be True as well.\n",
    "\n",
    "5. **Return the modified circuit**\n"
   ]
  },
  {
   "cell_type": "markdown",
   "id": "954039fe-30bf-4162-8d40-43ed5fdd1adb",
   "metadata": {},
   "source": [
    "<span style=\"color:red;font-weight: bold;\">Question 3.1 : Implement the QPE based on the step by step tutorial</span>"
   ]
  },
  {
   "cell_type": "code",
   "execution_count": 92,
   "id": "82afa2dc-bb43-4129-b610-7830f2735c7b",
   "metadata": {},
   "outputs": [],
   "source": [
    "def QPE(control, target, circuit, a, N):\n",
    "    \"\"\"\n",
    "    control is the list of the controlled qubits\n",
    "    target is the list of the target qubits\n",
    "    circuit corresponds to the circuit representing Shor\n",
    "    a is the coprime\n",
    "    N is the number to factorise\n",
    "    \"\"\"\n",
    "    U = mod_gate(a, N)\n",
    "    for k, qubit in enumerate(control):\n",
    "        U_controlled = U.power(2**k).control()\n",
    "        circuit.compose(U_controlled, qubits=[qubit] + list(target), inplace=True)\n",
    "    return circuit"
   ]
  },
  {
   "cell_type": "markdown",
   "id": "b95b1f7e-3748-4974-8eec-3773c0cb12fc",
   "metadata": {},
   "source": [
    "---\n",
    "\n",
    "#### Step 5: Apply Quantum Fourier Transform dagger (QFT†)\n",
    "\n",
    "- The **QFT** (Quantum Fourier Transform) extracts the **phase encoded** in the control qubits into a **computational basis state**.  \n",
    "- After applying QFT†, **measuring the control qubits** gives a **binary approximation** of the phase:\n",
    "\n",
    "$$\n",
    "\\phi = \\frac{s}{r}\n",
    "$$\n",
    "\n",
    "**Understanding $s$ and the fraction $\\phi = s/r$:**\n",
    "\n",
    "1. **What $s$ represents:**  \n",
    "   - In Shor's algorithm, $r$ is the **period** of the function $f(x) = a^x \\mod N$.  \n",
    "   - The unitary $U$ for modular multiplication has **eigenvalues** of the form:\n",
    "\n",
    "   $$\n",
    "   e^{2\\pi i s / r}, \\quad s = 0, 1, \\dots, r-1\n",
    "   $$\n",
    "\n",
    "   - The integer $s$ indexes the **different eigenvalues** of $U$ corresponding to the period $r$.  \n",
    "   - Each $s$ is associated with a possible outcome of Quantum Phase Estimation (QPE).\n",
    "\n",
    "2. **Why the fraction $\\phi = s/r$ appears:**  \n",
    "   - The phase of each eigenvalue is always a **rational number** because we used Shor's modular multiplication unitary. That's why the eigenvalue $\\phi$ is represented with form:\n",
    "\n",
    "   $$\n",
    "   \\phi = \\frac{s}{r}\n",
    "   $$\n",
    "\n",
    "   - QPE measures an approximation of this phase as:\n",
    "\n",
    "   $$\n",
    "   \\frac{m}{2^n} \\approx \\phi\n",
    "   $$\n",
    "\n",
    "   - Where:  \n",
    "     - $m$ is the **integer value** obtained from measuring the $n$ control qubits (in decimal).  \n",
    "     - $n$ is the **number of control qubits**, which determines the **precision** of the phase estimation.  \n",
    "\n",
    "   - Using **continued fractions** on $m/2^n$, we can recover the **denominator $r$**, i.e., the period of $a^x \\mod N$."
   ]
  },
  {
   "cell_type": "markdown",
   "id": "0a2d96bc-538d-407e-9278-ce66dcd7009b",
   "metadata": {},
   "source": [
    "<span style=\"color:red;font-weight: bold;\">Question 3.2 : Based on the image below that performs qft on 4 qubits, implement the quantum fourier transform dagger for n qubits.</span>\n",
    "\n",
    "The QFT dagger corresponds to just taking the inverse of the QFT. So first create a circuit that performs the QFT then tranform it into a gate and then apply the inverse."
   ]
  },
  {
   "cell_type": "markdown",
   "id": "0ce3cd15-e246-4b4d-b165-e7f4f89e9fe3",
   "metadata": {},
   "source": [
    "![alt text](images/prep_qft_circuit.png)"
   ]
  },
  {
   "cell_type": "markdown",
   "id": "494567a9-b464-4b9c-b80d-d5d532e4694a",
   "metadata": {},
   "source": [
    "We have already seen what the H gate is but the blue line corresponds to the control phase gate. See how to implement it [here](https://quantum.cloud.ibm.com/docs/en/api/qiskit/1.0/qiskit.circuit.library.CPhaseGate). Specifically look at the ``cp()`` method.\n"
   ]
  },
  {
   "cell_type": "code",
   "execution_count": 93,
   "id": "fa6d1898-d088-441a-b861-687edaa8233e",
   "metadata": {},
   "outputs": [],
   "source": [
    "def QFT_dagger(num_control):\n",
    "    # Implement the QFT as seen in the picture above, make it into a gate and then inverse it\n",
    "    qc = QuantumCircuit(num_control)\n",
    "    for j in range(num_control):\n",
    "        qc.h(num_control-j-1)\n",
    "        for k in range(j+1, num_control):\n",
    "            # Apply controlled phase rotation\n",
    "            qc.cp(pi/2**(k-j), num_control-k-1, num_control-1-j)\n",
    "    # Swap qubits to reverse order\n",
    "    for i in range(num_control//2):\n",
    "        qc.swap(i, num_control-i-1)\n",
    "    #Create a gate for qft\n",
    "    qft = qc.to_gate()\n",
    "    #Inverse qft to have qft dagger\n",
    "    qft_dagger = qft.inverse()\n",
    "    qft_dagger.name = \"QFT†\"\n",
    "    return qft_dagger"
   ]
  },
  {
   "cell_type": "markdown",
   "id": "7fbddd8c-1533-4363-be46-1a8343496f3b",
   "metadata": {},
   "source": [
    "--- \n",
    "\n",
    "#### Step 6: Measure Control Qubits\n",
    "\n",
    "- Measuring the control qubits gives a **binary number**, which corresponds to a **phase estimate**.  \n",
    "- This estimated phase can then be used to compute the **period $r$** via **continued fractions** as seen before.\n"
   ]
  },
  {
   "cell_type": "markdown",
   "id": "9e14a100-43f2-4b4f-9802-8d9e000c6b0d",
   "metadata": {},
   "source": [
    "---\n",
    "\n",
    "#### Step 7: Post-Processing to Find Factors\n",
    "\n",
    "1. **Convert the measured value to a phase:**\n",
    "\n",
    "$$\n",
    "\\text{phase} = \\frac{\\text{measured\\_value}}{2^{\\text{num\\_control}}}\n",
    "$$\n",
    "\n",
    "2. **Approximate the fraction** by limiting the denominator to be $N$ maximum and find the denominator $r$.\n",
    "   - In Shor's algorithm, the **period $r$** of the function $f(x) = a^x \\mod N$ must satisfy:\n",
    "    $$\n",
    "    a^r \\equiv 1 \\ (\\text{mod } N)\n",
    "    $$\n",
    "    - The period $r$ is therefore **at most $N$**, since it cannot be larger than the number we are factoring.\n",
    "  \n",
    "3. **Use $r$ to compute potential factors:**\n",
    "\n",
    "$$\n",
    "\\text{factor}_1 = \\gcd(a^{r/2} - 1, N), \\quad\n",
    "\\text{factor}_2 = \\gcd(a^{r/2} + 1, N)\n",
    "$$\n",
    "\n",
    "4. **Verify that the factors are non-trivial**, i.e., they are not 1 or $N$."
   ]
  },
  {
   "cell_type": "markdown",
   "id": "23d05629-806f-4902-9268-c1f1f486b310",
   "metadata": {},
   "source": [
    "<span style=\"color:red;font-weight: bold;\">Question 3.3 : Now create a function that estimates the period</span>\n",
    "\n",
    "Use the ``Fraction`` class and don't forget to calculate the phase first"
   ]
  },
  {
   "cell_type": "code",
   "execution_count": 94,
   "id": "4c623f7b-2db6-4d8e-bf47-4d747ce5e682",
   "metadata": {},
   "outputs": [],
   "source": [
    "def estimate_period(N, value, nb_precision_qubits):\n",
    "    \"\"\"\n",
    "    N is the number to factorise\n",
    "    value is the measured_value\n",
    "    nb_precision_qubits is the number of control qubits\n",
    "    \"\"\"\n",
    "    phase = value / 2**nb_precision_qubits \n",
    "    frac = Fraction(phase).limit_denominator(N)\n",
    "    r = frac.denominator\n",
    "    return r"
   ]
  },
  {
   "cell_type": "markdown",
   "id": "bad1fd92-8235-4430-b07d-e6629747d7a6",
   "metadata": {},
   "source": [
    "<span style=\"color:red;font-weight: bold;\">Question 3.4 : Now create a function to calculate the factors with the period</span>"
   ]
  },
  {
   "cell_type": "code",
   "execution_count": 95,
   "id": "cc4cb014-34c2-4154-8415-e3208e14ffaa",
   "metadata": {},
   "outputs": [],
   "source": [
    "def calculate_factors(a, r, N):\n",
    "    \"\"\"\n",
    "    a is the coprime\n",
    "    r is the period found\n",
    "    N is the number to factorise\n",
    "    Return the factors as a list if you are able to find them else return None\n",
    "    \"\"\"\n",
    "    #check if r is even\n",
    "    if r % 2 == 0:\n",
    "    # Calculate potential factors\n",
    "        factor1 = gcd(pow(a, r//2) - 1, N)\n",
    "        factor2 = gcd(pow(a, r//2) + 1, N)\n",
    "        if factor1 not in [1, N] or factor2 not in [1, N]:\n",
    "            return [factor1, factor2]\n",
    "    return None"
   ]
  },
  {
   "cell_type": "markdown",
   "id": "d18202d1-0944-4e38-84c2-d045f3cf570b",
   "metadata": {},
   "source": [
    "### Now that we have implemented all the helping functions. let's implement the algorithm."
   ]
  },
  {
   "cell_type": "markdown",
   "id": "4d1281dc-e96e-4ac5-9bc2-9de1f2980c44",
   "metadata": {},
   "source": [
    "First let's initialise the whole circuit (step 1 to 6). \n",
    "We have already given you the list of the control qubits, target qubits and output qubits. \n",
    "Don't forget to measure the qubits but this time we can't use ``measure_all()`` because we don't care about the value of the target qubits. So we have to use ``measure()``."
   ]
  },
  {
   "cell_type": "markdown",
   "id": "fcf179f9-d490-40af-800a-9e841a5ca317",
   "metadata": {},
   "source": [
    "<span style=\"color:red;font-weight: bold;\">Question 3.5 : Create a circuit that performs steps 1-6</span>"
   ]
  },
  {
   "cell_type": "code",
   "execution_count": 96,
   "id": "76de966c-aab1-46f0-afd9-e240c8b389d8",
   "metadata": {},
   "outputs": [],
   "source": [
    "def initialize_circuit(a, N, num_target, num_control):\n",
    "    \"\"\"\n",
    "    a is the coprime\n",
    "    N is the number to factorise\n",
    "    num_target is the number of target qubits\n",
    "    num_control is the number of control qubits\n",
    "    \"\"\"\n",
    "    # Initialize the circuit\n",
    "    control = QuantumRegister(num_control, name=\"C\")\n",
    "    target = QuantumRegister(num_target, name=\"T\")\n",
    "    output = ClassicalRegister(num_control, name=\"out\")\n",
    "    circuit = QuantumCircuit(control, target, output)\n",
    "    circuit.x(target[0])\n",
    "    circuit.barrier()\n",
    "    for qubit in control:\n",
    "        circuit.h(qubit)\n",
    "    circuit.barrier()\n",
    "    circuit = QPE(control, target, circuit, a, N)\n",
    "    #apply qft_dagger\n",
    "    circuit.compose(QFT_dagger(num_control), qubits=list(control), inplace=True)\n",
    "    circuit.measure(control, output)\n",
    "    return circuit"
   ]
  },
  {
   "cell_type": "markdown",
   "id": "e900ed46-2b1b-4792-a38a-d2ebb0961c47",
   "metadata": {},
   "source": [
    "We are providing you a function to print the factors : "
   ]
  },
  {
   "cell_type": "code",
   "execution_count": 97,
   "id": "6b85ab58-b2f5-4b14-bb69-75a7fac4d657",
   "metadata": {},
   "outputs": [],
   "source": [
    "def print_factors(factors, N): \n",
    "    factor1 = factors[0]\n",
    "    factor2 = factors[1]\n",
    "    if factor1 in [1,N] :\n",
    "        print(f\"Found the 2 factors : {factor2} and {N//factor2}\")\n",
    "    elif factor2 in [1,N] :\n",
    "        print(f\"Found the 2 factors : {factor1} and {N//factor1}\")\n",
    "    else :\n",
    "        print(f\"Found the 2 factors : {factor1} and {factor2}\")"
   ]
  },
  {
   "cell_type": "markdown",
   "id": "e27531d8-6dcc-4e60-9e58-4f6ce220f7fe",
   "metadata": {},
   "source": [
    "<span style=\"color:red;font-weight: bold;\">Question 3.6 : Implement Shor's Algorithm</span>"
   ]
  },
  {
   "cell_type": "code",
   "execution_count": 98,
   "id": "55ba0804-b696-4816-bb04-343e69d7bf17",
   "metadata": {},
   "outputs": [],
   "source": [
    "def shor(a, N):\n",
    "    # Precompute to see if a and N are coprime\n",
    "    if gcd(a, N) > 1:\n",
    "        print(f\"Error: gcd({a},{N}) > 1\")\n",
    "        return None\n",
    "    # Number of qubits\n",
    "    #Calculate the number of target qubits and control qubits\n",
    "    num_target = floor(log(N - 1, 2)) + 1  # for modular exponentiation operators\n",
    "    num_control = 2 * num_target  # for enough precision of estimation\n",
    "    print(\"Initializing the circuit...\")\n",
    "    #Initialize the circuit (step 1-6)\n",
    "    circuit = initialize_circuit(a, N, num_target, num_control)\n",
    "    print(\"Circuit initialized\")\n",
    "    print(\"Simulating the circuit...\")\n",
    "    #simulate the algorithm \n",
    "    counts = run_simulation(circuit)\n",
    "    print(\"Simulations done\")\n",
    "    #This will allow us to have the sorted list of the possible outputs in decimal.\n",
    "    decimal_values = sorted([int(bitstr, 2) for bitstr in counts.keys()])\n",
    "    #Try to retrieve the period and the factors for each value. If the value is 0 then continue.\n",
    "    for value in decimal_values:\n",
    "        if value == 0:\n",
    "            continue\n",
    "        r = estimate_period(N, value, num_control)\n",
    "        print(f\"Estimated period r = {r} from value {value}\")\n",
    "        print(\"Trying to calculate factors...\")\n",
    "        factors = calculate_factors(a, r, N)\n",
    "        if factors:\n",
    "            print(\"Factors found!\")\n",
    "            print_factors(factors, N)\n",
    "            return\n",
    "        print(\"Failed to calculate factors with this r, trying next value...\")\n",
    "    print(\"Failed to find factors.\")\n",
    "    return"
   ]
  },
  {
   "cell_type": "markdown",
   "id": "6b82301f-6c13-4fdd-aaae-4d8d8a3999d6",
   "metadata": {},
   "source": [
    "Now let's try it with a=2 and N=15\n",
    "Here is what the final circuit should look like : \n",
    "![alt-text](images/shor215.png)"
   ]
  },
  {
   "cell_type": "code",
   "execution_count": 99,
   "id": "c0dd4cfe-9e1c-40c8-835d-f8e5d8cafe04",
   "metadata": {},
   "outputs": [
    {
     "name": "stdout",
     "output_type": "stream",
     "text": [
      "Initializing the circuit...\n",
      "Circuit initialized\n",
      "Simulating the circuit...\n",
      "Simulations done\n",
      "Estimated period r = 4 from value 64\n",
      "Trying to calculate factors...\n",
      "Factors found!\n",
      "Found the 2 factors : 3 and 5\n"
     ]
    }
   ],
   "source": [
    "a = 2\n",
    "N = 15\n",
    "shor(a, N)"
   ]
  },
  {
   "cell_type": "markdown",
   "id": "7bd28b26-de7d-404a-8dca-fe569b46cddf",
   "metadata": {},
   "source": [
    "## VII) Is security of our data compromised ?"
   ]
  },
  {
   "cell_type": "markdown",
   "id": "a32c514b-a02a-47fd-85e2-2a9927bd6acb",
   "metadata": {},
   "source": [
    "### Quantum Computers are yet not powerful enough"
   ]
  },
  {
   "cell_type": "markdown",
   "id": "ff007130-a215-4d8a-bd0e-8868b1c6c953",
   "metadata": {},
   "source": [
    "Although Shor’s algorithm provides a polynomial-time method for integer factorization, its practical application is severely limited by the current state of quantum hardware. Experimental demonstrations have so far only managed to factor very small numbers, with the most reliable implementations handling integers such as **15** and **21**.  \n",
    "\n",
    "**Guess what?** *YOU have implemented a circuit that factors 15!* So you officially belong to the elite ranks of quantum computing pioneers :).\n",
    "\n",
    "These results validate the algorithm but highlight the vast gap between theoretical capability and cryptographically relevant problem sizes.\n",
    "\n",
    "Estimates for breaking a **2048-bit RSA modulus** remain far beyond present technology. Factoring such a number is projected to require approximately **20 million physical qubits** when error correction overhead is considered. Even with algorithmic optimizations, the requirement is unlikely to fall below **one million physical qubits**. By contrast, the most advanced hardware currently available contains just over **1,000 qubits** (such as IBM’s *Condor* processor with **1,121 qubits**), underscoring the enormous gap between experimental capability and the resources required to compromise RSA in practice.  \n",
    "\n",
    "The circuit depth of Shor’s algorithm scales quadratically with the key size, and at this scale, execution would demand **trillions of sequential quantum gate operations**—orders of magnitude beyond the **coherence times of existing devices** (IBM's best hardware has a coherence time of **400 microseconds**). In addition, the total energy expenditure for such a computation has been estimated in the **tens of megawatt-hours**, comparable to the continuous operation of a small industrial facility.\n",
    "\n",
    "In summary, while RSA is theoretically vulnerable to quantum factorization, the hardware required to execute such an attack does not yet exist. Present-day quantum computers remain **millions of qubits** and several technological breakthroughs away from posing a realistic threat to widely used cryptographic key sizes."
   ]
  },
  {
   "cell_type": "markdown",
   "id": "d59315e8-473e-4ba9-b171-84ebb2d6de42",
   "metadata": {},
   "source": [
    "### Classical methods such as Elliptic Curve Cryptography cannot be crack by quantum computers (yet)"
   ]
  },
  {
   "cell_type": "markdown",
   "id": "b525f1cd-aeed-46ae-a75d-ee33f29c4c2a",
   "metadata": {},
   "source": [
    "#### Elliptic Curve Cryptography (ECC)\n",
    "\n",
    "ECC is based on the algebraic structure of **elliptic curves over finite fields**. The main idea is that while it is easy to perform certain operations (point addition and scalar multiplication), it is **computationally hard to invert them**, a problem known as the **elliptic curve discrete logarithm problem (ECDLP)**.\n",
    "\n",
    "A typical elliptic curve over a prime field $\\mathbb{F}_p$ is defined as:\n",
    "\n",
    "$$\n",
    "y^2 \\equiv x^3 + ax + b \\pmod{p}\n",
    "$$\n",
    "\n",
    "with the condition \n",
    "\n",
    "$$\n",
    "4a^3 + 27b^2 \\not\\equiv 0 \\pmod{p}\n",
    "$$\n",
    "\n",
    "to avoid singularities.\n",
    "\n",
    "A **prime field** $\\mathbb{F}_p$ is the set of integers modulo a prime number $p$:\n",
    "\n",
    "$$\n",
    "\\mathbb{F}_p = \\{ 0, 1, 2, \\dots, p-1 \\}\n",
    "$$\n",
    "Let $p = 7$. Then:\n",
    "$$\n",
    "\\mathbb{F}_7 = \\{0, 1, 2, 3, 4, 5, 6\\}\n",
    "$$\n",
    "\n",
    "---\n",
    "\n",
    "#### Steps to Use ECC\n",
    "\n",
    "1. **Define the Curve and Field**  \n",
    "   Choose a prime $p$ and curve parameters $a, b$ that satisfy the curve equation and are secure.\n",
    "\n",
    "2. **Select a Base Point $G$**  \n",
    "   A predefined point $G = (x, y)$ on the curve is selected, called the **generator point**.\n",
    "\n",
    "3. **Key Generation**\n",
    "\n",
    "    - **Private Key**: The private key is a randomly chosen integer $d$ such that $1 \\leq d \\leq n-1$, where $n$ is the **order of the base point** $G$. The order $n$ is the smallest positive integer such that $n \\cdot G = \\mathcal{O}$, where $\\mathcal{O}$ is the **point at infinity**, acting as the “zero” of the elliptic curve group. You can think of the elliptic curve like a **circular track**: starting at $G$, if you keep running $d$ laps (adding $G$ repeatedly), you eventually return to the starting line after $n$ laps. The private key $d$ is like the **number of laps you choose to run**. Even if someone sees your final position $Q$ on the track, figuring out exactly how many laps you ran (the value of $d$) is extremely hard — this is what keeps ECC secure.\n",
    "      \n",
    "    - **Public Key**: The public key is a point $Q$ on the curve, computed as $$ Q = d \\cdot G $$ using **scalar multiplication**, which is repeated addition of the point $G$ to itself $d$ times. For example, $2 \\cdot G = G + G$, $3 \\cdot G = G + G + G$, and so on. This is the core operation: repeatedly adding a point to itself efficiently using double-and-add. Scalar multiplication is computationally easy in the forward direction, but given $Q$ and $G$, it is extremely hard to determine $d$ — this is the **elliptic curve discrete logarithm problem (ECDLP)**. This asymmetry is what makes ECC secure: the private key $d$ allows you to generate the public key $Q$, but deriving $d$ from $Q$ without knowing it is computationally infeasible."
   ]
  },
  {
   "cell_type": "code",
   "execution_count": 100,
   "id": "fd5e2768-59eb-4660-96cf-b91d5242f062",
   "metadata": {},
   "outputs": [],
   "source": [
    "def point_add(P, Q):\n",
    "    # Add two points P and Q on the elliptic curve\n",
    "\n",
    "    if P is None:\n",
    "        return Q  # If P is the point at infinity, return Q\n",
    "    if Q is None:\n",
    "        return P  # If Q is the point at infinity, return P\n",
    "\n",
    "    x1, y1 = P\n",
    "    x2, y2 = Q\n",
    "\n",
    "    if P == Q:\n",
    "        # Point doubling case\n",
    "        if y1 == 0:\n",
    "            return None  # Tangent is vertical, result is point at infinity\n",
    "        # Slope of tangent line at P\n",
    "        m = (3*x1**2 + a) * pow(2*y1, -1, p) % p\n",
    "    else:\n",
    "        if x1 == x2:\n",
    "            return None  # Vertical line, result is point at infinity\n",
    "        # Slope of line connecting P and Q\n",
    "        m = (y2 - y1) * pow(x2 - x1, -1, p) % p\n",
    "\n",
    "    # Compute the resulting point coordinates\n",
    "    x3 = (m**2 - x1 - x2) % p\n",
    "    y3 = (m*(x1 - x3) - y1) % p\n",
    "\n",
    "    return (x3, y3)  # Return the sum point\n",
    "\n",
    "def scalar_mult(k, P):\n",
    "    # Multiply point P by integer k using double-and-add method\n",
    "\n",
    "    R = None  # Initialize result as point at infinity\n",
    "    addend = P  # Start with the initial point\n",
    "\n",
    "    while k:\n",
    "        if k & 1:\n",
    "            R = point_add(R, addend)  # Add current addend if lowest bit of k is 1\n",
    "        addend = point_add(addend, addend)  # Double the point for next bit\n",
    "        k >>= 1  # Shift k to process next bit\n",
    "\n",
    "    return R  # Return the resulting point k*P\n"
   ]
  },
  {
   "cell_type": "markdown",
   "id": "f74200d4-7954-4919-ad6a-ff1b4ac02f4d",
   "metadata": {},
   "source": [
    "<span style=\"color:red;font-weight: bold;\">Question 4.1 : Implement the different steps to use ECC</span>"
   ]
  },
  {
   "cell_type": "code",
   "execution_count": 101,
   "id": "fbc427b8-8422-4c24-b084-62b7ccf1dea4",
   "metadata": {},
   "outputs": [
    {
     "name": "stdout",
     "output_type": "stream",
     "text": [
      "Private key d = 1\n",
      "Public key Q = (3, 6)\n"
     ]
    }
   ],
   "source": [
    "# --- Step 1: Define the Curve and Field ---\n",
    "# Curve: y^2 = x^3 + ax + b over F_p\n",
    "p = 97         # prime field\n",
    "a = 2\n",
    "b = 3\n",
    "\n",
    "# --- Step 2: Select a Base Point G ---\n",
    "G = (3, 6)     # generator point\n",
    "\n",
    "# --- Step 3: Key Generation ---\n",
    "\n",
    "# Private key: random integer d\n",
    "n = 5  # Example small order for demonstration\n",
    "d = randint(1, n-1)\n",
    "print(\"Private key d =\", d)\n",
    "\n",
    "# Public key: Q = d * G\n",
    "Q = scalar_mult(d, G)\n",
    "print(\"Public key Q =\", Q)\n"
   ]
  },
  {
   "cell_type": "markdown",
   "id": "69027f3e-6a63-433a-9741-2844a32f3df7",
   "metadata": {},
   "source": [
    "Elliptic Curve Cryptography (ECC) relies on the difficulty of finding an integer $k$ given a point $P$ and $Q = kP$ on the curve, a problem that is currently intractable for both classical and quantum computers with available resources. Even optimistic projections for quantum hardware capable of breaking RSA-2048 would be insufficient to compromise standard ECC key sizes, such as 256-bit or 384-bit curves, due to the exponential growth of the problem in terms of required qubits and quantum gate operations.  \n",
    "\n",
    "While quantum algorithms like Shor’s algorithm can theoretically solve discrete logarithms, implementing them for elliptic curves at cryptographically relevant key sizes would require **millions of logical qubits and trillions of gate operations**, far beyond the capabilities of existing or near-term quantum hardware. Consequently, ECC remains a **practical and quantum-resistant choice** for secure communications today, providing strong security with relatively small key sizes compared to classical schemes like RSA, and is often considered a preferred alternative to RSA until sufficiently large-scale fault-tolerant quantum computers become available.\n",
    "\n",
    "We haven't talk about the signing of a key via this method but you can learn about it [here](https://medium.com/@abhiveerhome/building-elliptic-curve-cryptography-ecc-from-scratch-7b28e3b27531)."
   ]
  },
  {
   "cell_type": "markdown",
   "id": "7893f131-98bc-4481-a582-715df24adce3",
   "metadata": {},
   "source": [
    "### Quantum Cryptography based on superposition and entanglement (Bell's Pairs)"
   ]
  },
  {
   "cell_type": "markdown",
   "id": "f966ad4b-0980-4e41-873b-020e80806a21",
   "metadata": {},
   "source": [
    "Try to remember the 2 controversial properties of quantum mechanics entanglement and superposition. By combining superposition and entanglement, we can create entirely new ways to encode and transmit information securely, forming the basis for next-generation cryptography that is much safer than classical methods. Do you have an idea on how to do it ? Not yet ? Let me break it down for you.\n",
    "\n",
    "Imagine that the information we are sharing is in a superposition of states, meaning it can hold multiple possibilities at the same time. If we then entangle this information with another particle, we create a strong link between them. Entanglement allows for secure communication because if anyone tries to measure one of the entangled particles, the connection is disturbed, instantly revealing the presence of an eavesdropper.\n",
    "\n",
    "We are going to see both superpostion and entanglement in action in what we call Bell's Pairs. A **Bell pair** is a pair of qubits that are prepared in a specific **maximally entangled state**. In a Bell pair, the qubits are so strongly correlated that the measurement of one qubit immediately determines the state of the other, regardless of the distance between them. This entanglement is a purely quantum phenomenon that has no classical equivalent.\n",
    "\n",
    "To create a Bell pair, we typically perform two operations on two qubits initialized in the state $|00\\rangle$:\n",
    "\n",
    "1. Apply a **Hadamard gate** $H$ to the first qubit. This puts it into a superposition:\n",
    "\n",
    "2. Apply a **CNOT (controlled-NOT) gate** with the first qubit as the control and the second qubit as the target. This entangles the two qubits in the resulting state :\n",
    "\n",
    "$$\n",
    "|\\Phi^+\\rangle = \\frac{|00\\rangle + |11\\rangle}{\\sqrt{2}}\n",
    "$$\n",
    "\n",
    "This makes the states $|00\\rangle$ and $|11\\rangle$ equally likely."
   ]
  },
  {
   "cell_type": "markdown",
   "id": "6c1df0b8-0023-4ca6-af6c-539d82ad3f20",
   "metadata": {},
   "source": [
    "<span style=\"color:red;font-weight: bold;\">Question 4.2 : Implement a circuit to create a bell's pair (don't forget to measure the final state)</span>"
   ]
  },
  {
   "cell_type": "code",
   "execution_count": 102,
   "id": "e9b06ea5-85b1-4b3b-b24f-4a467e8f79e6",
   "metadata": {},
   "outputs": [],
   "source": [
    "qc = QuantumCircuit(2)\n",
    "qc.h(0)\n",
    "qc.cx(0,1)\n",
    "qc.measure_all()"
   ]
  },
  {
   "cell_type": "markdown",
   "id": "9a0eeb10-76c5-46ae-bb1e-59ed12d24b63",
   "metadata": {},
   "source": [
    "Let's run the circuit to see the results!"
   ]
  },
  {
   "cell_type": "code",
   "execution_count": 103,
   "id": "c8e45c6c-63d3-40c8-9fee-be21ad9adb40",
   "metadata": {},
   "outputs": [
    {
     "data": {
      "image/png": "[encoded data removed]",
      "text/plain": [
       "<Figure size 640x480 with 1 Axes>"
      ]
     },
     "execution_count": 103,
     "metadata": {},
     "output_type": "execute_result"
    }
   ],
   "source": [
    "counts = run_simulation(qc, 1000)\n",
    "plot_histogram(counts)"
   ]
  },
  {
   "cell_type": "markdown",
   "id": "85ae9bc5-e6cd-4e55-9df0-fcdd63b1f647",
   "metadata": {},
   "source": [
    "#### You are done with this lab ! Hope you liked it that and you have learned a bit more about cryptography today and the quantum world!"
   ]
  }
 ],
 "metadata": {
  "kernelspec": {
   "display_name": "Python 3 (ipykernel)",
   "language": "python",
   "name": "python3"
  },
  "language_info": {
   "codemirror_mode": {
    "name": "ipython",
    "version": 3
   },
   "file_extension": ".py",
   "mimetype": "text/x-python",
   "name": "python",
   "nbconvert_exporter": "python",
   "pygments_lexer": "ipython3",
   "version": "3.11.2"
  }
 },
 "nbformat": 4,
 "nbformat_minor": 5
}
