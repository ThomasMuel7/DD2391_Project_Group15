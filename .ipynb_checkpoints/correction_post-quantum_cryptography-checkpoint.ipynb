{
 "cells": [
  {
   "cell_type": "markdown",
   "id": "623dda18-a2a3-49a3-804a-5d4265c9675a",
   "metadata": {},
   "source": [
    "# Post Quantum Cryptography"
   ]
  },
  {
   "cell_type": "markdown",
   "id": "09758c29-a656-4bca-9b3b-cf2a34d9e8aa",
   "metadata": {},
   "source": [
    "<img src=\"images/quantum_intro.webp\" alt=\"Description\" width=\"800\" height=\"800\"/>"
   ]
  },
  {
   "cell_type": "markdown",
   "id": "cf1df0f9-6efe-4eed-9445-d8cd49114990",
   "metadata": {},
   "source": [
    "## Importing the required packages \n",
    "\n",
    "Please run this code below to have all the required packages and functions you will have to use to start the lab!"
   ]
  },
  {
   "cell_type": "code",
   "execution_count": 17,
   "id": "c56a20b4-3995-487b-a681-1061bf678acb",
   "metadata": {},
   "outputs": [],
   "source": [
    "from math import floor, sqrt, isqrt, log\n",
    "from random import randint\n",
    "from sympy import isprime, legendre_symbol, gcd\n",
    "from numpy import full, pi, array\n",
    "from time import time\n",
    "from qiskit import QuantumCircuit, transpile\n",
    "from qiskit_aer import AerSimulator\n",
    "from qiskit.visualization import plot_histogram\n",
    "from qiskit.circuit.library import UnitaryGate\n",
    "from qiskit.circuit import QuantumRegister, ClassicalRegister\n",
    "from fractions import Fraction"
   ]
  },
  {
   "cell_type": "markdown",
   "id": "31e42a49-1e17-4c78-bc6b-0291b98a6ba9",
   "metadata": {},
   "source": [
    "**This lab will be done entirely in python**\n",
    "\n",
    "Feel free to add your own cells to try out the functions you’ve built! We’ve included some important examples to get you started, but you’re welcome to test your code with any others you’d like."
   ]
  },
  {
   "cell_type": "markdown",
   "id": "44a74313-2e92-46ca-b963-a34f79a43496",
   "metadata": {},
   "source": [
    "# I) What is RSA ?"
   ]
  },
  {
   "cell_type": "markdown",
   "id": "dbc9c478-e219-4e6b-a812-cb5fef7ad0aa",
   "metadata": {},
   "source": [
    "## a) Presentation of RSA (History)"
   ]
  },
  {
   "cell_type": "markdown",
   "id": "88995108-b076-4145-8420-573183ae3e55",
   "metadata": {},
   "source": [
    "Before the 1970s, all cryptography relied on shared secret keys (symmetric encryption). But this raised a major problem: how could the secret key be exchanged securely if enemies were listening?\n",
    "In response to it, in 1976, Whitfield Diffie and Martin Hellman published New Directions in Cryptography by introducing the idea of a public key to encrypt and a private key to decrypt so no need to secretly exchange keys in advance.\n",
    "Building on this, researchers realized that multiplying two large prime numbers was a simple task, whereas factoring their product back into its prime components was extremely difficult.\n",
    "This property, known as a “one-way function,” provided exactly the mathematical foundation needed for a secure encryption system. In 1977, Rivest, Shamir, and Adleman transformed this insight into a practical algorithm, which became known as RSA, named after their initials."
   ]
  },
  {
   "cell_type": "markdown",
   "id": "91f6b5b2-5699-446c-b802-b54009e80e3e",
   "metadata": {},
   "source": [
    "## b) Implementation of RSA (Algorithm)"
   ]
  },
  {
   "cell_type": "markdown",
   "id": "992fcec6-79e5-488e-8fe4-87115f279ffe",
   "metadata": {},
   "source": [
    "Before the 1970s, all cryptography relied on shared secret keys (symmetric encryption). But this raised a major problem: how could the secret key be exchanged securely if enemies were listening?\n",
    "In response to it, in 1976, Whitfield Diffie and Martin Hellman published New Directions in Cryptography by introducing the idea of a public key to encrypt and a private key to decrypt so no need to secretly exchange keys in advance.\n",
    "Building on this, researchers realized that multiplying two large prime numbers was a simple task, whereas factoring their product back into its prime components was extremely difficult.\n",
    "This property, known as a “one-way function,” provided exactly the mathematical foundation needed for a secure encryption system. In 1977, Rivest, Shamir, and Adleman transformed this insight into a practical algorithm, which became known as RSA, named after their initials."
   ]
  },
  {
   "cell_type": "markdown",
   "id": "c843cb6d-5bbc-4b6f-9862-55a489039bb0",
   "metadata": {},
   "source": [
    "## c) Implementation of RSA (Algorithm)"
   ]
  },
  {
   "cell_type": "markdown",
   "id": "2a2c2fe6-6a82-46fd-85e3-ea1eca50ffe4",
   "metadata": {},
   "source": [
    "As you might have already guessed, we are now going to talk about the RSA algorithm. \n",
    "\n",
    "The first step is the **Key Generation**:\n",
    "\n",
    "1) Choose two prime numbers, $p$ and $q$, and compute the number $n = pq$.\n",
    "- *$n$ will be the modulus which will be used in both the public and private key.* \n",
    "- *The **key length** is the length of $n$ in bits (for example 2048 bits, which is a commonly recommended key length).* \n",
    "- *It is important to keep $p$ and $q$ secret since computing the value of $n$ will allow anyone to \"break\" your encrypted messages.*\n",
    "\n",
    "2) Then, compute the value $\\varphi(n) = (p-1)(q-1)$\n",
    "- *$\\varphi(n)$ is known as the Euler's totient function that counts the positive integers up to a given integer $n$ that are relatively prime to $n$.* \n",
    "- *The RSA algorithm correctness can be proved using Euler's theorem (see below).*\n",
    "\n",
    "3) Choose a number $e$, such that $1 < e < \\varphi(n)$ and $e$ must be coprime with $\\varphi(n)$ (meaning $\\gcd(e, \\varphi(n)) = 1$)\n",
    "- *$e$ is called the public exponent. It is part of the public key.* \n",
    "- *The Public Key is the pair of values $(n, e)$.* \n",
    "- *$\\gcd$ is the greatest common divisor.*\n",
    "\n",
    "4) Finally, determine $d$ as  \n",
    "$$\n",
    "ed \\equiv 1 \\pmod{\\varphi(n)}\n",
    "$$\n",
    "- *$d$ is the private key (sometimes the Private Key is also written as the pair of values $(n, d)$).* \n",
    "- *$d$ is the modular multiplicative inverse of $e$ modulo $\\varphi(n)$.*\n",
    "\n",
    "Now we got our public and private keys! We can now use them to encrypt or decrypt a message.\n",
    "\n",
    "---\n",
    "\n",
    "### Encrypt\n",
    "Assuming you want to communicate a message $M$, you must first ensure that $M$ is an integer and that $0 \\le M < n$.  \n",
    "Then, you can compute the encrypted message $C$ with:  \n",
    "\n",
    "$$\n",
    "C \\equiv M^e \\pmod{n}\n",
    "$$\n",
    "\n",
    "(Note that the value of $C$ will be strictly less than $n$, since it's the modulus.)\n",
    "\n",
    "---\n",
    "\n",
    "### Decrypt\n",
    "To decrypt the ciphertext $C$, you use the private key $d$:  \n",
    "\n",
    "$$\n",
    "M \\equiv C^d \\pmod{n}\n",
    "$$\n",
    "\n",
    "---\n",
    "\n",
    "### Proof of correctness with Euler's Theorem\n",
    "The RSA Algorithm \"works\" because we can prove using Euler's Theorem that any encrypted message $M$ can be decrypted to recover the exact same $M$.\n",
    "\n",
    "Euler's theorem states that given any integer $n > 0$ and any integer $a$ coprime with $n$, we have:\n",
    "\n",
    "$$\n",
    "a^{\\varphi(n)} \\equiv 1 \\pmod{n}\n",
    "$$\n",
    "\n",
    "In RSA, the number $a$ is actually our message $M$. Since $n$ is the product of $p$ and $q$, there are high chances that $M$ is coprime with $n$.  \n",
    "(If not, the algorithm works anyway but uses another proof with Fermat's little theorem.)\n",
    "\n",
    "Now, when we want to decrypt $C$ (which is $M^e$), we do:\n",
    "\n",
    "$$\n",
    "C^d = M^{ed}\n",
    "$$\n",
    "\n",
    "Since $d$ is the modular multiplicative inverse of $e$ modulo $\\varphi(n)$, we have:  \n",
    "\n",
    "$$\n",
    "ed \\equiv 1 \\pmod{\\varphi(n)} \\quad \\Leftrightarrow \\quad ed = 1 + k \\varphi(n)\n",
    "$$\n",
    "\n",
    "Then the proof is:\n",
    "\n",
    "$$\n",
    "M^{ed} \\equiv M^{1 + k \\varphi(n)} \\equiv M \\cdot M^{k \\varphi(n)} \\equiv M \\cdot 1^k \\equiv M \\pmod{n}\n",
    "$$\n",
    "\n",
    "We demonstrated that our private key $d$ can be used to decrypt $C$ and recover the original message $M$!\n",
    "\n",
    "---\n",
    "\n",
    "### Here is a quick implementation in Python of RSA, following the steps mentioned above:\n"
   ]
  },
  {
   "cell_type": "code",
   "execution_count": 2,
   "id": "6c401f16-0611-4449-a341-684196b09e78",
   "metadata": {},
   "outputs": [
    {
     "ename": "NameError",
     "evalue": "name 'randint' is not defined",
     "output_type": "error",
     "traceback": [
      "\u001b[31m---------------------------------------------------------------------------\u001b[39m",
      "\u001b[31mNameError\u001b[39m                                 Traceback (most recent call last)",
      "\u001b[36mCell\u001b[39m\u001b[36m \u001b[39m\u001b[32mIn[2]\u001b[39m\u001b[32m, line 45\u001b[39m\n\u001b[32m     42\u001b[39m     M = \u001b[38;5;28mpow\u001b[39m(c, d, n) \n\u001b[32m     43\u001b[39m     \u001b[38;5;28;01mreturn\u001b[39;00m M\n\u001b[32m---> \u001b[39m\u001b[32m45\u001b[39m public, private = \u001b[43mgenerate_keys\u001b[49m\u001b[43m(\u001b[49m\u001b[43m)\u001b[49m\n\u001b[32m     46\u001b[39m \u001b[38;5;28mprint\u001b[39m(\u001b[33m\"\u001b[39m\u001b[33mPublic Key :\u001b[39m\u001b[33m\"\u001b[39m, public)\n\u001b[32m     47\u001b[39m \u001b[38;5;28mprint\u001b[39m(\u001b[33m\"\u001b[39m\u001b[33mPrivate Key :\u001b[39m\u001b[33m\"\u001b[39m, private)\n",
      "\u001b[36mCell\u001b[39m\u001b[36m \u001b[39m\u001b[32mIn[2]\u001b[39m\u001b[32m, line 11\u001b[39m, in \u001b[36mgenerate_keys\u001b[39m\u001b[34m()\u001b[39m\n\u001b[32m      9\u001b[39m \u001b[38;5;28;01mdef\u001b[39;00m\u001b[38;5;250m \u001b[39m\u001b[34mgenerate_keys\u001b[39m():\n\u001b[32m     10\u001b[39m     \u001b[38;5;66;03m# Step 1 : Choose p and q, prime numbers, and compute n\u001b[39;00m\n\u001b[32m---> \u001b[39m\u001b[32m11\u001b[39m     p = \u001b[43mgenerate_prime_number\u001b[49m\u001b[43m(\u001b[49m\u001b[32;43m100\u001b[39;49m\u001b[43m,\u001b[49m\u001b[43m \u001b[49m\u001b[32;43m300\u001b[39;49m\u001b[43m)\u001b[49m  \n\u001b[32m     12\u001b[39m     q = generate_prime_number(\u001b[32m100\u001b[39m, \u001b[32m300\u001b[39m)\n\u001b[32m     13\u001b[39m     \u001b[38;5;28;01mwhile\u001b[39;00m q == p:\n",
      "\u001b[36mCell\u001b[39m\u001b[36m \u001b[39m\u001b[32mIn[2]\u001b[39m\u001b[32m, line 4\u001b[39m, in \u001b[36mgenerate_prime_number\u001b[39m\u001b[34m(low, high)\u001b[39m\n\u001b[32m      2\u001b[39m \u001b[38;5;28;01mdef\u001b[39;00m\u001b[38;5;250m \u001b[39m\u001b[34mgenerate_prime_number\u001b[39m(low, high):\n\u001b[32m      3\u001b[39m     \u001b[38;5;28;01mwhile\u001b[39;00m \u001b[38;5;28;01mTrue\u001b[39;00m:\n\u001b[32m----> \u001b[39m\u001b[32m4\u001b[39m         p = \u001b[43mrandint\u001b[49m(low, high)\n\u001b[32m      5\u001b[39m         \u001b[38;5;28;01mif\u001b[39;00m isprime(p):\n\u001b[32m      6\u001b[39m             \u001b[38;5;28;01mreturn\u001b[39;00m p\n",
      "\u001b[31mNameError\u001b[39m: name 'randint' is not defined"
     ]
    }
   ],
   "source": [
    "#This function will generate random numbers until a prime number is generated\n",
    "def generate_prime_number(low, high):\n",
    "    while True:\n",
    "        p = randint(low, high)\n",
    "        if isprime(p):\n",
    "            return p\n",
    "\n",
    "# Key Generation\n",
    "def generate_keys():\n",
    "    # Step 1 : Choose p and q, prime numbers, and compute n\n",
    "    p = generate_prime_number(100, 300)  \n",
    "    q = generate_prime_number(100, 300)\n",
    "    while q == p:\n",
    "        q = generate_prime_number(100, 300)\n",
    "    \n",
    "    n = p*q\n",
    "\n",
    "    # Step 2 : Compute phi = (p-1)*(q-1)\n",
    "    phi = (p-1)*(q-1)\n",
    "\n",
    "    # Step 3 : Choose e that gcd(e, phi) = 1 and 1 < e < phi\n",
    "    e = randint(2, (phi-1))\n",
    "    while gcd(e, phi) != 1:\n",
    "        e = randint(2, (phi-1))\n",
    "    \n",
    "    # Step 4 : Compute d, the modular multiplicative inverse of e (we can use python pow() function)\n",
    "    d = pow(e, -1, phi) \n",
    "\n",
    "    public_key = (n, e)\n",
    "    private_key = (n, d)\n",
    "    return public_key, private_key\n",
    "\n",
    "# Encrypting\n",
    "def encrypt(m, public_key):\n",
    "    n, e = public_key\n",
    "    C = pow(m, e, n) #Using the definition of C above, we can use once again the pow() function to calculate the power with modulo\n",
    "    return C\n",
    "\n",
    "# Decrypting\n",
    "def decrypt(c, private_key):\n",
    "    n, d = private_key\n",
    "    M = pow(c, d, n) \n",
    "    return M\n",
    "\n",
    "public, private = generate_keys()\n",
    "print(\"Public Key :\", public)\n",
    "print(\"Private Key :\", private)\n",
    "\n",
    "message = 12 #Test message for example (for text, we will have to convert it to integers first)\n",
    "\n",
    "C = encrypt(message, public)\n",
    "print(\"Encrypted message :\", C)\n",
    "\n",
    "M = decrypt(C, private)\n",
    "print(\"Decrypted message :\", M)"
   ]
  },
  {
   "cell_type": "markdown",
   "id": "f73912b4-6fce-4eea-a6fb-b6b3fc10b099",
   "metadata": {},
   "source": [
    "## II) Can we crack RSA ?"
   ]
  },
  {
   "cell_type": "markdown",
   "id": "b63f947d-3527-4514-a25c-65a648dfbe72",
   "metadata": {},
   "source": [
    "### II.I) Brute Force"
   ]
  },
  {
   "cell_type": "markdown",
   "id": "2ee6d653-ec59-40ce-990a-dca7d8395cdc",
   "metadata": {},
   "source": [
    "### II.II) The GNFS Algorithm"
   ]
  },
  {
   "cell_type": "markdown",
   "id": "7cbe2978-6539-4e64-9c7b-09daed509553",
   "metadata": {},
   "source": [
    "#### Story of the GNFS"
   ]
  },
  {
   "cell_type": "markdown",
   "id": "3e586b30-f7cd-423d-9e5a-a3b1eeb77f0d",
   "metadata": {},
   "source": [
    "The General Number Field Sieve (GNFS) is the most efficient classical algorithm known for factoring large integers larger than $10^{100}$. Its history traces the evolution of computational number theory and reflects decades of research aimed at understanding the limits of public-key cryptography, particularly RSA.\n",
    "\n",
    "The origins of the method go back to the 1980s, when John Pollard introduced the Number Field Sieve for a very special class of integers known as Cunningham numbers. Building on this idea, Arjen Lenstra, Hendrik Lenstra, Mark Manasse, and John Pollard generalized the approach in the early 1990s, creating the algorithm now known as the GNFS. This breakthrough provided, for the first time, a sub-exponential algorithm that could factor arbitrary large integers more efficiently than the Quadratic Sieve, which had been the previous state of the art.\n",
    "\n",
    "From that point forward, GNFS became the central tool in record-setting factorizations. In 1994, it was used to factor RSA-129, a 129-digit number (426 bits) made famous by Martin Gardner’s challenge in Scientific American. Over the following decades, GNFS was refined and scaled up through distributed computing efforts and advances in algorithm engineering. Notable milestones include the factorization of RSA-768 (232 digits) in 2009, RSA-240 (795 bits) in 2019, and RSA-250 in 2020. Each of these achievements pushed the limits of available hardware and demonstrated both the power of GNFS and the ongoing need to increase RSA key sizes.\n",
    "\n",
    "Today, GNFS remains the gold standard for classical integer factorization. Its history underscores the constant interplay between mathematical innovation and computational progress, and it provides the foundation for our understanding of how secure RSA remains in the face of classical attacks."
   ]
  },
  {
   "cell_type": "markdown",
   "id": "cc51d0b3-8b26-4c89-8396-afadf54735ee",
   "metadata": {},
   "source": [
    "#### The algorithm & Code in python"
   ]
  },
  {
   "cell_type": "markdown",
   "id": "5538dec8-e31e-4e44-bc6c-e6123545b9ee",
   "metadata": {},
   "source": [
    "**I hope you are ready and you have fastened your seatbelts, because it isn't an easy algorithm to understand!**\n",
    "We will be working through a specific numerical example to illustrate each concept along the way.\n",
    "\n",
    "**Disclaimer:**  \n",
    "This Python implementation of the General Number Field Sieve (GNFS) is designed for **educational purposes only**.  \n",
    "It is **not optimized for performance** and will run **very very very** slowly but this is a good Proof of Concept (PoC).  \n",
    "In practice, highly optimized GNFS implementations are written in **C or C++** with advanced sieving, memory management, and parallelization to handle real-world cryptographic-sized numbers efficiently.\n",
    "\n",
    "---\n",
    "\n",
    "##### Step 0: Preliminary Idea – Difference of Squares\n",
    "\n",
    "**Principle:** If we can find integers $s$ and $r$ such that:\n",
    "$s^2 \\equiv r^2 \\pmod{n}$\n",
    "then:\n",
    "$n$ divides $(s - r)(s + r)$\n",
    "\n",
    "**Factor extraction:** Let $n = p \\cdot q$ (product of two primes). Then at least one of the following is a nontrivial factor of $n$ with high probability ($\\sim 2/3$):\n",
    "$\\gcd(s + r, n)$ or $\\gcd(s - r, n)$\n",
    "\n",
    "**Core idea of GNFS:** Reduce factoring $n$ to finding a congruence of squares modulo $n$:\n",
    "$s^2 \\equiv r^2 \\pmod{n} \\Rightarrow$ potential factorization via gcd.\n",
    "\n",
    "***\n",
    "\n",
    "##### Step 1: Choose $m$ and $f(x)$\n",
    "\n",
    "We start by picking an integer $m$ close to $n^{1/d}$, where $d$ is the degree of the polynomial we want to construct. Using the base-$m$ expansion of $n$:\n",
    "$$n = a_d m^d + a_{d-1} m^{d-1} + \\dots + a_0$$we define the polynomial$$f(x) = a_d x^d + a_{d-1} x^{d-1} + \\dots + a_0$$\n",
    "so that $f(m) \\equiv 0 \\pmod{n}$. This polynomial encodes $n$ in a way that allows us to later find algebraic numbers whose squares are congruent modulo $n$, which is key to factorization.\n",
    "\n",
    "**Implementation detail:** The base-$m$ expansion provides an easy way to construct a polynomial $f(x)$ with integer coefficients where $f(m)=n$. This ensures the crucial congruence $f(m) \\equiv 0 \\pmod n$ holds, which is a fundamental requirement for the mapping $\\phi$ used later in the algorithm. For example, to factor $n=45113$, we can choose $m=31$ and use its base-31 expansion: $45113 = 1 \\cdot 31^3 + 15 \\cdot 31^2 + 29 \\cdot 31 + 8$. From this, we can define the polynomial $f(x) = x^3 + 15x^2 + 29x + 8$.\n",
    "\n",
    "<span style=\"color:red;font-weight: bold;\">Question 2.2.1 : Implement the function to perform the base m expansion</span>"
   ]
  },
  {
   "cell_type": "code",
   "execution_count": 6,
   "id": "654d5793-7954-40fc-86fb-23cd596a62c1",
   "metadata": {},
   "outputs": [],
   "source": [
    "# ------------------------\n",
    "# Step 1: Base-m polynomial selection\n",
    "# ------------------------\n",
    "def base_m_expansion(n, m):\n",
    "    \"\"\"\n",
    "    Expand integer n in base m to get polynomial coefficients.\n",
    "    - Returns coefficients [a_d, ..., a_0] such that n = a_d*m^d + ... + a_0\n",
    "    - Highest-degree coefficient comes first\n",
    "    \"\"\"\n",
    "    coeffs = []\n",
    "    temp = n\n",
    "    degree = 0\n",
    "    # Determine the degree of the polynomial (largest power of m needed)\n",
    "    while temp // m**degree != 0:\n",
    "        degree += 1 \n",
    "    # Extract coefficients by repeatedly dividing by m\n",
    "    for _ in range(degree + 1):\n",
    "        coeffs.append(temp % m)\n",
    "        temp //= m\n",
    "    return coeffs[::-1]  # reverse so highest-degree comes first"
   ]
  },
  {
   "cell_type": "markdown",
   "id": "66910445-d753-49bb-be13-acb6015ef9cd",
   "metadata": {},
   "source": [
    "The functions below will help you create the function itself"
   ]
  },
  {
   "cell_type": "code",
   "execution_count": 7,
   "id": "24c8e120-44c7-458d-85d9-acb0b75f1044",
   "metadata": {},
   "outputs": [],
   "source": [
    "def evaluate_polynomial(coeffs, x):\n",
    "    \"\"\"\n",
    "    Evaluate a polynomial at a given x\n",
    "    - coeffs: list of coefficients [a_d, ..., a_0]\n",
    "    - returns sum(a_i * x^(degree-i))\n",
    "    \"\"\"\n",
    "    result = 0\n",
    "    deg = len(coeffs) - 1\n",
    "    for i, c in enumerate(coeffs):\n",
    "        result += c * (x ** (deg - i))\n",
    "    return result\n",
    "\n",
    "def polynomial_function(coeffs):\n",
    "    \"\"\"\n",
    "    Return a callable function f(x) from a list of coefficients\n",
    "    - Makes it easy to evaluate polynomial at any x later\n",
    "    \"\"\"\n",
    "    return lambda x: evaluate_polynomial(coeffs, x)  # create a function for later use"
   ]
  },
  {
   "cell_type": "markdown",
   "id": "8735d359-0426-416c-b4f7-2d55e391d1ae",
   "metadata": {},
   "source": [
    "This is a function that will transform the function you created into a string to be visualized now or later if needed"
   ]
  },
  {
   "cell_type": "code",
   "execution_count": null,
   "id": "1f518533-db87-47d9-a7bd-96044178da2f",
   "metadata": {},
   "outputs": [],
   "source": [
    "def polynomial_to_string(coeffs):\n",
    "    \"\"\"Convert a list of coefficients into a polynomial string. Only for print purposes\"\"\"\n",
    "    degree = len(coeffs) - 1\n",
    "    terms = []\n",
    "    for i, c in enumerate(coeffs):\n",
    "        power = degree - i\n",
    "        if c == 0:\n",
    "            continue\n",
    "        if power == 0:\n",
    "            terms.append(f\"{c}\")\n",
    "        elif power == 1:\n",
    "            terms.append(f\"{c}*x\")\n",
    "        else:\n",
    "            terms.append(f\"{c}*x**{power}\")\n",
    "    return \" + \".join(terms)"
   ]
  },
  {
   "cell_type": "markdown",
   "id": "e73bdf0b-ec2d-4d24-ae69-5f2f037875ec",
   "metadata": {},
   "source": [
    "***\n",
    "\n",
    "##### Step 2: Define the rational factor base $R$\n",
    "\n",
    "Next, we select a finite set of small prime numbers $R = \\{p_1, p_2, \\dots, p_k\\}$. This **rational factor base** will be used to check if certain integers are “smooth,” meaning they factor completely over these primes. Working with smooth numbers ensures that we can later represent them as vectors for linear algebra over $\\mathbb{F}_2$. $\\mathbb{F}_2$ is a mathematical term that refers to the finite field with two elements. In simpler terms, it's a number system that only contains the numbers 0 and 1.\n",
    "\n",
    "**Implementation detail:** The rational factor base is a collection of prime numbers. For practical purposes, it is often a set of small, consecutive primes up to a certain bound $M$, such as $R = \\{p: \\text{p is prime and } p \\le M\\}$. For the example of factoring $n=45113$, the rational factor base was chosen as all primes less than 30: $R = \\{2, 3, 5, 7, 11, 13, 17, 19, 23, 29\\}$. An integer $l$ is considered \"smooth\" over $R$ if all of its prime divisors are in $R$. This is a core concept that allows us to convert the factorization problem into a linear algebra problem over $\\mathbb{F}_2$.\n",
    "\n",
    "<span style=\"color:red;font-weight: bold;\">Question 2.2.2 : Implement the function to define the rational factor base</span>"
   ]
  },
  {
   "cell_type": "code",
   "execution_count": 8,
   "id": "dad3ff44-87bf-44b1-90eb-13f9c014360b",
   "metadata": {},
   "outputs": [],
   "source": [
    "# ------------------------\n",
    "# Step 2: Rational factor base R\n",
    "# ------------------------\n",
    "def rational_factor_base(bound):\n",
    "    \"\"\"\n",
    "    Generate the rational factor base: \n",
    "    all prime numbers up to the given bound.\n",
    "    \"\"\"\n",
    "    return [p for p in range(2, bound+1) if isprime(p)]"
   ]
  },
  {
   "cell_type": "markdown",
   "id": "c4c5570e-d6a0-48ed-958a-cc7069dddc6c",
   "metadata": {},
   "source": [
    "***\n",
    "\n",
    "##### Step 3: Define the algebraic factor base $A$\n",
    "\n",
    "In the first step, we built a list of small prime numbers to act as our \"factoring toolkit\" for regular integers. In this step, we're doing the same thing, but for a new, abstract number system.\n",
    "\n",
    "Imagine we're not just working with numbers anymore, but with a new kind of \"number plant\" that has sprouted from our polynomial. These \"number plants\" are called **algebraic numbers**, and they look like $a + b\\theta$. This is similar to how complex numbers are built: we introduce a symbol $i$ with $i^2 = -1$, and then form numbers of the type $a + bi$. So what is $\\theta$ in our case? It’s a special symbol we introduce to represent a root of our polynomial $f(x)$. For example, if $f(x) = x^2 - 2$, then $\\theta = \\sqrt{2}$ because $\\theta^2 = 2$. We don’t need to know $\\theta$ as a decimal; we just work with it symbolically, like we do with i. \n",
    "\n",
    "We now need a way to factor these new \"plants\" so we create an **algebraic factor base**, which is our toolkit of special \"algebraic prime seeds\" for this new number system.\n",
    "\n",
    "We identify these \"prime seeds\" as pairs of regular numbers, $(r_i, p_i)$, that satisfy a specific condition: when you plug $r_i$ into our original polynomial, the result is divisible by the prime $p_i$ (i.e., $f(r_i) \\equiv 0 \\pmod{p_i}$). This clever trick lets us use something we know (our polynomial) to find and categorize these new \"algebraic primes.\"\n",
    "\n",
    "**Implementation detail:** The goal is to find \"number plants\" ($a + b\\theta$) that can be completely factored using only the \"prime seeds\" in our toolkit. We call these numbers \"smooth,\" just as we did with the regular integers. This ensures that the algebraic side of our calculations is manageable and mirrors the integer side, providing two parallel sets of data that will eventually be combined. For example, with $n=45113$, we found our \"prime seeds\" by looking at all primes less than 90 : \n",
    "$A = \\{ (0, 2), (6, 7), (13, 17), (11, 23), ... , (50, 73), (23, 79), (47, 79), (73, 79), (28, 89), (62, 89), (73, 89) \\}$\n",
    "\n",
    "<span style=\"color:red;font-weight: bold;\">Question 2.2.3 : Implement the function to define the algebraic factor base</span>"
   ]
  },
  {
   "cell_type": "code",
   "execution_count": 9,
   "id": "69936e48-88bd-4d62-953d-4d60700403de",
   "metadata": {},
   "outputs": [],
   "source": [
    "# ------------------------\n",
    "# Step 3: Algebraic factor base A\n",
    "# ------------------------\n",
    "def algebraic_factor_base(f, primes):\n",
    "    \"\"\"\n",
    "    Generate the algebraic factor base:\n",
    "    pairs (r, p) where p is a prime from the given list\n",
    "    and r is a root of f(x) modulo p.\n",
    "    \"\"\"\n",
    "    A = []\n",
    "    for p in primes:\n",
    "        for r in range(p):\n",
    "            if f(r) % p == 0:\n",
    "                A.append((r, p))\n",
    "    return A"
   ]
  },
  {
   "cell_type": "markdown",
   "id": "1006b76b-7557-4899-8b41-801152724bdb",
   "metadata": {},
   "source": [
    "***\n",
    "\n",
    "##### Step 4: Define the quadratic character base $Q$\n",
    "\n",
    "To capture additional congruence information, we choose a set of primes $Q$ not in $A$ and find integers $s$ such that $f(s) \\equiv 0 \\pmod{q}$. This **quadratic character base** helps control certain signs and parity conditions when combining smooth numbers, which is crucial for guaranteeing that the final products will form perfect squares.\n",
    "\n",
    "**Implementation detail:** This base helps verify that an element in $\\mathbb{Z}[\\theta]$ is a perfect square. Each entry in $Q$ is a pair $(s, q)$, where $q$ is a prime not in $A$ and $s$ satisfies $f(s) \\equiv 0 \\pmod q$. These pairs are used to compute the Legendre symbol $\\left(\\frac{a+bs}{q}\\right)$, which acts as a check for squareness. The number of entries in $Q$ can be increased to raise the probability that the final result is a perfect square. For $n=45113$, primes 97, 101, 103, and 107 were used to build $Q$. $Q = \\{(28, 97), (87, 101), (47, 103), (4, 107), (8, 107), (80, 107)\\}$\n",
    "\n",
    "<span style=\"color:red;font-weight: bold;\">Question 2.2.4 : Implement the function to define the quadratic character base</span>"
   ]
  },
  {
   "cell_type": "code",
   "execution_count": 10,
   "id": "dcbbdeb7-d575-4aea-b080-47a1c425a1fb",
   "metadata": {},
   "outputs": [],
   "source": [
    "# ------------------------\n",
    "# Step 4: Quadratic character base Q\n",
    "# ------------------------\n",
    "def quadratic_character_base(f, primes, exclude_A):\n",
    "    \"\"\"\n",
    "    Generate the quadratic character base:\n",
    "    pairs (s, q) where q is a prime (not in the Algebraic factor base)\n",
    "    and s is a root of f(x) modulo q.\n",
    "    \"\"\"\n",
    "    Q = []\n",
    "    for q in primes:\n",
    "        if q in exclude_A:  # skip primes already used in A\n",
    "            continue\n",
    "        for s in range(q):\n",
    "            if f(s) % q == 0:\n",
    "                Q.append((s, q))\n",
    "    return Q"
   ]
  },
  {
   "cell_type": "markdown",
   "id": "752b86d0-13b7-4674-b96d-a6ddb431d40d",
   "metadata": {},
   "source": [
    "***\n",
    "\n",
    "##### Step 5: Find smooth pairs $(a, b)$\n",
    "\n",
    "We then search for integer pairs $(a, b)$ such that both $a + bm$ and $a + b\\theta$ are smooth over the rational and algebraic factor bases, respectively. By looping over $a$ for fixed $b$ and checking factorability, we collect enough pairs (typically more than $1 + k + l + u$) to ensure the linear system in the next step will have nontrivial solutions. These **smooth pairs** form the building blocks for constructing a congruence of squares.\n",
    "\n",
    "*1+k+l+u represents the total number of columns in the matrix we are building, where 1 is for the sign bit, k is the number of primes in the rational factor base, l is the number of \"algebraic primes\" in the algebraic factor base, and u is the number of primes in the quadratic character base.*\n",
    "\n",
    "**Implementation detail:** This is the core \"sieving\" part of the algorithm. We fix a small integer $b$ and let $a$ vary over a range, for example from $-N$ to $N$. For each pair $(a, b)$, we test if $a+bm$ is smooth over the rational factor base $R$ and if $a+b\\theta$ is smooth over the algebraic factor base $A$. This is done using sieve arrays. An integer $q \\in R$ divides $a+bm$ if $a \\equiv -bm \\pmod q$, while an algebraic factor $(r_i, p_i) \\in A$ divides $a+b\\theta$ if $a \\equiv -br_i \\pmod{p_i}$. We continue this process with different values of $b$ until we have found a sufficient number of smooth pairs, which is typically more than the total number of elements in all three bases ($1+k+l+u$).\n",
    "\n",
    "You don't have to implement this function"
   ]
  },
  {
   "cell_type": "code",
   "execution_count": 11,
   "id": "1539f5e3-2b12-4d5d-8109-e772782943cb",
   "metadata": {},
   "outputs": [],
   "source": [
    "# ------------------------\n",
    "# Step 5: Find smooth pairs (a, b)\n",
    "# ------------------------\n",
    "def factorize_with_sieve(x, factor_base_primes, spf):\n",
    "    '''\n",
    "    Return a list of exponents for each prime in factor_base_primes\n",
    "    Exponents = how many times each prime divides x\n",
    "    Leftover cofactor = any remaining part of x not in the base (1 if fully smooth)\n",
    "    Example: \n",
    "       factor_base_primes = [2, 3, 5]\n",
    "       x = 60 = 2^2 * 3^1 * 5^1\n",
    "           returns: ([2, 1, 1], 1)  --> fully smooth\n",
    "       x = 77 = 7 * 11\n",
    "           returns: ([0, 0, 0], 77) --> not smooth\n",
    "    '''\n",
    "    \n",
    "    if x <= 1:\n",
    "        return [0] * len(factor_base_primes), 1\n",
    "\n",
    "    exponents = [0] * len(factor_base_primes)\n",
    "    temp_x = x\n",
    "    # Factor using precomputed smallest-prime-factor table (spf)\n",
    "    while temp_x > 1:\n",
    "        p = spf[temp_x]                     # smallest prime factor of temp_x\n",
    "        try:\n",
    "            idx = factor_base_primes.index(p)   # find index in factor base\n",
    "            exponents[idx] += 1\n",
    "        except ValueError:\n",
    "            # Found a prime not in the factor base -> not smooth\n",
    "            return [0] * len(factor_base_primes), temp_x\n",
    "        temp_x //= p                        # divide out this factor\n",
    "    return exponents, 1\n",
    "\n",
    "def find_smooth_pairs(n, m, f, R, A, Q, a_limit=50, b_limit=3):\n",
    "    \"Systematically search for smooth pairs (a, b) that will later build the GNFS matrix.\"\n",
    "    pairs = []\n",
    "    A_primes = [p for _, p in A]\n",
    "\n",
    "    # Determine range for sieve (must cover all candidate values of a + b*m and a + b*f(m))\n",
    "    max_val_rational = b_limit * m + a_limit\n",
    "    max_val_algebraic = b_limit * f(m) + a_limit\n",
    "    max_val = max(max_val_rational, max_val_algebraic)\n",
    "\n",
    "    # Build smallest-prime-factor (spf) table via sieve of Eratosthenes\n",
    "    spf = list(range(max_val + 1))\n",
    "    for i in range(2, int(max_val**0.5) + 1):\n",
    "        if spf[i] == i:                      # i is prime\n",
    "            for j in range(i * i, max_val + 1, i):\n",
    "                if spf[j] == j:\n",
    "                    spf[j] = i               # record smallest prime factor for j\n",
    "\n",
    "    # Lookup dictionaries (not strictly needed, but conceptually map base primes to indices)\n",
    "    R_dict = {p: i for i, p in enumerate(R)}\n",
    "    A_dict = {p: i for i, p in enumerate(A_primes)}\n",
    "\n",
    "    # Loop over candidate (a, b) values\n",
    "    for b in range(1, b_limit):\n",
    "        for a in range(-a_limit, a_limit):\n",
    "            val_r = a + b * m                 # rational side value\n",
    "            val_a = a + b * f(m)              # algebraic side value (f evaluated at m)\n",
    "\n",
    "            # Factor rational side; skip if not smooth over R\n",
    "            rat_exp, rem_r = factorize_with_sieve(abs(val_r), R, spf)\n",
    "            if rem_r != 1:\n",
    "                continue\n",
    "\n",
    "            # Factor algebraic side; skip if not smooth over A\n",
    "            alg_exp, rem_a = factorize_with_sieve(abs(val_a), A_primes, spf)\n",
    "            if rem_a != 1:\n",
    "                continue\n",
    "\n",
    "            # Quadratic character contributions from (s, q) in Q\n",
    "            quad_exp = [0 if legendre_symbol(a + b * s, q) == 1 else 1 for s, q in Q]\n",
    "\n",
    "            # Save relation: exponent vectors and sign bits\n",
    "            pairs.append({\n",
    "                \"a\": a, \"b\": b,\n",
    "                \"rational\": rat_exp,\n",
    "                \"algebraic\": alg_exp,\n",
    "                \"quadratic\": quad_exp,\n",
    "                \"sign_r\": 0 if val_r >= 0 else 1,\n",
    "                \"sign_a\": 0 if val_a >= 0 else 1\n",
    "            })\n",
    "\n",
    "    return pairs"
   ]
  },
  {
   "cell_type": "markdown",
   "id": "121db874-17d5-4626-bc1e-85e4eae1b2d2",
   "metadata": {},
   "source": [
    "***\n",
    "\n",
    "##### Step 6: Construct the matrix $X$\n",
    "\n",
    "Each smooth pair $(a, b)$ is represented as a row vector containing the sign of $a + bm$, the exponents of its rational prime factors modulo 2, the exponents of the algebraic factors modulo 2, and any relevant quadratic characters. Stacking these vectors forms a $y \\times (1+k+l+u)$ matrix $X$. y is the number of smooth pairs collected hance the number of rows in the matrix. This matrix encodes all information necessary to combine smooth numbers into perfect squares.\n",
    "\n",
    "**Implementation detail:** For each smooth pair $(a,b)$, a row vector is created. The first entry is a sign bit (0 for positive $a+bm$, 1 for negative). The next $k$ entries are the exponents of the primes in the rational factor base $R$ from the factorization of $a+bm$, taken modulo 2. The following $l$ entries are the exponents of the algebraic factors from the factorization of $a+b\\theta$, also modulo 2. Finally, the last $u$ entries are derived from the quadratic character base $Q$, representing whether the Legendre symbol $\\left(\\frac{a+bs}{q}\\right)$ is 1 (entry 0) or -1 (entry 1). This vector essentially summarizes the parity of the exponents and the quadratic characters, which is a concise way to check for perfect squares.\n",
    "\n",
    "We have defined the matrix for you"
   ]
  },
  {
   "cell_type": "code",
   "execution_count": 12,
   "id": "6dffe6c9-45ca-4e3d-884a-54b747c58e79",
   "metadata": {},
   "outputs": [],
   "source": [
    "# ------------------------\n",
    "# Step 6: Construct matrix X\n",
    "# ------------------------\n",
    "def construct_matrix_X(pairs, R_len, A_len, Q_len):\n",
    "    \"\"\"\n",
    "    Build the exponent matrix X for GNFS:\n",
    "    - Each row corresponds to a smooth pair (a, b)\n",
    "    - Columns represent:\n",
    "        1. Sign bits (rational and algebraic)\n",
    "        2. Exponents modulo 2 for rational factor base R\n",
    "        3. Exponents modulo 2 for algebraic factor base A\n",
    "        4. Quadratic character bits for Q\n",
    "    - All entries reduced modulo 2 for linear algebra over F2\n",
    "    \"\"\"\n",
    "    matrix = []\n",
    "    for p in pairs:\n",
    "        # Combine all info into a single row\n",
    "        row = [p[\"sign_r\"], p[\"sign_a\"]] + p[\"rational\"] + p[\"algebraic\"] + p[\"quadratic\"]\n",
    "        # Reduce entries modulo 2\n",
    "        matrix.append([x % 2 for x in row])\n",
    "    return array(matrix, dtype=int)"
   ]
  },
  {
   "cell_type": "markdown",
   "id": "041735a5-6779-4967-931d-8aa5612cb5d2",
   "metadata": {},
   "source": [
    "***\n",
    "\n",
    "##### Step 7: Solve the linear system modulo 2\n",
    "\n",
    "We solve the system\n",
    "$$X^T \\cdot \\mathbf{A} \\equiv 0 \\pmod{2}$$to find subsets of smooth pairs that, when multiplied together, produce a perfect square both in $\\mathbb{Z}$ and in $\\mathbb{Z}[\\theta]$. Let $V \\subset U$ denote the selected subset. By construction:\n",
    "$$\\prod_{(a_j, b_j) \\in V} (a_j + bm) \\text{ is a perfect square in } \\mathbb{Z},$$\n",
    "$$\\prod_{(a_j, b_j) \\in V} (a_j + b_j\\theta) \\text{ is a perfect square in } \\mathbb{Z}[\\theta]$$\n",
    "This gives us the congruence of squares needed to attempt factorization.\n",
    "\n",
    "**Implementation detail:** The matrix equation $X^T \\mathbf{A} \\equiv \\mathbf{0} \\pmod 2$ is a system of linear equations over the field $\\mathbb{F}_2$. The entries of the vector $\\mathbf{A}$ are either 0 or 1, and a non-trivial solution is guaranteed to exist if the number of rows is greater than the number of columns ($y > 1+k+l+u$). Each $A_j=1$ in the solution vector corresponds to including the $j$-th smooth pair $(a_j, b_j)$ in the product. When the vectors corresponding to these pairs are added modulo 2, the result is the zero vector, which means that all exponents (and signs) in the final product are even, a necessary condition for being a perfect square.\n",
    "\n",
    "We already have solved for you the linear system"
   ]
  },
  {
   "cell_type": "code",
   "execution_count": 13,
   "id": "18a05270-60a5-457b-b4e1-a93abc8c67e9",
   "metadata": {},
   "outputs": [],
   "source": [
    "# ------------------------\n",
    "# Step 7: Solve linear system modulo 2\n",
    "# ------------------------\n",
    "def solve_linear_system_mod2(X):\n",
    "    \"\"\"\n",
    "    Solve the linear system X^T * A ≡ 0 (mod 2) to find dependencies:\n",
    "    - Each row in X represents a smooth pair (a, b)\n",
    "    - Columns are exponent/sign/quadratic bits modulo 2\n",
    "    - Goal: find non-trivial combinations of rows that sum to the zero vector (over F2)\n",
    "    - Returns indices of dependent rows forming a solution\n",
    "    \"\"\"\n",
    "    mat = X.copy()\n",
    "    rows, cols = mat.shape\n",
    "    pivot_rows = []      # keep track of pivot rows used in elimination\n",
    "    dependencies = []    # store indices of rows that form zero-sum combinations\n",
    "\n",
    "    # Gaussian elimination modulo 2\n",
    "    for col in range(cols):\n",
    "        pivot_row = None\n",
    "        for r in range(rows):\n",
    "            if r in pivot_rows:\n",
    "                continue\n",
    "            if mat[r, col] == 1:\n",
    "                pivot_row = r\n",
    "                pivot_rows.append(r)  # mark row as used as pivot\n",
    "                break\n",
    "        if pivot_row is None:\n",
    "            continue\n",
    "        # Eliminate 1s in this column from other rows\n",
    "        for r in range(rows):\n",
    "            if r != pivot_row and mat[r, col] == 1:\n",
    "                mat[r] = (mat[r] + mat[pivot_row]) % 2\n",
    "\n",
    "    # Rows that become all zeros correspond to dependencies\n",
    "    for i, row in enumerate(mat):\n",
    "        if not row.any():\n",
    "            dependencies.append(i)\n",
    "\n",
    "    # Return indices of dependent rows, or [0] if none found\n",
    "    return dependencies if dependencies else [0]\n"
   ]
  },
  {
   "cell_type": "markdown",
   "id": "bddcd13c-af7f-410c-895c-14e3e2f65a8f",
   "metadata": {},
   "source": [
    "***\n",
    "\n",
    "##### Step 8: Factor $n$ using the difference of squares\n",
    "\n",
    "Finally, we map the algebraic product back to integers using\n",
    "$$x^2 = \\phi \\left( \\prod_{(a_j, b_j) \\in V} (a_j + b_j\\theta) \\right),$$$$y^2 = \\prod_{(a_j, b_j) \\in V} (a_j + bm)$$and try to extract factors via$$\\gcd(n, x+y) \\quad \\text{and} \\quad \\gcd(n, x-y)$$\n",
    "If a nontrivial factor is found, the algorithm succeeds. Otherwise, we repeat the process with a new factor base or additional smooth pairs. This step exploits the classical “difference of squares” idea: if $s^2 \\equiv r^2 \\pmod{n}$, then $\\gcd(s \\pm r, n)$ often reveals a nontrivial factor of $n$.\n",
    "\n",
    "**Implementation detail:** With the subset of pairs $V$ from the previous step, we compute the products to get a perfect square in $\\mathbb{Z}$ and a perfect square in $\\mathbb{Z}[\\theta]$. We then compute the integer value of the algebraic perfect square using the mapping $\\phi: \\mathbb{Z}[\\theta] \\rightarrow \\mathbb{Z}/n\\mathbb{Z}$. This mapping satisfies $\\phi(\\theta) \\equiv m \\pmod n$. Thus, if $\\beta^2 = \\prod_{(a_j, b_j) \\in V} (a_j + b_j\\theta)$, then $\\phi(\\beta^2) = \\phi(\\beta)\\phi(\\beta)$ and $\\phi(\\beta^2) = \\phi(\\prod_{(a_j, b_j) \\in V} (a_j + b_j\\theta)) = \\prod_{(a_j, b_j) \\in V} (a_j + b_jm)$. This creates the congruence of squares $x^2 \\equiv y^2 \\pmod n$ that can be used for factorization with a high probability of success. For example, in the case of $n=45113$, this process led to the discovery of factors 197 and 229.\n",
    "\n",
    "<span style=\"color:red;font-weight: bold;\">Question 2.2.5 : Implement the difference of squares</span>"
   ]
  },
  {
   "cell_type": "code",
   "execution_count": 14,
   "id": "586de224-a2d7-4e37-b524-43c9aa0a66d0",
   "metadata": {},
   "outputs": [],
   "source": [
    "# ------------------------\n",
    "# Step 8: Factor n using difference of squares\n",
    "# ------------------------\n",
    "def difference_of_squares_factor(n, s, r):\n",
    "    \"\"\"\n",
    "    Attempt to factor n using the difference of squares:\n",
    "    If s^2 ≡ r^2 (mod n), then n divides (s-r)*(s+r).\n",
    "    Returns a non-trivial factor if found, else None.\n",
    "    \"\"\"\n",
    "    factor1 = gcd(s + r, n)\n",
    "    factor2 = gcd(s - r, n)\n",
    "    # Keep only non-trivial factors (not 1 or n)\n",
    "    factors = [f for f in (factor1, factor2) if 1 < f < n]\n",
    "    return factors[0] if factors else None"
   ]
  },
  {
   "cell_type": "markdown",
   "id": "90fdd29c-d374-44e0-abc6-f6fea864ea69",
   "metadata": {},
   "source": [
    "<span style=\"color:red;font-weight: bold;\">Question 2.2.6 : Implement the factorisation process</span>"
   ]
  },
  {
   "cell_type": "code",
   "execution_count": 15,
   "id": "24275f2e-1ba1-414c-8f4a-eead799329d2",
   "metadata": {},
   "outputs": [],
   "source": [
    "def factor_n_from_pairs(n, pairs, dependency, m, f):\n",
    "    \"\"\"\n",
    "    Combine selected smooth pairs (from dependency) to form perfect squares:\n",
    "    - Multiply rational side (a + b*m) to get x^2\n",
    "    - Multiply algebraic side (a + b*theta) evaluated at m to get y^2\n",
    "    - Use difference_of_squares_factor to attempt factorization of n\n",
    "    \"\"\"\n",
    "    #define x^2 and y^2\n",
    "    x_prod = 1\n",
    "    y_prod = 1\n",
    "    #for every idx in dependency retrieve a, b from pairs and compute the calculations to get x^2 and y^2\n",
    "    for idx in dependency:\n",
    "        a = pairs[idx][\"a\"]\n",
    "        b = pairs[idx][\"b\"]\n",
    "        x_prod *= (a + b * m)          # integer side\n",
    "        y_prod *= (a + b * f(m))       # algebraic side evaluated at m\n",
    "    # for x make sure it's positive if not make it positive\n",
    "    x = abs(x_prod)\n",
    "    # for y take integer square root, make sure y is positive if not make it positive\n",
    "    y = int(isqrt(abs(y_prod)))\n",
    "    #use difference of squares to retrieve a factor    \n",
    "    factor = difference_of_squares_factor(n, x, y)\n",
    "    return factor"
   ]
  },
  {
   "cell_type": "markdown",
   "id": "d837f80a-3661-40ed-9d7c-35e02adea01b",
   "metadata": {},
   "source": [
    "#### Complexity"
   ]
  },
  {
   "cell_type": "markdown",
   "id": "07497c55-4bc2-4442-a159-2dc2a183e550",
   "metadata": {},
   "source": [
    "Heuristically, its complexity for factoring an integer `n` (consisting of $\\lfloor\\log_2 n\\rfloor + 1$ bits) is of the form:"
   ]
  },
  {
   "cell_type": "markdown",
   "id": "8c1c2244-44ec-4e7f-8d58-3e7d0c00a543",
   "metadata": {},
   "source": [
    "![alt text](images/GNFS.svg)"
   ]
  },
  {
   "cell_type": "markdown",
   "id": "e683aaad-90cc-4cd8-a754-910df57f1217",
   "metadata": {},
   "source": [
    "#### Write the algorithm"
   ]
  },
  {
   "cell_type": "markdown",
   "id": "51dc8c35-34c1-4d04-b151-4079437e74ce",
   "metadata": {},
   "source": [
    "In the section above we listed and you have implemented all the functions you needed to construct the GNFS algorithm.\n",
    "\n",
    "<span style=\"color:red;font-weight: bold;\">Question 2.2.7 : Implement the full GNFS algorithm.</span>"
   ]
  },
  {
   "cell_type": "code",
   "execution_count": null,
   "id": "534cba52-4789-4916-8d3e-0a9a4d22dd1f",
   "metadata": {},
   "outputs": [],
   "source": [
    "def gnfs(n, m, R_bound=30, A_bound=90, Q_bound=107, a_limit=20, b_limit=3):\n",
    "    #retieve the coefficients\n",
    "    coeffs = base_m_expansion(n, m)\n",
    "    #create the polynomial function\n",
    "    f = polynomial_function(coeffs)\n",
    "    print(f\"Polynomial f(x) = {polynomial_to_string(coeffs)}\")\n",
    "    #create the Rational factor base\n",
    "    R = rational_factor_base(R_bound)\n",
    "    print(f\"Rational factor base R: {R}\")\n",
    "    #retrieve all the primes from 2 to A_bound\n",
    "    A_primes = [p for p in range(2, A_bound) if isprime(p)]\n",
    "    #create the Algebraic factor base\n",
    "    A = algebraic_factor_base(f, A_primes)\n",
    "    print(f\"Algebraic factor base A: {A}\")\n",
    "    #retrieve all the primes from A_bound + 1 to Q_bound + 1\n",
    "    Q_primes = [p for p in range(A_bound + 1, Q_bound + 1) if isprime(p)]\n",
    "    #create the Quadratic character base\n",
    "    Q = quadratic_character_base(f, Q_primes, [p for _, p in A])\n",
    "    print(f\"Quadratic character base Q: {Q}\")\n",
    "    #Find smooth pairs\n",
    "    pairs = find_smooth_pairs(n, m, f, R, A, Q, a_limit=a_limit, b_limit=b_limit)\n",
    "    print(f\"Found {len(pairs)} smooth pairs\")\n",
    "    # quick check to see if we have enough pairs\n",
    "    num_cols = len(R) + len(A) + len(Q) + 1\n",
    "    if len(pairs) < num_cols:\n",
    "        print(\"Not enough smooth pairs. Increase limits (a and b) or bounds (R, A, Q).\")\n",
    "        return None\n",
    "    #construct the matrix X\n",
    "    X = construct_matrix_X(pairs, len(R), len(A), len(Q))\n",
    "    #solve the system\n",
    "    dependency = solve_linear_system_mod2(X)\n",
    "    # check if no dependency was found\n",
    "    if not dependency:\n",
    "      print(\"No non-trivial dependency found.\")\n",
    "      return None\n",
    "    # find one of the factors \n",
    "    factor = factor_n_from_pairs(n, pairs, dependency, m, f)\n",
    "    #return the factor found\n",
    "    return factor"
   ]
  },
  {
   "cell_type": "markdown",
   "id": "0e5df7bf-7db1-4fc0-9e40-aad50335d5f9",
   "metadata": {},
   "source": [
    "Let's run gnfs on an example. The goal here is only to find the prime factors of a given number because this is the most difficult part. This example will work (please note that the execution takes 8-12 seconds approximately) but if you want to try different values feel free but it might not work."
   ]
  },
  {
   "cell_type": "code",
   "execution_count": null,
   "id": "a6acd9ec-f7e2-4554-a1b2-868ec70476ce",
   "metadata": {},
   "outputs": [],
   "source": [
    "n = 45113\n",
    "m = 31\n",
    "print(f\"Trying to factor {n} with m={m}...\")\n",
    "start_time = time()\n",
    "factor = gnfs(n, m, R_bound=75, A_bound=150, Q_bound=167, a_limit=770, b_limit=753)\n",
    "if factor:\n",
    "    end_time = time()\n",
    "    print(f\"Found the 2 factors : {factor} and {n // factor} in {end_time - start_time} seconds\")\n",
    "    print(f\"{n} = {factor} * {n // factor}\")\n",
    "else:\n",
    "    print(f\"Could not factor {n}\")\n",
    "    print(f\"Try increasing limits (a and b) or bounds (R, A, Q) or use different values of m\")"
   ]
  },
  {
   "cell_type": "markdown",
   "id": "ff13cc8d-dd71-46da-80ab-8344dc905cfb",
   "metadata": {},
   "source": [
    "#### GNFS Cracking Time Estimates (Classical Resources)\n",
    "\n",
    "For reference, the following table estimates show how long it would take to factor RSA keys of different sizes. The times are extrapolated from data on previously factored, smaller numbers.\n",
    "\n",
    "| RSA key size (bits) | 1 core | 100 cores | 1 k cores | 10 k cores | 1 M cores |\n",
    "|---------------------|--------------:|----------:|----------:|-----------:|-----------:|\n",
    "| **512** | ~10 years     | ~36 days  | ~3.6 days | ~8.6 hours | ~5 minutes | \n",
    "| **768** | ~600 years    | ~6 years  | ~2.2 years| ~7.9 months| ~5 days    | \n",
    "| **1024** | ~30,000 years | ~300 years| ~30 years | ~3 years   | ~10 days   | \n",
    "| **2048** | ~1B years     | ~10M years| ~1M years | ~100k years| ~1,000 years| \n",
    "| **4096** | ~10¹⁵ years   | ~10¹³ years| ~10¹² years| ~10¹¹ years| ~10⁹ years |\n",
    "\n",
    "As we can see, classical computers have no hope of cracking RSA today. But what about the emerging world of quantum computing ? Could it succeed where classical machines fail?"
   ]
  },
  {
   "cell_type": "markdown",
   "id": "90935a90-33b3-41eb-b03a-7dbc252da6f7",
   "metadata": {},
   "source": [
    "## III) Foundations of Quantum Physics"
   ]
  },
  {
   "cell_type": "markdown",
   "id": "b2ea210a-d121-406b-bdc6-7161f22621ab",
   "metadata": {},
   "source": [
    "### Brief Introduction"
   ]
  },
  {
   "cell_type": "markdown",
   "id": "822364d4-5676-4da4-8fec-7a66595da4d2",
   "metadata": {},
   "source": [
    "### Superposition and no-cloning theorem"
   ]
  },
  {
   "cell_type": "markdown",
   "id": "5ced1bdb-c508-4e58-9674-f75304fa7b99",
   "metadata": {},
   "source": [
    "### Entanglement"
   ]
  },
  {
   "cell_type": "markdown",
   "id": "9e1a49f6-6764-4021-8f98-30c2dcc07946",
   "metadata": {},
   "source": [
    "## IV) Discover the Quantum Computers"
   ]
  },
  {
   "cell_type": "markdown",
   "id": "74718406-6ecf-480b-b7a0-4e43655582f0",
   "metadata": {},
   "source": [
    "### What is a quantum computer"
   ]
  },
  {
   "cell_type": "markdown",
   "id": "a1aefbd9-934d-4a8d-956e-7764adf1865b",
   "metadata": {},
   "source": [
    "### What is a qubit & how to measure a state ?"
   ]
  },
  {
   "cell_type": "markdown",
   "id": "b77bbb7e-35a1-41ba-8d8d-869a0dba3f8c",
   "metadata": {},
   "source": [
    "### Quantum Circuits & Gates"
   ]
  },
  {
   "cell_type": "markdown",
   "id": "f6e31b4a-f537-41c6-9642-7bd14eea2662",
   "metadata": {},
   "source": [
    "### Advanced Concepts and Further Reading"
   ]
  },
  {
   "cell_type": "markdown",
   "id": "a7659155-707b-4d7c-9ef4-65d298c73c97",
   "metadata": {},
   "source": [
    "#### Relaxation (T1) and Decoherence (T2) times in quantum world"
   ]
  },
  {
   "cell_type": "markdown",
   "id": "794382ca-54d3-4236-a887-5d537cf3229f",
   "metadata": {},
   "source": [
    "#### Further reading"
   ]
  },
  {
   "cell_type": "markdown",
   "id": "d67c93cd-d6ff-4501-bdda-41415aa429de",
   "metadata": {},
   "source": [
    "## V) Setting up our first algorithm for quantum computers"
   ]
  },
  {
   "cell_type": "markdown",
   "id": "1459f287-7b2a-444d-9218-bf72766244c4",
   "metadata": {},
   "source": [
    "### Setting up qiskit"
   ]
  },
  {
   "cell_type": "markdown",
   "id": "ff5962cb-0032-4cf5-8b4a-2ccf23996b00",
   "metadata": {},
   "source": [
    "Here is a function to run your circuit on a simulator"
   ]
  },
  {
   "cell_type": "markdown",
   "id": "820c6540-52af-4ceb-8d3a-411de17555f8",
   "metadata": {},
   "source": [
    "We will be running the functions on a quantum computer simulator so you don't have to setup a IBM qiskit account. All the required packages are already installed. If you want to run your code on a real quantum hardware we advice you to follow the steps [here](https://canvas.kth.se/courses/56029/pages/tutorial-ibm-quantum-platform-upgraded-login-api-key-and-your-first-run-bell-pair?module_item_id=1256103)."
   ]
  },
  {
   "cell_type": "code",
   "execution_count": 1,
   "id": "39c5f8a7-e188-4d6f-8a96-62f96d1c93e6",
   "metadata": {},
   "outputs": [],
   "source": [
    "def run_simulation(qc, shots=1024):\n",
    "    simulator = AerSimulator()\n",
    "    compiled_circuit = transpile(qc, simulator)\n",
    "    job = simulator.run(compiled_circuit, shots=shots)\n",
    "    result = job.result()\n",
    "    counts = result.get_counts()\n",
    "    return counts"
   ]
  },
  {
   "cell_type": "markdown",
   "id": "3cb06902-cabe-4892-8671-31bd79be8fc4",
   "metadata": {},
   "source": [
    "### First Algorithm (QRNG)"
   ]
  },
  {
   "cell_type": "markdown",
   "id": "1d660625-265e-4920-915b-f5c8de83bfc6",
   "metadata": {},
   "source": [
    "In **quantum computing**, one of the simplest yet most powerful applications is the generation of **random numbers**.  \n",
    "\n",
    "In **classical computing**, we usually rely on *pseudo-random number generators (PRNGs)*.  \n",
    "These algorithms create numbers that **look random**, but they are ultimately **deterministic** if the algorithm and the initial seed are known.\n",
    "\n",
    "---\n",
    "\n",
    "#### How the Algorithm Works\n",
    "\n",
    "Think of a **qubit** like a magic coin:\n",
    "\n",
    "1. **Start:**  \n",
    "   It’s set to heads ($|0⟩$) by default.\n",
    "\n",
    "2. **Hadamard gate (H):**  \n",
    "   This is like spinning the coin perfectly.  \n",
    "   While it’s spinning, it’s in a **superposition**, not just heads or tails, but both at once.\n",
    "\n",
    "3. **Measure:**  \n",
    "   You “catch” the coin. The spin stops, and it becomes either heads or tails.  \n",
    "   In quantum terms, the qubit **collapses** to $0$ or $1$, each with a 50% chance.\n",
    "\n",
    "If you **spin and measure** the qubit many times, you get a list of 0s and 1s that’s **truly random**. In our case we are going to use 3 qubits to directly form a number of 3 bits.\n",
    "\n",
    "That’s a **Quantum Random Number Generator (QRNG)**. \n",
    "\n",
    "Now we have to try to implement it.\n"
   ]
  },
  {
   "cell_type": "markdown",
   "id": "dfb2f481-1791-45fc-ad8b-04038efb8997",
   "metadata": {},
   "source": [
    "First we have to create a circuit"
   ]
  },
  {
   "cell_type": "code",
   "execution_count": 2,
   "id": "37d9d598-8ad1-4077-aa04-c191fe2f37e1",
   "metadata": {},
   "outputs": [
    {
     "ename": "NameError",
     "evalue": "name 'QuantumCircuit' is not defined",
     "output_type": "error",
     "traceback": [
      "\u001b[0;31m---------------------------------------------------------------------------\u001b[0m",
      "\u001b[0;31mNameError\u001b[0m                                 Traceback (most recent call last)",
      "Cell \u001b[0;32mIn[2], line 2\u001b[0m\n\u001b[1;32m      1\u001b[0m n \u001b[38;5;241m=\u001b[39m \u001b[38;5;241m3\u001b[39m\n\u001b[0;32m----> 2\u001b[0m qc \u001b[38;5;241m=\u001b[39m QuantumCircuit(n)\n",
      "\u001b[0;31mNameError\u001b[0m: name 'QuantumCircuit' is not defined"
     ]
    }
   ],
   "source": [
    "n = 3\n",
    "qc = QuantumCircuit(n) #We use the QuantumCircuit primitive and specify the number of qubits\n",
    "# The initial state of the cicuit is every qubit in state 0"
   ]
  },
  {
   "cell_type": "markdown",
   "id": "cf65aeb0-2226-42c2-856d-677137014cf8",
   "metadata": {},
   "source": [
    "Then we have to add the gates we are going to use on the qubits"
   ]
  },
  {
   "cell_type": "code",
   "execution_count": 3,
   "id": "c1f053ad-dcd0-4a6c-8304-0f9d4d72def6",
   "metadata": {},
   "outputs": [
    {
     "ename": "NameError",
     "evalue": "name 'qc' is not defined",
     "output_type": "error",
     "traceback": [
      "\u001b[0;31m---------------------------------------------------------------------------\u001b[0m",
      "\u001b[0;31mNameError\u001b[0m                                 Traceback (most recent call last)",
      "Cell \u001b[0;32mIn[3], line 2\u001b[0m\n\u001b[1;32m      1\u001b[0m \u001b[38;5;28;01mfor\u001b[39;00m i \u001b[38;5;129;01min\u001b[39;00m \u001b[38;5;28mrange\u001b[39m(n):\n\u001b[0;32m----> 2\u001b[0m     qc\u001b[38;5;241m.\u001b[39mh(i)\n",
      "\u001b[0;31mNameError\u001b[0m: name 'qc' is not defined"
     ]
    }
   ],
   "source": [
    "for i in range(n):\n",
    "    qc.h(i) #We apply the hadamard gate on every qubit as seen in the algorithm before\n",
    "    # This will put every qubit in superposition (like spinning a coin)"
   ]
  },
  {
   "cell_type": "markdown",
   "id": "7a30464f-8ba5-45a0-952a-77a926bfb21c",
   "metadata": {},
   "source": [
    "Then we have to measure the state of the qubits "
   ]
  },
  {
   "cell_type": "code",
   "execution_count": 4,
   "id": "a79a8432-8f67-415d-bf96-bb017054a6b4",
   "metadata": {},
   "outputs": [
    {
     "ename": "NameError",
     "evalue": "name 'qc' is not defined",
     "output_type": "error",
     "traceback": [
      "\u001b[0;31m---------------------------------------------------------------------------\u001b[0m",
      "\u001b[0;31mNameError\u001b[0m                                 Traceback (most recent call last)",
      "Cell \u001b[0;32mIn[4], line 1\u001b[0m\n\u001b[0;32m----> 1\u001b[0m qc\u001b[38;5;241m.\u001b[39mmeasure_all(n)\n",
      "\u001b[0;31mNameError\u001b[0m: name 'qc' is not defined"
     ]
    }
   ],
   "source": [
    "qc.measure_all(n) #We use this function because we want to measure all the qubits. This will collapse the state of one qubit to be 0 or 1 \n",
    "# and store the result in a so called measuring bit"
   ]
  },
  {
   "cell_type": "markdown",
   "id": "dda9df73-3751-42df-a933-482bf75590fd",
   "metadata": {},
   "source": [
    "We can visualise the circuit"
   ]
  },
  {
   "cell_type": "code",
   "execution_count": 5,
   "id": "972e1f99-3b4a-45f9-a96a-2027ad9a027f",
   "metadata": {},
   "outputs": [
    {
     "ename": "NameError",
     "evalue": "name 'qc' is not defined",
     "output_type": "error",
     "traceback": [
      "\u001b[0;31m---------------------------------------------------------------------------\u001b[0m",
      "\u001b[0;31mNameError\u001b[0m                                 Traceback (most recent call last)",
      "Cell \u001b[0;32mIn[5], line 1\u001b[0m\n\u001b[0;32m----> 1\u001b[0m qc\u001b[38;5;241m.\u001b[39mdraw(\u001b[38;5;124m'\u001b[39m\u001b[38;5;124mmpl\u001b[39m\u001b[38;5;124m'\u001b[39m)\n",
      "\u001b[0;31mNameError\u001b[0m: name 'qc' is not defined"
     ]
    }
   ],
   "source": [
    "qc.draw('mpl')"
   ]
  },
  {
   "cell_type": "markdown",
   "id": "a6ad88b3-0d4e-4259-8175-771e9e8de583",
   "metadata": {},
   "source": [
    "Then we have to run the simulation. We have to run the simulation many times to have good results. In fact, each run of a quantum circuit gives only **one random outcome** (e.g., `0` or `1`). Because quantum results are **probabilistic**, we must repeat the circuit many times (called *shots*) to estimate the **true probabilities** of each outcome (More runs = more accurate results). In our case we will run the simulation 1024 times."
   ]
  },
  {
   "cell_type": "code",
   "execution_count": null,
   "id": "a0a36914-9761-40e1-a3ab-b3342a27356f",
   "metadata": {},
   "outputs": [],
   "source": [
    "results = run_simulation(qc, shots=1024)\n",
    "print(results)"
   ]
  },
  {
   "cell_type": "markdown",
   "id": "569f3ef3-85c4-43c9-9433-c0f51c89832d",
   "metadata": {},
   "source": [
    "The result is a dictionnary with key an output of a simulation and value how many time this value appeared during all the 1024 simulations. But this isn't a good way to visualise it. It would be more representative with a plot. Fortunately qiskit has a way to do it with 'plot_histogram'."
   ]
  },
  {
   "cell_type": "code",
   "execution_count": 6,
   "id": "6a66fdc1-f1be-48e4-aeef-e07b714c0022",
   "metadata": {},
   "outputs": [
    {
     "ename": "NameError",
     "evalue": "name 'plot_histogram' is not defined",
     "output_type": "error",
     "traceback": [
      "\u001b[0;31m---------------------------------------------------------------------------\u001b[0m",
      "\u001b[0;31mNameError\u001b[0m                                 Traceback (most recent call last)",
      "Cell \u001b[0;32mIn[6], line 1\u001b[0m\n\u001b[0;32m----> 1\u001b[0m plot_histogram(results)\n",
      "\u001b[0;31mNameError\u001b[0m: name 'plot_histogram' is not defined"
     ]
    }
   ],
   "source": [
    "plot_histogram(results)"
   ]
  },
  {
   "cell_type": "markdown",
   "id": "9fbbf87b-1044-44c9-9fe0-f7441286e2d5",
   "metadata": {},
   "source": [
    "We can see that the outcome is truly random making each 3 bits numbers equally likely. We really have implemented a quantum random generator."
   ]
  },
  {
   "cell_type": "markdown",
   "id": "5c793bb9-2db9-4b83-aec3-cb7a3ea85e67",
   "metadata": {},
   "source": [
    "## VI) Crack RSA with Quantum Computers"
   ]
  },
  {
   "cell_type": "markdown",
   "id": "6ec405b7-e841-4ae0-90eb-caf2d6c6a361",
   "metadata": {},
   "source": [
    "### Shor Algorithm\n"
   ]
  },
  {
   "cell_type": "markdown",
   "id": "53684c99-b5f2-49b9-b387-18758088aaee",
   "metadata": {},
   "source": [
    "### Step-by-Step Tutorial: Implementing Shor's Algorithm in Qiskit"
   ]
  },
  {
   "cell_type": "markdown",
   "id": "7bd28b26-de7d-404a-8dca-fe569b46cddf",
   "metadata": {},
   "source": [
    "## VII) Is security of our data compromised ?"
   ]
  },
  {
   "cell_type": "markdown",
   "id": "a32c514b-a02a-47fd-85e2-2a9927bd6acb",
   "metadata": {},
   "source": [
    "### Quantum Computers are yet not powerful enough"
   ]
  },
  {
   "cell_type": "markdown",
   "id": "ff007130-a215-4d8a-bd0e-8868b1c6c953",
   "metadata": {},
   "source": [
    "Although Shor’s algorithm provides a polynomial-time method for integer factorization, its practical application is severely limited by the current state of quantum hardware. Experimental demonstrations have so far only managed to factor very small numbers, with the most reliable implementations handling integers such as **15** and **21**.  \n",
    "\n",
    "**Guess what?** *YOU have implemented a circuit that factors 15!* So you officially belong to the elite ranks of quantum computing pioneers :).\n",
    "\n",
    "These results validate the algorithm but highlight the vast gap between theoretical capability and cryptographically relevant problem sizes.\n",
    "\n",
    "Estimates for breaking a **2048-bit RSA modulus** remain far beyond present technology. Factoring such a number is projected to require approximately **20 million physical qubits** when error correction overhead is considered. Even with algorithmic optimizations, the requirement is unlikely to fall below **one million physical qubits**. By contrast, the most advanced hardware currently available contains just over **1,000 qubits** (such as IBM’s *Condor* processor with **1,121 qubits**), underscoring the enormous gap between experimental capability and the resources required to compromise RSA in practice.  \n",
    "\n",
    "The circuit depth of Shor’s algorithm scales quadratically with the key size, and at this scale, execution would demand **trillions of sequential quantum gate operations**—orders of magnitude beyond the **coherence times of existing devices** (IBM's best hardware has a coherence time of **400 microseconds**). In addition, the total energy expenditure for such a computation has been estimated in the **tens of megawatt-hours**, comparable to the continuous operation of a small industrial facility.\n",
    "\n",
    "In summary, while RSA is theoretically vulnerable to quantum factorization, the hardware required to execute such an attack does not yet exist. Present-day quantum computers remain **millions of qubits** and several technological breakthroughs away from posing a realistic threat to widely used cryptographic key sizes."
   ]
  },
  {
   "cell_type": "markdown",
   "id": "d59315e8-473e-4ba9-b171-84ebb2d6de42",
   "metadata": {},
   "source": [
    "### Classical methods such as Elliptic Curve Cryptography cannot be crack by quantum computers (yet)"
   ]
  },
  {
   "cell_type": "markdown",
   "id": "7893f131-98bc-4481-a582-715df24adce3",
   "metadata": {},
   "source": [
    "### Quantum Cryptography based on superposition and entanglement (Bell's Pairs)"
   ]
  },
  {
   "cell_type": "markdown",
   "id": "85ae9bc5-e6cd-4e55-9df0-fcdd63b1f647",
   "metadata": {},
   "source": [
    "#### You are done with this lab ! Hope you liked it that and you have learned a bit more about cryptography today and the quantum world!"
   ]
  }
 ],
 "metadata": {
  "kernelspec": {
   "display_name": "Python 3 (ipykernel)",
   "language": "python",
   "name": "python3"
  },
  "language_info": {
   "codemirror_mode": {
    "name": "ipython",
    "version": 3
   },
   "file_extension": ".py",
   "mimetype": "text/x-python",
   "name": "python",
   "nbconvert_exporter": "python",
   "pygments_lexer": "ipython3",
   "version": "3.13.5"
  }
 },
 "nbformat": 4,
 "nbformat_minor": 5
}
